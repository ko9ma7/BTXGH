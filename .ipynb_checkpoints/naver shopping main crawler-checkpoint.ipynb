{
 "cells": [
  {
   "cell_type": "code",
   "execution_count": 4,
   "metadata": {},
   "outputs": [],
   "source": [
    "import requests\n",
    "from bs4 import BeautifulSoup\n",
    "import json\n",
    "import pandas as pd"
   ]
  },
  {
   "cell_type": "code",
   "execution_count": 5,
   "metadata": {},
   "outputs": [],
   "source": [
    "def getProductInfo(li):\n",
    "    # print(li)\n",
    "    img = li.find(\"img\")\n",
    "    alt = img['alt']\n",
    "    priceReload = li.find(\"span\", {\"class\":\"_price_reload\"})\n",
    "    date = li.find(\"span\", {\"class\":\"date\"})\n",
    "    categ = li.find('span', {'class':'depth'})\n",
    "    categ2 = categ.find_all('a')[2]\n",
    "    reviewnum = li.find('span',{'class':'etc'})\n",
    "    reviewnum2 = reviewnum.find('a em')\n",
    "#     reviewnum3 = reviewnum2.find('em')\n",
    "    aTit = li.find(\"a\", {\"class\":\"tit\"})\n",
    "    href = aTit['href']\n",
    "    r = requests.get(href)\n",
    "\n",
    "    return {\"name\":alt, \"price\":priceReload.text.replace(\",\", \"\"), \"link\":r.url[:250], \"date\":date.text.replace(\",\", \"\")[4:], 'categ':categ2.text}\n",
    "\n",
    "def parse(pageString):\n",
    "    bsObj = BeautifulSoup(pageString, \"html.parser\")\n",
    "    ul = bsObj.find(\"ul\", {\"class\":\"goods_list\"})\n",
    "    lis = ul.findAll(\"li\", {\"class\":\"_itemSection\"})\n",
    "\n",
    "    products = []\n",
    "    for li in lis:\n",
    "        try:\n",
    "            product = getProductInfo(li)\n",
    "            products.append(product)\n",
    "        except:\n",
    "            print(\"--error--\")\n",
    "\n",
    "    return products"
   ]
  },
  {
   "cell_type": "code",
   "execution_count": 6,
   "metadata": {
    "scrolled": true
   },
   "outputs": [
    {
     "name": "stdout",
     "output_type": "stream",
     "text": [
      "<Response [200]> https://search.shopping.naver.com/search/category.nhn?pagingIndex=1&pagingSize=40&viewType=list&sort=review&cat_id=50000202\n",
      "<Response [200]> https://search.shopping.naver.com/search/category.nhn?pagingIndex=2&pagingSize=40&viewType=list&sort=review&cat_id=50000202\n",
      "--error--\n",
      "<Response [200]> https://search.shopping.naver.com/search/category.nhn?pagingIndex=3&pagingSize=40&viewType=list&sort=review&cat_id=50000202\n",
      "--error--\n",
      "<Response [200]> https://search.shopping.naver.com/search/category.nhn?pagingIndex=4&pagingSize=40&viewType=list&sort=review&cat_id=50000202\n",
      "<Response [200]> https://search.shopping.naver.com/search/category.nhn?pagingIndex=5&pagingSize=40&viewType=list&sort=review&cat_id=50000202\n",
      "<Response [200]> https://search.shopping.naver.com/search/category.nhn?pagingIndex=6&pagingSize=40&viewType=list&sort=review&cat_id=50000202\n",
      "--error--\n",
      "--error--\n",
      "<Response [200]> https://search.shopping.naver.com/search/category.nhn?pagingIndex=7&pagingSize=40&viewType=list&sort=review&cat_id=50000202\n",
      "--error--\n",
      "--error--\n",
      "<Response [200]> https://search.shopping.naver.com/search/category.nhn?pagingIndex=8&pagingSize=40&viewType=list&sort=review&cat_id=50000202\n",
      "--error--\n",
      "<Response [200]> https://search.shopping.naver.com/search/category.nhn?pagingIndex=9&pagingSize=40&viewType=list&sort=review&cat_id=50000202\n",
      "--error--\n",
      "<Response [200]> https://search.shopping.naver.com/search/category.nhn?pagingIndex=10&pagingSize=40&viewType=list&sort=review&cat_id=50000202\n",
      "392\n"
     ]
    },
    {
     "data": {
      "text/plain": [
       "171985"
      ]
     },
     "execution_count": 6,
     "metadata": {},
     "output_type": "execute_result"
    }
   ],
   "source": [
    "def crawl(pageNo):\n",
    "    url = \"https://search.shopping.naver.com/search/category.nhn?pagingIndex={}&pagingSize=40&viewType=list&sort=review&cat_id=50000202\".format(pageNo)\n",
    "    data = requests.get(url)\n",
    "    print(data, url)\n",
    "    return data.content\n",
    "\n",
    "totalProducts = []\n",
    "for pageNo in range(1, 10+1):\n",
    "    pageString = crawl(pageNo)\n",
    "    products = parse(pageString)\n",
    "    totalProducts += products\n",
    "    \n",
    "print(len(totalProducts))\n",
    "\n",
    "\n",
    "file = open(\"men.json\", \"w+\")\n",
    "file.write(json.dumps(totalProducts))"
   ]
  },
  {
   "cell_type": "code",
   "execution_count": 7,
   "metadata": {},
   "outputs": [
    {
     "name": "stdout",
     "output_type": "stream",
     "text": [
      "[{'name': '싸이닉 [1+1]파워 옴므 올인원 플루이드/썬플루이드/스킨케어/남성스킨/남자스킨/로션', 'price': '15000', 'link': 'http://cr2.shopping.naver.com/adcrNoti.nhn?x=G4nn7LBA1KtQF3k54uHIHf%2F%2F%2Fw%3D%3DsJ9pud9%2Fh051VVutgyAb2EqtsRpISFNjo6EgL6MnnizBhyomMOyOxoNc0AdETN4XFpytIpWz%2B%2FybwTeKxJ5pVKcUfR1p6M%2B1fBl5ixG5Xw8QU1lxjhJjALeaPEzQUGlin7LLd6GyYkmkrPZaMT2clhaVtjn7Cch', 'date': '2015.12.', 'categ': '에센스'}, {'name': '[베스트셀러] 입소문 남성화장품 미백 스킨+로션+로션+여행용세트', 'price': '24600', 'link': 'http://cr2.shopping.naver.com/adcrNoti.nhn?x=vXOv6T8OEwk3hFiwp2XkLf%2F%2F%2Fw%3D%3DsnFbelv7%2BU6dWatdJUX8PedTa43gDZU0VqqrKoa%2FjDlWt0F3t%2FxaDDqMXn89XSVmPxwtvxBesdZX4DC0x2ezU7gUoIm4naKko6ljI6w6NdyK5IFTc0gEvvLIxcBnAugQ31SPtwDf8FIF2%2BN9IfxEVp3A3X%2F67', 'date': '2009.05.', 'categ': '남성화장품세트'}, {'name': '[조성아22/아가타 外] 늦가을에 더 탱탱한 피부! 14종 중 택1', 'price': '73380', 'link': 'http://cr2.shopping.naver.com/adcrNoti.nhn?x=%2BlHIZaUUJH6ssovNrKabsP%2F%2F%2Fw%3D%3Dsjqif%2BUynPi9v7Ls%2F8YUeFHGhNGRUEWCUJt4gmliLkkjaqhUHqBKORTz6cD4Pu68Q0L61WJg2%2FyOQR6lIJO1NOuY5wONhH7KN%2BxY0geKcAlS4D8iXft068c%2FioQWKMDFKcv847OfVmfZ73npAek4vFaFyET', 'date': '2016.10.', 'categ': '남성화장품세트'}, {'name': '블랙 밤 (듀얼립밤)', 'price': '9800', 'link': 'http://cr2.shopping.naver.com/adcrNoti.nhn?x=YIJ7%2F%2FRkzTE5QhOjJhtbpv%2F%2F%2Fw%3D%3Ds8gjjJsqkdBACXh81NKTVMqCJBjXOTw6QXZF0QzuaVxPjzXb3%2BgjOy3ktvI5w95ggA0lGX6COcfw%2Bk77oOMPJeeY5wONhH7KN%2BxY0geKcAlS4D8iXft068c%2FioQWKMDFKNcIAfCSY324IvEei%2BRirzhKM', 'date': '2016.12.', 'categ': '메이크업'}, {'name': '남성키스밤 (남자립밤)', 'price': '9400', 'link': 'http://cr2.shopping.naver.com/adcrNoti.nhn?x=mUvQnSGtofa%2BpiOupoo7lf%2F%2F%2Fw%3D%3DsSq3mmiyMSY%2BVel3d2L7Q%2BV0M5D2eOFywW8wjkMW0HE0iyNBb93VZ4R22wd7KEm%2BjgcZYQF84Zmk59Jrvj0ejOeY5wONhH7KN%2BxY0geKcAlS4D8iXft068c%2FioQWKMDFKnn%2BKjzT2cbaLxeor4dS7%2F6', 'date': '2017.09.', 'categ': '메이크업'}]\n"
     ]
    }
   ],
   "source": [
    "print(totalProducts[:5])"
   ]
  },
  {
   "cell_type": "code",
   "execution_count": 9,
   "metadata": {},
   "outputs": [
    {
     "name": "stdout",
     "output_type": "stream",
     "text": [
      "categ    392\n",
      "date     392\n",
      "link     392\n",
      "name     392\n",
      "price    392\n",
      "dtype: int64\n"
     ]
    }
   ],
   "source": [
    "df = pd.read_json(\"men.json\")\n",
    "\n",
    "print(df.count())\n",
    "\n",
    "writer = pd.ExcelWriter(\"naver_main.xlsx\")\n",
    "df.to_excel(writer, \"sheet1\")\n",
    "writer.save()\n",
    "#openpyxl"
   ]
  },
  {
   "cell_type": "code",
   "execution_count": 10,
   "metadata": {},
   "outputs": [
    {
     "data": {
      "text/html": [
       "<div>\n",
       "<style scoped>\n",
       "    .dataframe tbody tr th:only-of-type {\n",
       "        vertical-align: middle;\n",
       "    }\n",
       "\n",
       "    .dataframe tbody tr th {\n",
       "        vertical-align: top;\n",
       "    }\n",
       "\n",
       "    .dataframe thead th {\n",
       "        text-align: right;\n",
       "    }\n",
       "</style>\n",
       "<table border=\"1\" class=\"dataframe\">\n",
       "  <thead>\n",
       "    <tr style=\"text-align: right;\">\n",
       "      <th></th>\n",
       "      <th>categ</th>\n",
       "      <th>date</th>\n",
       "      <th>link</th>\n",
       "      <th>name</th>\n",
       "      <th>price</th>\n",
       "    </tr>\n",
       "  </thead>\n",
       "  <tbody>\n",
       "    <tr>\n",
       "      <th>0</th>\n",
       "      <td>에센스</td>\n",
       "      <td>2015.12.</td>\n",
       "      <td>http://cr2.shopping.naver.com/adcrNoti.nhn?x=G...</td>\n",
       "      <td>싸이닉 [1+1]파워 옴므 올인원 플루이드/썬플루이드/스킨케어/남성스킨/남자스킨/로션</td>\n",
       "      <td>15000</td>\n",
       "    </tr>\n",
       "    <tr>\n",
       "      <th>1</th>\n",
       "      <td>남성화장품세트</td>\n",
       "      <td>2009.05.</td>\n",
       "      <td>http://cr2.shopping.naver.com/adcrNoti.nhn?x=v...</td>\n",
       "      <td>[베스트셀러] 입소문 남성화장품 미백 스킨+로션+로션+여행용세트</td>\n",
       "      <td>24600</td>\n",
       "    </tr>\n",
       "    <tr>\n",
       "      <th>2</th>\n",
       "      <td>남성화장품세트</td>\n",
       "      <td>2016.10.</td>\n",
       "      <td>http://cr2.shopping.naver.com/adcrNoti.nhn?x=%...</td>\n",
       "      <td>[조성아22/아가타 外] 늦가을에 더 탱탱한 피부! 14종 중 택1</td>\n",
       "      <td>73380</td>\n",
       "    </tr>\n",
       "    <tr>\n",
       "      <th>3</th>\n",
       "      <td>메이크업</td>\n",
       "      <td>2016.12.</td>\n",
       "      <td>http://cr2.shopping.naver.com/adcrNoti.nhn?x=Y...</td>\n",
       "      <td>블랙 밤 (듀얼립밤)</td>\n",
       "      <td>9800</td>\n",
       "    </tr>\n",
       "    <tr>\n",
       "      <th>4</th>\n",
       "      <td>메이크업</td>\n",
       "      <td>2017.09.</td>\n",
       "      <td>http://cr2.shopping.naver.com/adcrNoti.nhn?x=m...</td>\n",
       "      <td>남성키스밤 (남자립밤)</td>\n",
       "      <td>9400</td>\n",
       "    </tr>\n",
       "    <tr>\n",
       "      <th>5</th>\n",
       "      <td>올인원</td>\n",
       "      <td>2006.01.</td>\n",
       "      <td>https://search.shopping.naver.com/detail/detai...</td>\n",
       "      <td>캘빈클라인 CK ONE 모이스처라이저 250ml</td>\n",
       "      <td>17960</td>\n",
       "    </tr>\n",
       "    <tr>\n",
       "      <th>6</th>\n",
       "      <td>올인원</td>\n",
       "      <td>2017.07.</td>\n",
       "      <td>http://cr2.shopping.naver.com/adcrNoti.nhn?x=n...</td>\n",
       "      <td>올인원 데이&amp;나이트</td>\n",
       "      <td>28900</td>\n",
       "    </tr>\n",
       "    <tr>\n",
       "      <th>7</th>\n",
       "      <td>올인원</td>\n",
       "      <td>2012.04.</td>\n",
       "      <td>https://search.shopping.naver.com/detail/detai...</td>\n",
       "      <td>우르오스 올인원 모이스처라이저 스킨 로션 200ml(지복합)</td>\n",
       "      <td>20440</td>\n",
       "    </tr>\n",
       "    <tr>\n",
       "      <th>8</th>\n",
       "      <td>메이크업</td>\n",
       "      <td>2017.08.</td>\n",
       "      <td>https://search.shopping.naver.com/detail/detai...</td>\n",
       "      <td>블랙몬스터 블랙 밤 4.8g</td>\n",
       "      <td>8250</td>\n",
       "    </tr>\n",
       "    <tr>\n",
       "      <th>9</th>\n",
       "      <td>올인원</td>\n",
       "      <td>2018.12.</td>\n",
       "      <td>http://cr2.shopping.naver.com/adcrNoti.nhn?x=J...</td>\n",
       "      <td>남성 올인원 로션 파브리지오맨 화장품 남자 주름개선 남친 아빠 선물</td>\n",
       "      <td>59800</td>\n",
       "    </tr>\n",
       "  </tbody>\n",
       "</table>\n",
       "</div>"
      ],
      "text/plain": [
       "     categ      date                                               link  \\\n",
       "0      에센스  2015.12.  http://cr2.shopping.naver.com/adcrNoti.nhn?x=G...   \n",
       "1  남성화장품세트  2009.05.  http://cr2.shopping.naver.com/adcrNoti.nhn?x=v...   \n",
       "2  남성화장품세트  2016.10.  http://cr2.shopping.naver.com/adcrNoti.nhn?x=%...   \n",
       "3     메이크업  2016.12.  http://cr2.shopping.naver.com/adcrNoti.nhn?x=Y...   \n",
       "4     메이크업  2017.09.  http://cr2.shopping.naver.com/adcrNoti.nhn?x=m...   \n",
       "5      올인원  2006.01.  https://search.shopping.naver.com/detail/detai...   \n",
       "6      올인원  2017.07.  http://cr2.shopping.naver.com/adcrNoti.nhn?x=n...   \n",
       "7      올인원  2012.04.  https://search.shopping.naver.com/detail/detai...   \n",
       "8     메이크업  2017.08.  https://search.shopping.naver.com/detail/detai...   \n",
       "9      올인원  2018.12.  http://cr2.shopping.naver.com/adcrNoti.nhn?x=J...   \n",
       "\n",
       "                                              name  price  \n",
       "0  싸이닉 [1+1]파워 옴므 올인원 플루이드/썬플루이드/스킨케어/남성스킨/남자스킨/로션  15000  \n",
       "1              [베스트셀러] 입소문 남성화장품 미백 스킨+로션+로션+여행용세트  24600  \n",
       "2            [조성아22/아가타 外] 늦가을에 더 탱탱한 피부! 14종 중 택1  73380  \n",
       "3                                      블랙 밤 (듀얼립밤)   9800  \n",
       "4                                     남성키스밤 (남자립밤)   9400  \n",
       "5                       캘빈클라인 CK ONE 모이스처라이저 250ml  17960  \n",
       "6                                       올인원 데이&나이트  28900  \n",
       "7                우르오스 올인원 모이스처라이저 스킨 로션 200ml(지복합)  20440  \n",
       "8                                  블랙몬스터 블랙 밤 4.8g   8250  \n",
       "9            남성 올인원 로션 파브리지오맨 화장품 남자 주름개선 남친 아빠 선물  59800  "
      ]
     },
     "execution_count": 10,
     "metadata": {},
     "output_type": "execute_result"
    }
   ],
   "source": [
    "naver_main = pd.read_excel('naver_main.xlsx')\n",
    "naver_main.head(10)"
   ]
  },
  {
   "cell_type": "code",
   "execution_count": null,
   "metadata": {},
   "outputs": [],
   "source": []
  }
 ],
 "metadata": {
  "kernelspec": {
   "display_name": "Python 3",
   "language": "python",
   "name": "python3"
  },
  "language_info": {
   "codemirror_mode": {
    "name": "ipython",
    "version": 3
   },
   "file_extension": ".py",
   "mimetype": "text/x-python",
   "name": "python",
   "nbconvert_exporter": "python",
   "pygments_lexer": "ipython3",
   "version": "3.6.5"
  }
 },
 "nbformat": 4,
 "nbformat_minor": 2
}
