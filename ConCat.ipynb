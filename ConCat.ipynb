{
 "cells": [
  {
   "cell_type": "code",
   "execution_count": 1,
   "metadata": {},
   "outputs": [],
   "source": [
    "import pandas as pd\n",
    "import os"
   ]
  },
  {
   "cell_type": "code",
   "execution_count": 2,
   "metadata": {},
   "outputs": [
    {
     "data": {
      "text/plain": [
       "'C:\\\\Users\\\\HOME\\\\Desktop\\\\BTXGH'"
      ]
     },
     "execution_count": 2,
     "metadata": {},
     "output_type": "execute_result"
    }
   ],
   "source": [
    "os.getcwd()"
   ]
  },
  {
   "cell_type": "code",
   "execution_count": 4,
   "metadata": {},
   "outputs": [
    {
     "data": {
      "text/plain": [
       "['crawled__juuuuuuun_s_0.csv',\n",
       " 'crawled__juuuuuuun_s_1.csv',\n",
       " 'crawled__juuuuuuun_s_10.csv',\n",
       " 'crawled__juuuuuuun_s_11.csv',\n",
       " 'crawled__juuuuuuun_s_12.csv',\n",
       " 'crawled__juuuuuuun_s_2.csv',\n",
       " 'crawled__juuuuuuun_s_3.csv',\n",
       " 'crawled__juuuuuuun_s_4.csv',\n",
       " 'crawled__juuuuuuun_s_5.csv',\n",
       " 'crawled__juuuuuuun_s_6.csv',\n",
       " 'crawled__juuuuuuun_s_7.csv',\n",
       " 'crawled__juuuuuuun_s_8.csv',\n",
       " 'crawled__juuuuuuun_s_9.csv']"
      ]
     },
     "execution_count": 4,
     "metadata": {},
     "output_type": "execute_result"
    }
   ],
   "source": [
    "path = \"C:\\\\Users\\\\HOME\\\\Desktop/profile_crawler_0730/crawled_0730\"\n",
    "\n",
    "files = []\n",
    "# r=root, d=directories, f = files\n",
    "for r, d, f in os.walk(path):\n",
    "    for file in f:\n",
    "        if '.csv' in file:\n",
    "            files.append(file)\n",
    "\n",
    "files"
   ]
  },
  {
   "cell_type": "code",
   "execution_count": 5,
   "metadata": {},
   "outputs": [
    {
     "data": {
      "text/plain": [
       "13"
      ]
     },
     "execution_count": 5,
     "metadata": {},
     "output_type": "execute_result"
    }
   ],
   "source": [
    "dfs = []\n",
    "for file in files:\n",
    "    df = pd.read_csv(path+\"/\"+file, encoding='utf-8')\n",
    "    dfs.append(df)\n",
    "    \n",
    "len(dfs)"
   ]
  },
  {
   "cell_type": "code",
   "execution_count": 6,
   "metadata": {},
   "outputs": [
    {
     "name": "stderr",
     "output_type": "stream",
     "text": [
      "C:\\ProgramData\\Anaconda3\\lib\\site-packages\\ipykernel_launcher.py:1: FutureWarning: Sorting because non-concatenation axis is not aligned. A future version\n",
      "of pandas will change to not sort by default.\n",
      "\n",
      "To accept the future behavior, pass 'sort=False'.\n",
      "\n",
      "To retain the current behavior and silence the warning, pass 'sort=True'.\n",
      "\n",
      "  \"\"\"Entry point for launching an IPython kernel.\n"
     ]
    },
    {
     "data": {
      "text/html": [
       "<div>\n",
       "<style scoped>\n",
       "    .dataframe tbody tr th:only-of-type {\n",
       "        vertical-align: middle;\n",
       "    }\n",
       "\n",
       "    .dataframe tbody tr th {\n",
       "        vertical-align: top;\n",
       "    }\n",
       "\n",
       "    .dataframe thead th {\n",
       "        text-align: right;\n",
       "    }\n",
       "</style>\n",
       "<table border=\"1\" class=\"dataframe\">\n",
       "  <thead>\n",
       "    <tr style=\"text-align: right;\">\n",
       "      <th></th>\n",
       "      <th>Unnamed: 0</th>\n",
       "      <th>alias</th>\n",
       "      <th>bio</th>\n",
       "      <th>bio_url</th>\n",
       "      <th>followers</th>\n",
       "      <th>following</th>\n",
       "      <th>isprivate</th>\n",
       "      <th>num_of_posts</th>\n",
       "      <th>scraped</th>\n",
       "      <th>username</th>\n",
       "    </tr>\n",
       "  </thead>\n",
       "  <tbody>\n",
       "    <tr>\n",
       "      <th>0</th>\n",
       "      <td>0</td>\n",
       "      <td>K🍒</td>\n",
       "      <td>Hey!</td>\n",
       "      <td>NaN</td>\n",
       "      <td>91.0</td>\n",
       "      <td>1686.0</td>\n",
       "      <td>False</td>\n",
       "      <td>37.0</td>\n",
       "      <td>2019-07-30 16:00:03</td>\n",
       "      <td>prkjmn.___</td>\n",
       "    </tr>\n",
       "    <tr>\n",
       "      <th>1</th>\n",
       "      <td>1</td>\n",
       "      <td>J. JA€ kαπ</td>\n",
       "      <td>You are the cause of my Euphoria\\r\\n✌✌</td>\n",
       "      <td>NaN</td>\n",
       "      <td>145.0</td>\n",
       "      <td>554.0</td>\n",
       "      <td>False</td>\n",
       "      <td>22.0</td>\n",
       "      <td>2019-07-30 16:00:05</td>\n",
       "      <td>suchanya.a</td>\n",
       "    </tr>\n",
       "    <tr>\n",
       "      <th>2</th>\n",
       "      <td>2</td>\n",
       "      <td>NaN</td>\n",
       "      <td>NaN</td>\n",
       "      <td>NaN</td>\n",
       "      <td>18.0</td>\n",
       "      <td>1247.0</td>\n",
       "      <td>False</td>\n",
       "      <td>1.0</td>\n",
       "      <td>2019-07-30 16:00:07</td>\n",
       "      <td>chsaera</td>\n",
       "    </tr>\n",
       "    <tr>\n",
       "      <th>3</th>\n",
       "      <td>3</td>\n",
       "      <td>G4EVER</td>\n",
       "      <td>💜 We are a G4EVER\\r\\n💙 Welcome to our Dream ✨\\...</td>\n",
       "      <td>NaN</td>\n",
       "      <td>248.0</td>\n",
       "      <td>177.0</td>\n",
       "      <td>False</td>\n",
       "      <td>3.0</td>\n",
       "      <td>2019-07-30 16:00:11</td>\n",
       "      <td>girls_forever_4</td>\n",
       "    </tr>\n",
       "    <tr>\n",
       "      <th>4</th>\n",
       "      <td>4</td>\n",
       "      <td>⚡BITION BOYZ IS MY RELIGION⚡</td>\n",
       "      <td>Stan @keemhyoeun @zenethezilla @skinnybrownn @...</td>\n",
       "      <td>m.youtube.com/watch?v=5FV74Nbu0i0</td>\n",
       "      <td>304.0</td>\n",
       "      <td>1660.0</td>\n",
       "      <td>False</td>\n",
       "      <td>411.0</td>\n",
       "      <td>2019-07-30 16:00:14</td>\n",
       "      <td>bex_gonisaur</td>\n",
       "    </tr>\n",
       "  </tbody>\n",
       "</table>\n",
       "</div>"
      ],
      "text/plain": [
       "  Unnamed: 0                         alias  \\\n",
       "0          0                            K🍒   \n",
       "1          1                    J. JA€ kαπ   \n",
       "2          2                           NaN   \n",
       "3          3                        G4EVER   \n",
       "4          4  ⚡BITION BOYZ IS MY RELIGION⚡   \n",
       "\n",
       "                                                 bio  \\\n",
       "0                                               Hey!   \n",
       "1             You are the cause of my Euphoria\\r\\n✌✌   \n",
       "2                                                NaN   \n",
       "3  💜 We are a G4EVER\\r\\n💙 Welcome to our Dream ✨\\...   \n",
       "4  Stan @keemhyoeun @zenethezilla @skinnybrownn @...   \n",
       "\n",
       "                             bio_url  followers  following isprivate  \\\n",
       "0                                NaN       91.0     1686.0     False   \n",
       "1                                NaN      145.0      554.0     False   \n",
       "2                                NaN       18.0     1247.0     False   \n",
       "3                                NaN      248.0      177.0     False   \n",
       "4  m.youtube.com/watch?v=5FV74Nbu0i0      304.0     1660.0     False   \n",
       "\n",
       "   num_of_posts              scraped         username  \n",
       "0          37.0  2019-07-30 16:00:03       prkjmn.___  \n",
       "1          22.0  2019-07-30 16:00:05       suchanya.a  \n",
       "2           1.0  2019-07-30 16:00:07          chsaera  \n",
       "3           3.0  2019-07-30 16:00:11  girls_forever_4  \n",
       "4         411.0  2019-07-30 16:00:14     bex_gonisaur  "
      ]
     },
     "execution_count": 6,
     "metadata": {},
     "output_type": "execute_result"
    }
   ],
   "source": [
    "total = pd.concat(dfs)\n",
    "total.head()"
   ]
  },
  {
   "cell_type": "code",
   "execution_count": 7,
   "metadata": {},
   "outputs": [],
   "source": [
    "total.to_csv('crawled__juuuuuuun_s_.csv')"
   ]
  },
  {
   "cell_type": "code",
   "execution_count": null,
   "metadata": {},
   "outputs": [],
   "source": []
  }
 ],
 "metadata": {
  "kernelspec": {
   "display_name": "Python 3",
   "language": "python",
   "name": "python3"
  },
  "language_info": {
   "codemirror_mode": {
    "name": "ipython",
    "version": 3
   },
   "file_extension": ".py",
   "mimetype": "text/x-python",
   "name": "python",
   "nbconvert_exporter": "python",
   "pygments_lexer": "ipython3",
   "version": "3.6.5"
  }
 },
 "nbformat": 4,
 "nbformat_minor": 2
}
