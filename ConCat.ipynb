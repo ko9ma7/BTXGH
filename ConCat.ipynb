{
 "cells": [
  {
   "cell_type": "code",
   "execution_count": 1,
   "metadata": {},
   "outputs": [],
   "source": [
    "import pandas as pd\n",
    "import os"
   ]
  },
  {
   "cell_type": "code",
   "execution_count": 2,
   "metadata": {},
   "outputs": [
    {
     "data": {
      "text/plain": [
       "'C:\\\\Users\\\\rin46\\\\Desktop\\\\btxgh'"
      ]
     },
     "execution_count": 2,
     "metadata": {},
     "output_type": "execute_result"
    }
   ],
   "source": [
    "os.getcwd()"
   ]
  },
  {
   "cell_type": "code",
   "execution_count": 3,
   "metadata": {},
   "outputs": [
    {
     "data": {
      "text/plain": [
       "['crawled_hoon.xun_0.csv',\n",
       " 'crawled_hoon.xun_1.csv',\n",
       " 'crawled_hoon.xun_10.csv',\n",
       " 'crawled_hoon.xun_11.csv',\n",
       " 'crawled_hoon.xun_12.csv',\n",
       " 'crawled_hoon.xun_2.csv',\n",
       " 'crawled_hoon.xun_3.csv',\n",
       " 'crawled_hoon.xun_4.csv',\n",
       " 'crawled_hoon.xun_5.csv',\n",
       " 'crawled_hoon.xun_6.csv',\n",
       " 'crawled_hoon.xun_7.csv',\n",
       " 'crawled_hoon.xun_8.csv',\n",
       " 'crawled_hoon.xun_9.csv']"
      ]
     },
     "execution_count": 3,
     "metadata": {},
     "output_type": "execute_result"
    }
   ],
   "source": [
    "path = \"../profile_crawler_0730/crawled_0730\"\n",
    "\n",
    "files = []\n",
    "# r=root, d=directories, f = files\n",
    "for r, d, f in os.walk(path):\n",
    "    for file in f:\n",
    "        if '.csv' in file:\n",
    "            files.append(file)\n",
    "\n",
    "files"
   ]
  },
  {
   "cell_type": "code",
   "execution_count": 5,
   "metadata": {},
   "outputs": [
    {
     "data": {
      "text/plain": [
       "13"
      ]
     },
     "execution_count": 5,
     "metadata": {},
     "output_type": "execute_result"
    }
   ],
   "source": [
    "dfs = []\n",
    "for file in files:\n",
    "    df = pd.read_csv(path+\"/\"+file, encoding='utf-8')\n",
    "    dfs.append(df)\n",
    "    \n",
    "len(dfs)"
   ]
  },
  {
   "cell_type": "code",
   "execution_count": 6,
   "metadata": {},
   "outputs": [
    {
     "name": "stderr",
     "output_type": "stream",
     "text": [
      "C:\\Users\\rin46\\Anaconda3\\envs\\py3\\lib\\site-packages\\ipykernel_launcher.py:1: FutureWarning: Sorting because non-concatenation axis is not aligned. A future version\n",
      "of pandas will change to not sort by default.\n",
      "\n",
      "To accept the future behavior, pass 'sort=False'.\n",
      "\n",
      "To retain the current behavior and silence the warning, pass 'sort=True'.\n",
      "\n",
      "  \"\"\"Entry point for launching an IPython kernel.\n"
     ]
    },
    {
     "data": {
      "text/html": [
       "<div>\n",
       "<style scoped>\n",
       "    .dataframe tbody tr th:only-of-type {\n",
       "        vertical-align: middle;\n",
       "    }\n",
       "\n",
       "    .dataframe tbody tr th {\n",
       "        vertical-align: top;\n",
       "    }\n",
       "\n",
       "    .dataframe thead th {\n",
       "        text-align: right;\n",
       "    }\n",
       "</style>\n",
       "<table border=\"1\" class=\"dataframe\">\n",
       "  <thead>\n",
       "    <tr style=\"text-align: right;\">\n",
       "      <th></th>\n",
       "      <th>Unnamed: 0</th>\n",
       "      <th>alias</th>\n",
       "      <th>bio</th>\n",
       "      <th>bio_url</th>\n",
       "      <th>followers</th>\n",
       "      <th>following</th>\n",
       "      <th>isprivate</th>\n",
       "      <th>num_of_posts</th>\n",
       "      <th>scraped</th>\n",
       "      <th>username</th>\n",
       "    </tr>\n",
       "  </thead>\n",
       "  <tbody>\n",
       "    <tr>\n",
       "      <th>0</th>\n",
       "      <td>0</td>\n",
       "      <td>PORPLA V.2</td>\n",
       "      <td>🖤The world is really nothing brautiful.🖤\\n#สถา...</td>\n",
       "      <td>NaN</td>\n",
       "      <td>6.0</td>\n",
       "      <td>160.0</td>\n",
       "      <td>False</td>\n",
       "      <td>0.0</td>\n",
       "      <td>2019-07-30 16:03:12</td>\n",
       "      <td>pplaapuueya</td>\n",
       "    </tr>\n",
       "    <tr>\n",
       "      <th>1</th>\n",
       "      <td>1</td>\n",
       "      <td>NaN</td>\n",
       "      <td>Army\\nItalia 🇮🇹 🇮🇹 🇮🇹\\nD'ora in poi saremo in ...</td>\n",
       "      <td>NaN</td>\n",
       "      <td>319.0</td>\n",
       "      <td>1187.0</td>\n",
       "      <td>False</td>\n",
       "      <td>24.0</td>\n",
       "      <td>2019-07-30 16:03:15</td>\n",
       "      <td>il_jungkook_di_tae</td>\n",
       "    </tr>\n",
       "    <tr>\n",
       "      <th>2</th>\n",
       "      <td>2</td>\n",
       "      <td>Johnnyyyyyyw</td>\n",
       "      <td>Macau Boy from Fujian\\nEMM🇲🇴\\n20020207</td>\n",
       "      <td>memsks.sarahah.com</td>\n",
       "      <td>106.0</td>\n",
       "      <td>350.0</td>\n",
       "      <td>True</td>\n",
       "      <td>12.0</td>\n",
       "      <td>2019-07-30 16:03:17</td>\n",
       "      <td>johnnyw2333</td>\n",
       "    </tr>\n",
       "    <tr>\n",
       "      <th>3</th>\n",
       "      <td>3</td>\n",
       "      <td>its_rm_its_v_and_its_lee</td>\n",
       "      <td>If we get to 500 followers I will make an edit...</td>\n",
       "      <td>NaN</td>\n",
       "      <td>172.0</td>\n",
       "      <td>1057.0</td>\n",
       "      <td>False</td>\n",
       "      <td>72.0</td>\n",
       "      <td>2019-07-30 16:03:19</td>\n",
       "      <td>its_rm_its_v_and_its_lee</td>\n",
       "    </tr>\n",
       "    <tr>\n",
       "      <th>4</th>\n",
       "      <td>4</td>\n",
       "      <td>dion syahputra</td>\n",
       "      <td>NaN</td>\n",
       "      <td>NaN</td>\n",
       "      <td>0.0</td>\n",
       "      <td>255.0</td>\n",
       "      <td>True</td>\n",
       "      <td>3.0</td>\n",
       "      <td>2019-07-30 16:03:20</td>\n",
       "      <td>rafaellputra222019</td>\n",
       "    </tr>\n",
       "  </tbody>\n",
       "</table>\n",
       "</div>"
      ],
      "text/plain": [
       "  Unnamed: 0                     alias  \\\n",
       "0          0                PORPLA V.2   \n",
       "1          1                       NaN   \n",
       "2          2              Johnnyyyyyyw   \n",
       "3          3  its_rm_its_v_and_its_lee   \n",
       "4          4            dion syahputra   \n",
       "\n",
       "                                                 bio             bio_url  \\\n",
       "0  🖤The world is really nothing brautiful.🖤\\n#สถา...                 NaN   \n",
       "1  Army\\nItalia 🇮🇹 🇮🇹 🇮🇹\\nD'ora in poi saremo in ...                 NaN   \n",
       "2             Macau Boy from Fujian\\nEMM🇲🇴\\n20020207  memsks.sarahah.com   \n",
       "3  If we get to 500 followers I will make an edit...                 NaN   \n",
       "4                                                NaN                 NaN   \n",
       "\n",
       "   followers  following isprivate  num_of_posts              scraped  \\\n",
       "0        6.0      160.0     False           0.0  2019-07-30 16:03:12   \n",
       "1      319.0     1187.0     False          24.0  2019-07-30 16:03:15   \n",
       "2      106.0      350.0      True          12.0  2019-07-30 16:03:17   \n",
       "3      172.0     1057.0     False          72.0  2019-07-30 16:03:19   \n",
       "4        0.0      255.0      True           3.0  2019-07-30 16:03:20   \n",
       "\n",
       "                   username  \n",
       "0               pplaapuueya  \n",
       "1        il_jungkook_di_tae  \n",
       "2               johnnyw2333  \n",
       "3  its_rm_its_v_and_its_lee  \n",
       "4        rafaellputra222019  "
      ]
     },
     "execution_count": 6,
     "metadata": {},
     "output_type": "execute_result"
    }
   ],
   "source": [
    "total = pd.concat(dfs)\n",
    "total.head()"
   ]
  },
  {
   "cell_type": "code",
   "execution_count": null,
   "metadata": {},
   "outputs": [],
   "source": []
  }
 ],
 "metadata": {
  "kernelspec": {
   "display_name": "Python 3",
   "language": "python",
   "name": "python3"
  },
  "language_info": {
   "codemirror_mode": {
    "name": "ipython",
    "version": 3
   },
   "file_extension": ".py",
   "mimetype": "text/x-python",
   "name": "python",
   "nbconvert_exporter": "python",
   "pygments_lexer": "ipython3",
   "version": "3.7.2"
  }
 },
 "nbformat": 4,
 "nbformat_minor": 2
}
