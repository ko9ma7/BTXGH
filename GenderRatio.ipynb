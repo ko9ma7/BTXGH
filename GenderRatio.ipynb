{
  "nbformat": 4,
  "nbformat_minor": 0,
  "metadata": {
    "colab": {
      "name": "Pyagender.ipynb",
      "version": "0.3.2",
      "provenance": [],
      "collapsed_sections": [],
      "include_colab_link": true
    },
    "kernelspec": {
      "name": "python3",
      "display_name": "Python 3"
    }
  },
  "cells": [
    {
      "cell_type": "markdown",
      "metadata": {
        "id": "view-in-github",
        "colab_type": "text"
      },
      "source": [
        "<a href=\"https://colab.research.google.com/github/yoongaemii/BTXGH/blob/master/GenderRatio.ipynb\" target=\"_parent\"><img src=\"https://colab.research.google.com/assets/colab-badge.svg\" alt=\"Open In Colab\"/></a>"
      ]
    },
    {
      "cell_type": "code",
      "metadata": {
        "id": "xr4SqWjxcO47",
        "colab_type": "code",
        "outputId": "4363a381-f80f-4cef-81fd-a75ab64fc89a",
        "colab": {
          "base_uri": "https://localhost:8080/",
          "height": 532
        }
      },
      "source": [
        "!pip install py-agender"
      ],
      "execution_count": 0,
      "outputs": [
        {
          "output_type": "stream",
          "text": [
            "Collecting py-agender\n",
            "\u001b[?25l  Downloading https://files.pythonhosted.org/packages/40/b7/3a04aaa8df0c9c923e97e93f9c99ad1daf055cbc8bd4086c8f0c9c0711e3/py_agender-0.0.8-py3-none-any.whl (188.3MB)\n",
            "\u001b[K     |████████████████████████████████| 188.3MB 141kB/s \n",
            "\u001b[?25hRequirement already satisfied: TensorFlow<1.19,>=1.10 in /usr/local/lib/python3.6/dist-packages (from py-agender) (1.14.0)\n",
            "Requirement already satisfied: opencv-python<3.99,>=3.3.0+contrib in /usr/local/lib/python3.6/dist-packages (from py-agender) (3.4.5.20)\n",
            "Requirement already satisfied: Keras>=2.1 in /usr/local/lib/python3.6/dist-packages (from py-agender) (2.2.4)\n",
            "Requirement already satisfied: numpy>=1.12 in /usr/local/lib/python3.6/dist-packages (from py-agender) (1.16.4)\n",
            "Requirement already satisfied: protobuf>=3.6.1 in /usr/local/lib/python3.6/dist-packages (from TensorFlow<1.19,>=1.10->py-agender) (3.7.1)\n",
            "Requirement already satisfied: six>=1.10.0 in /usr/local/lib/python3.6/dist-packages (from TensorFlow<1.19,>=1.10->py-agender) (1.12.0)\n",
            "Requirement already satisfied: tensorflow-estimator<1.15.0rc0,>=1.14.0rc0 in /usr/local/lib/python3.6/dist-packages (from TensorFlow<1.19,>=1.10->py-agender) (1.14.0)\n",
            "Requirement already satisfied: keras-applications>=1.0.6 in /usr/local/lib/python3.6/dist-packages (from TensorFlow<1.19,>=1.10->py-agender) (1.0.8)\n",
            "Requirement already satisfied: tensorboard<1.15.0,>=1.14.0 in /usr/local/lib/python3.6/dist-packages (from TensorFlow<1.19,>=1.10->py-agender) (1.14.0)\n",
            "Requirement already satisfied: grpcio>=1.8.6 in /usr/local/lib/python3.6/dist-packages (from TensorFlow<1.19,>=1.10->py-agender) (1.15.0)\n",
            "Requirement already satisfied: keras-preprocessing>=1.0.5 in /usr/local/lib/python3.6/dist-packages (from TensorFlow<1.19,>=1.10->py-agender) (1.1.0)\n",
            "Requirement already satisfied: termcolor>=1.1.0 in /usr/local/lib/python3.6/dist-packages (from TensorFlow<1.19,>=1.10->py-agender) (1.1.0)\n",
            "Requirement already satisfied: wrapt>=1.11.1 in /usr/local/lib/python3.6/dist-packages (from TensorFlow<1.19,>=1.10->py-agender) (1.11.2)\n",
            "Requirement already satisfied: astor>=0.6.0 in /usr/local/lib/python3.6/dist-packages (from TensorFlow<1.19,>=1.10->py-agender) (0.8.0)\n",
            "Requirement already satisfied: wheel>=0.26 in /usr/local/lib/python3.6/dist-packages (from TensorFlow<1.19,>=1.10->py-agender) (0.33.4)\n",
            "Requirement already satisfied: gast>=0.2.0 in /usr/local/lib/python3.6/dist-packages (from TensorFlow<1.19,>=1.10->py-agender) (0.2.2)\n",
            "Requirement already satisfied: google-pasta>=0.1.6 in /usr/local/lib/python3.6/dist-packages (from TensorFlow<1.19,>=1.10->py-agender) (0.1.7)\n",
            "Requirement already satisfied: absl-py>=0.7.0 in /usr/local/lib/python3.6/dist-packages (from TensorFlow<1.19,>=1.10->py-agender) (0.7.1)\n",
            "Requirement already satisfied: scipy>=0.14 in /usr/local/lib/python3.6/dist-packages (from Keras>=2.1->py-agender) (1.3.0)\n",
            "Requirement already satisfied: pyyaml in /usr/local/lib/python3.6/dist-packages (from Keras>=2.1->py-agender) (3.13)\n",
            "Requirement already satisfied: h5py in /usr/local/lib/python3.6/dist-packages (from Keras>=2.1->py-agender) (2.8.0)\n",
            "Requirement already satisfied: setuptools in /usr/local/lib/python3.6/dist-packages (from protobuf>=3.6.1->TensorFlow<1.19,>=1.10->py-agender) (41.0.1)\n",
            "Requirement already satisfied: werkzeug>=0.11.15 in /usr/local/lib/python3.6/dist-packages (from tensorboard<1.15.0,>=1.14.0->TensorFlow<1.19,>=1.10->py-agender) (0.15.4)\n",
            "Requirement already satisfied: markdown>=2.6.8 in /usr/local/lib/python3.6/dist-packages (from tensorboard<1.15.0,>=1.14.0->TensorFlow<1.19,>=1.10->py-agender) (3.1.1)\n",
            "Installing collected packages: py-agender\n",
            "Successfully installed py-agender-0.0.8\n"
          ],
          "name": "stdout"
        }
      ]
    },
    {
      "cell_type": "code",
      "metadata": {
        "id": "OCxBW1KQcd_f",
        "colab_type": "code",
        "outputId": "cced6997-d528-487a-8170-084b418f5c94",
        "colab": {
          "base_uri": "https://localhost:8080/",
          "height": 35
        }
      },
      "source": [
        "from pyagender import PyAgender"
      ],
      "execution_count": 0,
      "outputs": [
        {
          "output_type": "stream",
          "text": [
            "Using TensorFlow backend.\n"
          ],
          "name": "stderr"
        }
      ]
    },
    {
      "cell_type": "code",
      "metadata": {
        "id": "MS-NhKy-dLZp",
        "colab_type": "code",
        "outputId": "4dc16256-c1da-46da-86eb-8dd485487bf4",
        "colab": {
          "base_uri": "https://localhost:8080/",
          "height": 126
        }
      },
      "source": [
        "from google.colab import drive\n",
        "drive.mount('/gdrive')"
      ],
      "execution_count": 0,
      "outputs": [
        {
          "output_type": "stream",
          "text": [
            "Go to this URL in a browser: https://accounts.google.com/o/oauth2/auth?client_id=947318989803-6bn6qk8qdgf4n4g3pfee6491hc0brc4i.apps.googleusercontent.com&redirect_uri=urn%3Aietf%3Awg%3Aoauth%3A2.0%3Aoob&scope=email%20https%3A%2F%2Fwww.googleapis.com%2Fauth%2Fdocs.test%20https%3A%2F%2Fwww.googleapis.com%2Fauth%2Fdrive%20https%3A%2F%2Fwww.googleapis.com%2Fauth%2Fdrive.photos.readonly%20https%3A%2F%2Fwww.googleapis.com%2Fauth%2Fpeopleapi.readonly&response_type=code\n",
            "\n",
            "Enter your authorization code:\n",
            "··········\n",
            "Mounted at /gdrive\n"
          ],
          "name": "stdout"
        }
      ]
    },
    {
      "cell_type": "code",
      "metadata": {
        "id": "OShAf7h8dYk0",
        "colab_type": "code",
        "colab": {}
      },
      "source": [
        "import os\n",
        "import pandas as pd\n",
        "import numpy as np\n",
        "import matplotlib.pyplot as plt"
      ],
      "execution_count": 0,
      "outputs": []
    },
    {
      "cell_type": "code",
      "metadata": {
        "id": "jHrh1p_7djds",
        "colab_type": "code",
        "outputId": "f8090504-887e-4f5e-8e36-7bf8286ae2ba",
        "colab": {
          "base_uri": "https://localhost:8080/",
          "height": 35
        }
      },
      "source": [
        "os.getcwd()"
      ],
      "execution_count": 0,
      "outputs": [
        {
          "output_type": "execute_result",
          "data": {
            "text/plain": [
              "'/content'"
            ]
          },
          "metadata": {
            "tags": []
          },
          "execution_count": 6
        }
      ]
    },
    {
      "cell_type": "code",
      "metadata": {
        "id": "lmzBn1PNdlXO",
        "colab_type": "code",
        "colab": {}
      },
      "source": [
        "os.chdir(\"/gdrive/My Drive/Colab Notebooks\")"
      ],
      "execution_count": 0,
      "outputs": []
    },
    {
      "cell_type": "code",
      "metadata": {
        "id": "TmyhIFM8dxIb",
        "colab_type": "code",
        "colab": {}
      },
      "source": [
        "img_folder = os.getcwd() + \"/celeba-dataset/img_align_celeba/img_align_celeba/\"\n",
        "imgEX = img_folder + \"000001.jpg\""
      ],
      "execution_count": 0,
      "outputs": []
    },
    {
      "cell_type": "code",
      "metadata": {
        "id": "Dk7JZ0O7eUWQ",
        "colab_type": "code",
        "colab": {}
      },
      "source": [
        "import cv2"
      ],
      "execution_count": 0,
      "outputs": []
    },
    {
      "cell_type": "code",
      "metadata": {
        "id": "_mjwBRs8cogS",
        "colab_type": "code",
        "outputId": "2abd98f3-a5fb-4aca-a47c-da66b1a069a7",
        "colab": {
          "base_uri": "https://localhost:8080/",
          "height": 304
        }
      },
      "source": [
        "agender = PyAgender() \n",
        "# see available options in __init__() src\n",
        "\n",
        "faces = agender.detect_genders_ages(cv2.imread(imgEX))"
      ],
      "execution_count": 0,
      "outputs": [
        {
          "output_type": "stream",
          "text": [
            "WARNING: Logging before flag parsing goes to stderr.\n",
            "W0719 10:16:50.309639 139712800806784 deprecation_wrapper.py:119] From /usr/local/lib/python3.6/dist-packages/keras/backend/tensorflow_backend.py:74: The name tf.get_default_graph is deprecated. Please use tf.compat.v1.get_default_graph instead.\n",
            "\n",
            "W0719 10:16:50.359102 139712800806784 deprecation_wrapper.py:119] From /usr/local/lib/python3.6/dist-packages/keras/backend/tensorflow_backend.py:517: The name tf.placeholder is deprecated. Please use tf.compat.v1.placeholder instead.\n",
            "\n",
            "W0719 10:16:50.371753 139712800806784 deprecation_wrapper.py:119] From /usr/local/lib/python3.6/dist-packages/keras/backend/tensorflow_backend.py:4185: The name tf.truncated_normal is deprecated. Please use tf.random.truncated_normal instead.\n",
            "\n",
            "W0719 10:16:50.434793 139712800806784 deprecation_wrapper.py:119] From /usr/local/lib/python3.6/dist-packages/keras/backend/tensorflow_backend.py:174: The name tf.get_default_session is deprecated. Please use tf.compat.v1.get_default_session instead.\n",
            "\n",
            "W0719 10:16:50.436084 139712800806784 deprecation_wrapper.py:119] From /usr/local/lib/python3.6/dist-packages/keras/backend/tensorflow_backend.py:181: The name tf.ConfigProto is deprecated. Please use tf.compat.v1.ConfigProto instead.\n",
            "\n",
            "W0719 10:16:50.715319 139712800806784 deprecation_wrapper.py:119] From /usr/local/lib/python3.6/dist-packages/keras/backend/tensorflow_backend.py:1834: The name tf.nn.fused_batch_norm is deprecated. Please use tf.compat.v1.nn.fused_batch_norm instead.\n",
            "\n",
            "W0719 10:16:52.096073 139712800806784 deprecation_wrapper.py:119] From /usr/local/lib/python3.6/dist-packages/keras/backend/tensorflow_backend.py:3980: The name tf.nn.avg_pool is deprecated. Please use tf.nn.avg_pool2d instead.\n",
            "\n"
          ],
          "name": "stderr"
        }
      ]
    },
    {
      "cell_type": "code",
      "metadata": {
        "id": "HHOb1XALfaHC",
        "colab_type": "code",
        "outputId": "bb5e9cd8-a25f-4955-e133-3a0f5ef8060b",
        "colab": {
          "base_uri": "https://localhost:8080/",
          "height": 35
        }
      },
      "source": [
        "import sys\n",
        "sys.version"
      ],
      "execution_count": 0,
      "outputs": [
        {
          "output_type": "execute_result",
          "data": {
            "text/plain": [
              "'3.6.8 (default, Jan 14 2019, 11:02:34) \\n[GCC 8.0.1 20180414 (experimental) [trunk revision 259383]]'"
            ]
          },
          "metadata": {
            "tags": []
          },
          "execution_count": 8
        }
      ]
    },
    {
      "cell_type": "code",
      "metadata": {
        "id": "-uEgX2A1hLrt",
        "colab_type": "code",
        "outputId": "4120fc90-c833-41be-ff4c-801531e19149",
        "colab": {
          "base_uri": "https://localhost:8080/",
          "height": 35
        }
      },
      "source": [
        "np.__version__"
      ],
      "execution_count": 0,
      "outputs": [
        {
          "output_type": "execute_result",
          "data": {
            "text/plain": [
              "'1.16.4'"
            ]
          },
          "metadata": {
            "tags": []
          },
          "execution_count": 9
        }
      ]
    },
    {
      "cell_type": "code",
      "metadata": {
        "id": "ZEg43YLlher_",
        "colab_type": "code",
        "outputId": "921734db-ea64-4011-ae32-730830bd0c12",
        "colab": {
          "base_uri": "https://localhost:8080/",
          "height": 35
        }
      },
      "source": [
        "cv2.__version__"
      ],
      "execution_count": 0,
      "outputs": [
        {
          "output_type": "execute_result",
          "data": {
            "text/plain": [
              "'3.4.3'"
            ]
          },
          "metadata": {
            "tags": []
          },
          "execution_count": 10
        }
      ]
    },
    {
      "cell_type": "code",
      "metadata": {
        "id": "FQpB_C-Vhiu1",
        "colab_type": "code",
        "outputId": "ba101f0e-f5a0-4916-8e75-cc3a4eea0bf4",
        "colab": {
          "base_uri": "https://localhost:8080/",
          "height": 52
        }
      },
      "source": [
        "import tensorflow as tf\n",
        "import keras\n",
        "print(\"tf: \", tf.__version__)\n",
        "print(\"keras: \", keras.__version__)"
      ],
      "execution_count": 0,
      "outputs": [
        {
          "output_type": "stream",
          "text": [
            "tf:  1.14.0\n",
            "keras:  2.2.4\n"
          ],
          "name": "stdout"
        }
      ]
    },
    {
      "cell_type": "code",
      "metadata": {
        "id": "bcw7wM9zh1LW",
        "colab_type": "code",
        "outputId": "ec1184be-ff87-430b-8be6-d0fbb32b4ded",
        "colab": {
          "base_uri": "https://localhost:8080/",
          "height": 1000
        }
      },
      "source": [
        "!pip install --force-reinstall tensorflow==1.9"
      ],
      "execution_count": 0,
      "outputs": [
        {
          "output_type": "stream",
          "text": [
            "Collecting tensorflow==1.9\n",
            "\u001b[?25l  Downloading https://files.pythonhosted.org/packages/86/95/274190b39950e1e9eef4b071acefea832ac3e2c19bb4b442fa54f3214d2e/tensorflow-1.9.0-cp36-cp36m-manylinux1_x86_64.whl (51.1MB)\n",
            "\u001b[K     |████████████████████████████████| 51.1MB 65.3MB/s \n",
            "\u001b[?25hCollecting setuptools<=39.1.0 (from tensorflow==1.9)\n",
            "\u001b[?25l  Downloading https://files.pythonhosted.org/packages/8c/10/79282747f9169f21c053c562a0baa21815a8c7879be97abd930dbcf862e8/setuptools-39.1.0-py2.py3-none-any.whl (566kB)\n",
            "\u001b[K     |████████████████████████████████| 573kB 44.1MB/s \n",
            "\u001b[?25hCollecting astor>=0.6.0 (from tensorflow==1.9)\n",
            "  Downloading https://files.pythonhosted.org/packages/d1/4f/950dfae467b384fc96bc6469de25d832534f6b4441033c39f914efd13418/astor-0.8.0-py2.py3-none-any.whl\n",
            "Collecting tensorboard<1.10.0,>=1.9.0 (from tensorflow==1.9)\n",
            "\u001b[?25l  Downloading https://files.pythonhosted.org/packages/9e/1f/3da43860db614e294a034e42d4be5c8f7f0d2c75dc1c428c541116d8cdab/tensorboard-1.9.0-py3-none-any.whl (3.3MB)\n",
            "\u001b[K     |████████████████████████████████| 3.3MB 34.8MB/s \n",
            "\u001b[?25hCollecting protobuf>=3.4.0 (from tensorflow==1.9)\n",
            "\u001b[?25l  Downloading https://files.pythonhosted.org/packages/dc/0e/e7cdff89745986c984ba58e6ff6541bc5c388dd9ab9d7d312b3b1532584a/protobuf-3.9.0-cp36-cp36m-manylinux1_x86_64.whl (1.2MB)\n",
            "\u001b[K     |████████████████████████████████| 1.2MB 34.8MB/s \n",
            "\u001b[?25hCollecting termcolor>=1.1.0 (from tensorflow==1.9)\n",
            "  Downloading https://files.pythonhosted.org/packages/8a/48/a76be51647d0eb9f10e2a4511bf3ffb8cc1e6b14e9e4fab46173aa79f981/termcolor-1.1.0.tar.gz\n",
            "Collecting numpy>=1.13.3 (from tensorflow==1.9)\n",
            "\u001b[?25l  Downloading https://files.pythonhosted.org/packages/87/2d/e4656149cbadd3a8a0369fcd1a9c7d61cc7b87b3903b85389c70c989a696/numpy-1.16.4-cp36-cp36m-manylinux1_x86_64.whl (17.3MB)\n",
            "\u001b[K     |████████████████████████████████| 17.3MB 31.5MB/s \n",
            "\u001b[?25hCollecting grpcio>=1.8.6 (from tensorflow==1.9)\n",
            "\u001b[?25l  Downloading https://files.pythonhosted.org/packages/f2/5d/b434403adb2db8853a97828d3d19f2032e79d630e0d11a8e95d243103a11/grpcio-1.22.0-cp36-cp36m-manylinux1_x86_64.whl (2.2MB)\n",
            "\u001b[K     |████████████████████████████████| 2.2MB 31.6MB/s \n",
            "\u001b[?25hCollecting gast>=0.2.0 (from tensorflow==1.9)\n",
            "  Downloading https://files.pythonhosted.org/packages/4e/35/11749bf99b2d4e3cceb4d55ca22590b0d7c2c62b9de38ac4a4a7f4687421/gast-0.2.2.tar.gz\n",
            "Collecting wheel>=0.26 (from tensorflow==1.9)\n",
            "  Downloading https://files.pythonhosted.org/packages/bb/10/44230dd6bf3563b8f227dbf344c908d412ad2ff48066476672f3a72e174e/wheel-0.33.4-py2.py3-none-any.whl\n",
            "Collecting six>=1.10.0 (from tensorflow==1.9)\n",
            "  Downloading https://files.pythonhosted.org/packages/73/fb/00a976f728d0d1fecfe898238ce23f502a721c0ac0ecfedb80e0d88c64e9/six-1.12.0-py2.py3-none-any.whl\n",
            "Collecting absl-py>=0.1.6 (from tensorflow==1.9)\n",
            "\u001b[?25l  Downloading https://files.pythonhosted.org/packages/da/3f/9b0355080b81b15ba6a9ffcf1f5ea39e307a2778b2f2dc8694724e8abd5b/absl-py-0.7.1.tar.gz (99kB)\n",
            "\u001b[K     |████████████████████████████████| 102kB 26.7MB/s \n",
            "\u001b[?25hCollecting markdown>=2.6.8 (from tensorboard<1.10.0,>=1.9.0->tensorflow==1.9)\n",
            "\u001b[?25l  Downloading https://files.pythonhosted.org/packages/c0/4e/fd492e91abdc2d2fcb70ef453064d980688762079397f779758e055f6575/Markdown-3.1.1-py2.py3-none-any.whl (87kB)\n",
            "\u001b[K     |████████████████████████████████| 92kB 26.5MB/s \n",
            "\u001b[?25hCollecting werkzeug>=0.11.10 (from tensorboard<1.10.0,>=1.9.0->tensorflow==1.9)\n",
            "\u001b[?25l  Downloading https://files.pythonhosted.org/packages/d1/ab/d3bed6b92042622d24decc7aadc8877badf18aeca1571045840ad4956d3f/Werkzeug-0.15.5-py2.py3-none-any.whl (328kB)\n",
            "\u001b[K     |████████████████████████████████| 337kB 47.0MB/s \n",
            "\u001b[?25hBuilding wheels for collected packages: termcolor, gast, absl-py\n",
            "  Building wheel for termcolor (setup.py) ... \u001b[?25l\u001b[?25hdone\n",
            "  Stored in directory: /root/.cache/pip/wheels/7c/06/54/bc84598ba1daf8f970247f550b175aaaee85f68b4b0c5ab2c6\n",
            "  Building wheel for gast (setup.py) ... \u001b[?25l\u001b[?25hdone\n",
            "  Stored in directory: /root/.cache/pip/wheels/5c/2e/7e/a1d4d4fcebe6c381f378ce7743a3ced3699feb89bcfbdadadd\n",
            "  Building wheel for absl-py (setup.py) ... \u001b[?25l\u001b[?25hdone\n",
            "  Stored in directory: /root/.cache/pip/wheels/ee/98/38/46cbcc5a93cfea5492d19c38562691ddb23b940176c14f7b48\n",
            "Successfully built termcolor gast absl-py\n",
            "\u001b[31mERROR: py-agender 0.0.8 has requirement TensorFlow<1.19,>=1.10, but you'll have tensorflow 1.9.0 which is incompatible.\u001b[0m\n",
            "\u001b[31mERROR: magenta 0.3.19 has requirement tensorflow>=1.12.0, but you'll have tensorflow 1.9.0 which is incompatible.\u001b[0m\n",
            "\u001b[31mERROR: jupyter-console 6.0.0 has requirement prompt-toolkit<2.1.0,>=2.0.0, but you'll have prompt-toolkit 1.0.16 which is incompatible.\u001b[0m\n",
            "\u001b[31mERROR: datascience 0.10.6 has requirement folium==0.2.1, but you'll have folium 0.8.3 which is incompatible.\u001b[0m\n",
            "\u001b[31mERROR: albumentations 0.1.12 has requirement imgaug<0.2.7,>=0.2.5, but you'll have imgaug 0.2.9 which is incompatible.\u001b[0m\n",
            "Installing collected packages: setuptools, astor, markdown, six, protobuf, wheel, numpy, werkzeug, tensorboard, termcolor, grpcio, gast, absl-py, tensorflow\n",
            "  Found existing installation: setuptools 41.0.1\n",
            "    Uninstalling setuptools-41.0.1:\n",
            "      Successfully uninstalled setuptools-41.0.1\n",
            "  Found existing installation: astor 0.8.0\n",
            "    Uninstalling astor-0.8.0:\n",
            "      Successfully uninstalled astor-0.8.0\n",
            "  Found existing installation: Markdown 3.1.1\n",
            "    Uninstalling Markdown-3.1.1:\n",
            "      Successfully uninstalled Markdown-3.1.1\n",
            "  Found existing installation: six 1.12.0\n",
            "    Uninstalling six-1.12.0:\n",
            "      Successfully uninstalled six-1.12.0\n",
            "  Found existing installation: protobuf 3.7.1\n",
            "    Uninstalling protobuf-3.7.1:\n",
            "      Successfully uninstalled protobuf-3.7.1\n",
            "  Found existing installation: wheel 0.33.4\n",
            "    Uninstalling wheel-0.33.4:\n",
            "      Successfully uninstalled wheel-0.33.4\n",
            "  Found existing installation: numpy 1.16.4\n",
            "    Uninstalling numpy-1.16.4:\n",
            "      Successfully uninstalled numpy-1.16.4\n",
            "  Found existing installation: Werkzeug 0.15.4\n",
            "    Uninstalling Werkzeug-0.15.4:\n",
            "      Successfully uninstalled Werkzeug-0.15.4\n",
            "  Found existing installation: tensorboard 1.14.0\n",
            "    Uninstalling tensorboard-1.14.0:\n",
            "      Successfully uninstalled tensorboard-1.14.0\n",
            "  Found existing installation: termcolor 1.1.0\n",
            "    Uninstalling termcolor-1.1.0:\n",
            "      Successfully uninstalled termcolor-1.1.0\n",
            "  Found existing installation: grpcio 1.15.0\n",
            "    Uninstalling grpcio-1.15.0:\n",
            "      Successfully uninstalled grpcio-1.15.0\n",
            "  Found existing installation: gast 0.2.2\n",
            "    Uninstalling gast-0.2.2:\n",
            "      Successfully uninstalled gast-0.2.2\n",
            "  Found existing installation: absl-py 0.7.1\n",
            "    Uninstalling absl-py-0.7.1:\n",
            "      Successfully uninstalled absl-py-0.7.1\n",
            "  Found existing installation: tensorflow 1.14.0\n",
            "    Uninstalling tensorflow-1.14.0:\n",
            "      Successfully uninstalled tensorflow-1.14.0\n",
            "Successfully installed absl-py-0.7.1 astor-0.8.0 gast-0.2.2 grpcio-1.22.0 markdown-3.1.1 numpy-1.16.4 protobuf-3.9.0 setuptools-39.1.0 six-1.12.0 tensorboard-1.9.0 tensorflow-1.9.0 termcolor-1.1.0 werkzeug-0.15.5 wheel-0.33.4\n"
          ],
          "name": "stdout"
        },
        {
          "output_type": "display_data",
          "data": {
            "application/vnd.colab-display-data+json": {
              "pip_warning": {
                "packages": [
                  "absl",
                  "astor",
                  "gast",
                  "google",
                  "grpc",
                  "numpy",
                  "pkg_resources",
                  "six",
                  "tensorboard",
                  "tensorflow",
                  "termcolor"
                ]
              }
            }
          },
          "metadata": {
            "tags": []
          }
        }
      ]
    },
    {
      "cell_type": "code",
      "metadata": {
        "id": "YzX51jCVjb03",
        "colab_type": "code",
        "outputId": "eb86c2ff-9939-4ac3-a70f-b4ce1b68b172",
        "colab": {
          "base_uri": "https://localhost:8080/",
          "height": 304
        }
      },
      "source": [
        "agender = PyAgender() \n",
        "# see available options in __init__() src\n",
        "\n",
        "faces = agender.detect_genders_ages(cv2.imread(imgEX))"
      ],
      "execution_count": 0,
      "outputs": [
        {
          "output_type": "stream",
          "text": [
            "WARNING: Logging before flag parsing goes to stderr.\n",
            "W0719 13:55:35.782887 140709031966592 deprecation_wrapper.py:119] From /usr/local/lib/python3.6/dist-packages/keras/backend/tensorflow_backend.py:74: The name tf.get_default_graph is deprecated. Please use tf.compat.v1.get_default_graph instead.\n",
            "\n",
            "W0719 13:55:35.800444 140709031966592 deprecation_wrapper.py:119] From /usr/local/lib/python3.6/dist-packages/keras/backend/tensorflow_backend.py:517: The name tf.placeholder is deprecated. Please use tf.compat.v1.placeholder instead.\n",
            "\n",
            "W0719 13:55:35.807364 140709031966592 deprecation_wrapper.py:119] From /usr/local/lib/python3.6/dist-packages/keras/backend/tensorflow_backend.py:4185: The name tf.truncated_normal is deprecated. Please use tf.random.truncated_normal instead.\n",
            "\n",
            "W0719 13:55:35.840543 140709031966592 deprecation_wrapper.py:119] From /usr/local/lib/python3.6/dist-packages/keras/backend/tensorflow_backend.py:174: The name tf.get_default_session is deprecated. Please use tf.compat.v1.get_default_session instead.\n",
            "\n",
            "W0719 13:55:35.841728 140709031966592 deprecation_wrapper.py:119] From /usr/local/lib/python3.6/dist-packages/keras/backend/tensorflow_backend.py:181: The name tf.ConfigProto is deprecated. Please use tf.compat.v1.ConfigProto instead.\n",
            "\n",
            "W0719 13:55:35.879493 140709031966592 deprecation_wrapper.py:119] From /usr/local/lib/python3.6/dist-packages/keras/backend/tensorflow_backend.py:1834: The name tf.nn.fused_batch_norm is deprecated. Please use tf.compat.v1.nn.fused_batch_norm instead.\n",
            "\n",
            "W0719 13:55:37.211043 140709031966592 deprecation_wrapper.py:119] From /usr/local/lib/python3.6/dist-packages/keras/backend/tensorflow_backend.py:3980: The name tf.nn.avg_pool is deprecated. Please use tf.nn.avg_pool2d instead.\n",
            "\n"
          ],
          "name": "stderr"
        }
      ]
    },
    {
      "cell_type": "code",
      "metadata": {
        "id": "9KuwD1Nnjy1y",
        "colab_type": "code",
        "outputId": "c3d823c3-63d3-455b-bef8-26ceefc55e0d",
        "colab": {
          "base_uri": "https://localhost:8080/",
          "height": 159
        }
      },
      "source": [
        "faces"
      ],
      "execution_count": 0,
      "outputs": [
        {
          "output_type": "execute_result",
          "data": {
            "text/plain": [
              "[{'age': 35.44406699346172,\n",
              "  'bottom': 214,\n",
              "  'gender': 0.97524863,\n",
              "  'height': 180,\n",
              "  'left': 0,\n",
              "  'right': 177,\n",
              "  'top': 34,\n",
              "  'width': 177}]"
            ]
          },
          "metadata": {
            "tags": []
          },
          "execution_count": 14
        }
      ]
    },
    {
      "cell_type": "code",
      "metadata": {
        "id": "qpVWfibXj1ey",
        "colab_type": "code",
        "outputId": "b9afc196-b906-40cc-f43a-9b9f6f34f3fd",
        "colab": {
          "base_uri": "https://localhost:8080/",
          "height": 159
        }
      },
      "source": [
        "jw = img_folder + '1.jpg'\n",
        "insta = agender.detect_genders_ages(cv2.imread(jw))\n",
        "insta"
      ],
      "execution_count": 0,
      "outputs": [
        {
          "output_type": "execute_result",
          "data": {
            "text/plain": [
              "[{'age': 20.96142437436629,\n",
              "  'bottom': 157,\n",
              "  'gender': 0.08397108,\n",
              "  'height': 156,\n",
              "  'left': 83,\n",
              "  'right': 239,\n",
              "  'top': 1,\n",
              "  'width': 156}]"
            ]
          },
          "metadata": {
            "tags": []
          },
          "execution_count": 15
        }
      ]
    },
    {
      "cell_type": "code",
      "metadata": {
        "id": "bdvsGIVCk1zs",
        "colab_type": "code",
        "outputId": "d1ff13b5-107c-4996-9c86-b976b01433f9",
        "colab": {
          "base_uri": "https://localhost:8080/",
          "height": 159
        }
      },
      "source": [
        "cl = img_folder + '2.jpg'\n",
        "face =agender.detect_genders_ages(cv2.imread(cl))\n",
        "face"
      ],
      "execution_count": 0,
      "outputs": [
        {
          "output_type": "execute_result",
          "data": {
            "text/plain": [
              "[{'age': 25.34773247403973,\n",
              "  'bottom': 230,\n",
              "  'gender': 0.8657613,\n",
              "  'height': 209,\n",
              "  'left': 58,\n",
              "  'right': 267,\n",
              "  'top': 21,\n",
              "  'width': 209}]"
            ]
          },
          "metadata": {
            "tags": []
          },
          "execution_count": 19
        }
      ]
    },
    {
      "cell_type": "code",
      "metadata": {
        "id": "s1dYGh8elRGJ",
        "colab_type": "code",
        "outputId": "52186320-3363-4e67-9dc1-4e8b81d69b60",
        "colab": {
          "base_uri": "https://localhost:8080/",
          "height": 35
        }
      },
      "source": [
        "im3 = img_folder + '3.jpg'\n",
        "im4 = img_folder + '4.jpg'\n",
        "face1 = agender.detect_genders_ages(cv2.imread(im3))\n",
        "face2 = agender.detect_genders_ages(cv2.imread(im4))\n",
        "face1"
      ],
      "execution_count": 0,
      "outputs": [
        {
          "output_type": "execute_result",
          "data": {
            "text/plain": [
              "[]"
            ]
          },
          "metadata": {
            "tags": []
          },
          "execution_count": 20
        }
      ]
    },
    {
      "cell_type": "code",
      "metadata": {
        "id": "PbEzprpFlxR5",
        "colab_type": "code",
        "outputId": "cdbc1e87-a2f4-46c8-a130-6ca2373532ff",
        "colab": {
          "base_uri": "https://localhost:8080/",
          "height": 159
        }
      },
      "source": [
        "face2"
      ],
      "execution_count": 0,
      "outputs": [
        {
          "output_type": "execute_result",
          "data": {
            "text/plain": [
              "[{'age': 24.643425123049383,\n",
              "  'bottom': 594,\n",
              "  'gender': 0.96085167,\n",
              "  'height': 309,\n",
              "  'left': 185,\n",
              "  'right': 494,\n",
              "  'top': 285,\n",
              "  'width': 309}]"
            ]
          },
          "metadata": {
            "tags": []
          },
          "execution_count": 21
        }
      ]
    },
    {
      "cell_type": "code",
      "metadata": {
        "id": "GoU38dLol0wp",
        "colab_type": "code",
        "outputId": "c20fa509-463c-46a6-f8ae-8333620019de",
        "colab": {
          "base_uri": "https://localhost:8080/",
          "height": 159
        }
      },
      "source": [
        "im5 = img_folder + '5.jpg'\n",
        "im6 = img_folder + '6.jpg'\n",
        "face3 = agender.detect_genders_ages(cv2.imread(im5))\n",
        "face4 = agender.detect_genders_ages(cv2.imread(im6))\n",
        "face3"
      ],
      "execution_count": 0,
      "outputs": [
        {
          "output_type": "execute_result",
          "data": {
            "text/plain": [
              "[{'age': 43.9804478499027,\n",
              "  'bottom': 272,\n",
              "  'gender': 0.026778067,\n",
              "  'height': 272,\n",
              "  'left': 279,\n",
              "  'right': 578,\n",
              "  'top': 0,\n",
              "  'width': 299}]"
            ]
          },
          "metadata": {
            "tags": []
          },
          "execution_count": 22
        }
      ]
    },
    {
      "cell_type": "code",
      "metadata": {
        "id": "JBmornFSmbq7",
        "colab_type": "code",
        "outputId": "e0036735-e7f2-4d12-e556-e8ef5432e457",
        "colab": {
          "base_uri": "https://localhost:8080/",
          "height": 159
        }
      },
      "source": [
        "face4"
      ],
      "execution_count": 0,
      "outputs": [
        {
          "output_type": "execute_result",
          "data": {
            "text/plain": [
              "[{'age': 42.503487939277875,\n",
              "  'bottom': 361,\n",
              "  'gender': 0.09180241,\n",
              "  'height': 198,\n",
              "  'left': 752,\n",
              "  'right': 950,\n",
              "  'top': 163,\n",
              "  'width': 198}]"
            ]
          },
          "metadata": {
            "tags": []
          },
          "execution_count": 23
        }
      ]
    },
    {
      "cell_type": "code",
      "metadata": {
        "id": "Qm76I592mcmA",
        "colab_type": "code",
        "outputId": "c9ceaf55-c7c1-4256-f8de-e6925c1e4e55",
        "colab": {
          "base_uri": "https://localhost:8080/",
          "height": 159
        }
      },
      "source": [
        "faces = agender.detect_genders_ages(cv2.imread(jw))\n",
        "faces"
      ],
      "execution_count": 0,
      "outputs": [
        {
          "output_type": "execute_result",
          "data": {
            "text/plain": [
              "[{'age': 20.96142437436629,\n",
              "  'bottom': 157,\n",
              "  'gender': 0.08397108,\n",
              "  'height': 156,\n",
              "  'left': 83,\n",
              "  'right': 239,\n",
              "  'top': 1,\n",
              "  'width': 156}]"
            ]
          },
          "metadata": {
            "tags": []
          },
          "execution_count": 24
        }
      ]
    },
    {
      "cell_type": "code",
      "metadata": {
        "id": "E5auqYj6oOSY",
        "colab_type": "code",
        "outputId": "f6dc483d-7f70-48f7-c6ba-7d768c2a975d",
        "colab": {
          "base_uri": "https://localhost:8080/",
          "height": 159
        }
      },
      "source": [
        "jl = img_folder+'7.jpg'\n",
        "face = agender.detect_genders_ages(cv2.imread(jl))\n",
        "face"
      ],
      "execution_count": 0,
      "outputs": [
        {
          "output_type": "execute_result",
          "data": {
            "text/plain": [
              "[{'age': 32.5759068315092,\n",
              "  'bottom': 297,\n",
              "  'gender': 0.553755,\n",
              "  'height': 273,\n",
              "  'left': 23,\n",
              "  'right': 296,\n",
              "  'top': 24,\n",
              "  'width': 273}]"
            ]
          },
          "metadata": {
            "tags": []
          },
          "execution_count": 25
        }
      ]
    },
    {
      "cell_type": "code",
      "metadata": {
        "id": "ZJ_pLu3fqXCo",
        "colab_type": "code",
        "outputId": "f2dc9309-0c28-4895-9a8f-23fc6f31a91f",
        "colab": {
          "base_uri": "https://localhost:8080/",
          "height": 159
        }
      },
      "source": [
        "retry = img_folder + '8.jpg'\n",
        "face = agender.detect_genders_ages(cv2.imread(retry))\n",
        "face"
      ],
      "execution_count": 0,
      "outputs": [
        {
          "output_type": "execute_result",
          "data": {
            "text/plain": [
              "[{'age': 25.26302946215219,\n",
              "  'bottom': 511,\n",
              "  'gender': 0.9718863,\n",
              "  'height': 393,\n",
              "  'left': 57,\n",
              "  'right': 450,\n",
              "  'top': 118,\n",
              "  'width': 393}]"
            ]
          },
          "metadata": {
            "tags": []
          },
          "execution_count": 26
        }
      ]
    },
    {
      "cell_type": "code",
      "metadata": {
        "id": "4lM-3mfBrXcD",
        "colab_type": "code",
        "outputId": "2694a6c0-66e2-4a31-bc0b-79065ae80c7f",
        "colab": {
          "base_uri": "https://localhost:8080/",
          "height": 35
        }
      },
      "source": [
        "face[0]['gender']"
      ],
      "execution_count": 0,
      "outputs": [
        {
          "output_type": "execute_result",
          "data": {
            "text/plain": [
              "0.9718863"
            ]
          },
          "metadata": {
            "tags": []
          },
          "execution_count": 28
        }
      ]
    },
    {
      "cell_type": "code",
      "metadata": {
        "id": "-REmN11nwaLd",
        "colab_type": "code",
        "outputId": "46275811-6f00-4be2-deac-f4d6a579727c",
        "colab": {
          "base_uri": "https://localhost:8080/",
          "height": 35
        }
      },
      "source": [
        "os.getcwd()"
      ],
      "execution_count": 0,
      "outputs": [
        {
          "output_type": "execute_result",
          "data": {
            "text/plain": [
              "'/gdrive/My Drive/Colab Notebooks'"
            ]
          },
          "metadata": {
            "tags": []
          },
          "execution_count": 29
        }
      ]
    },
    {
      "cell_type": "markdown",
      "metadata": {
        "id": "dRFAJ6OkzVLF",
        "colab_type": "text"
      },
      "source": [
        "# Gender Detection from img URL"
      ]
    },
    {
      "cell_type": "code",
      "metadata": {
        "id": "y-baAqfbwdYk",
        "colab_type": "code",
        "outputId": "b8f5b9f5-9699-43a4-d38e-7e5779fdb1fd",
        "colab": {
          "base_uri": "https://localhost:8080/",
          "height": 246
        }
      },
      "source": [
        "followers = pd.read_csv(\"followers_chaerin.csv.csv\", encoding='utf-8')\n",
        "followers.head(3)"
      ],
      "execution_count": 0,
      "outputs": [
        {
          "output_type": "stream",
          "text": [
            "/usr/local/lib/python3.6/dist-packages/IPython/core/interactiveshell.py:2718: DtypeWarning: Columns (7) have mixed types. Specify dtype option on import or set low_memory=False.\n",
            "  interactivity=interactivity, compiler=compiler, result=result)\n"
          ],
          "name": "stderr"
        },
        {
          "output_type": "execute_result",
          "data": {
            "text/html": [
              "<div>\n",
              "<style scoped>\n",
              "    .dataframe tbody tr th:only-of-type {\n",
              "        vertical-align: middle;\n",
              "    }\n",
              "\n",
              "    .dataframe tbody tr th {\n",
              "        vertical-align: top;\n",
              "    }\n",
              "\n",
              "    .dataframe thead th {\n",
              "        text-align: right;\n",
              "    }\n",
              "</style>\n",
              "<table border=\"1\" class=\"dataframe\">\n",
              "  <thead>\n",
              "    <tr style=\"text-align: right;\">\n",
              "      <th></th>\n",
              "      <th>profileUrl</th>\n",
              "      <th>username</th>\n",
              "      <th>fullName</th>\n",
              "      <th>imgUrl</th>\n",
              "      <th>id</th>\n",
              "      <th>isPrivate</th>\n",
              "      <th>isVerified</th>\n",
              "      <th>followedByViewer</th>\n",
              "      <th>query</th>\n",
              "      <th>timestamp</th>\n",
              "    </tr>\n",
              "  </thead>\n",
              "  <tbody>\n",
              "    <tr>\n",
              "      <th>0</th>\n",
              "      <td>https://www.instagram.com/baytavanloung</td>\n",
              "      <td>baytavanloung</td>\n",
              "      <td>🦄Bay Tavanloung</td>\n",
              "      <td>https://scontent-sjc3-1.cdninstagram.com/vp/14...</td>\n",
              "      <td>2.016482e+09</td>\n",
              "      <td>Private</td>\n",
              "      <td>NaN</td>\n",
              "      <td>NaN</td>\n",
              "      <td>https://www.instagram.com/hyojinc_</td>\n",
              "      <td>2019-07-12T00:29:33.462Z</td>\n",
              "    </tr>\n",
              "    <tr>\n",
              "      <th>1</th>\n",
              "      <td>https://www.instagram.com/skarkdus_</td>\n",
              "      <td>skarkdus_</td>\n",
              "      <td>NaN</td>\n",
              "      <td>https://instagram.fdmm2-1.fna.fbcdn.net/vp/8f8...</td>\n",
              "      <td>2.239661e+09</td>\n",
              "      <td>Private</td>\n",
              "      <td>NaN</td>\n",
              "      <td>NaN</td>\n",
              "      <td>https://www.instagram.com/hyojinc_</td>\n",
              "      <td>2019-07-12T00:29:33.462Z</td>\n",
              "    </tr>\n",
              "    <tr>\n",
              "      <th>2</th>\n",
              "      <td>https://www.instagram.com/taozi0822</td>\n",
              "      <td>taozi0822</td>\n",
              "      <td>TAOZI</td>\n",
              "      <td>https://scontent-sjc3-1.cdninstagram.com/vp/67...</td>\n",
              "      <td>1.346970e+10</td>\n",
              "      <td>NaN</td>\n",
              "      <td>NaN</td>\n",
              "      <td>NaN</td>\n",
              "      <td>https://www.instagram.com/hyojinc_</td>\n",
              "      <td>2019-07-12T00:29:33.462Z</td>\n",
              "    </tr>\n",
              "  </tbody>\n",
              "</table>\n",
              "</div>"
            ],
            "text/plain": [
              "                                profileUrl  ...                 timestamp\n",
              "0  https://www.instagram.com/baytavanloung  ...  2019-07-12T00:29:33.462Z\n",
              "1      https://www.instagram.com/skarkdus_  ...  2019-07-12T00:29:33.462Z\n",
              "2      https://www.instagram.com/taozi0822  ...  2019-07-12T00:29:33.462Z\n",
              "\n",
              "[3 rows x 10 columns]"
            ]
          },
          "metadata": {
            "tags": []
          },
          "execution_count": 16
        }
      ]
    },
    {
      "cell_type": "code",
      "metadata": {
        "id": "NkZdOBKGwusw",
        "colab_type": "code",
        "outputId": "d89bab6d-99fd-44f1-d4c6-21d6c908933d",
        "colab": {
          "base_uri": "https://localhost:8080/",
          "height": 55
        }
      },
      "source": [
        "img_sample = followers['imgUrl'][5]\n",
        "img_sample"
      ],
      "execution_count": 0,
      "outputs": [
        {
          "output_type": "execute_result",
          "data": {
            "text/plain": [
              "'https://scontent-sjc3-1.cdninstagram.com/vp/380d01574ae0c8d79943b234e50d5f15/5DB0CBE6/t51.2885-19/s150x150/61073067_2017135771914784_6754126210885746688_n.jpg?_nc_ht=scontent-sjc3-1.cdninstagram.com'"
            ]
          },
          "metadata": {
            "tags": []
          },
          "execution_count": 17
        }
      ]
    },
    {
      "cell_type": "code",
      "metadata": {
        "id": "NBYuYv2CtRHP",
        "colab_type": "code",
        "outputId": "706ef98a-f078-4ce4-e6f4-c05c15269975",
        "colab": {
          "base_uri": "https://localhost:8080/",
          "height": 167
        }
      },
      "source": [
        "from urllib.request import urlopen\n",
        "import numpy as np\n",
        "\n",
        "req = urlopen(img_sample)\n",
        "arr = np.asarray(bytearray(req.read()), dtype=np.uint8)\n",
        "img = cv2.imdecode(arr, -1) \n",
        "\n",
        "from google.colab.patches import cv2_imshow\n",
        "\n",
        "cv2_imshow(img)"
      ],
      "execution_count": 0,
      "outputs": [
        {
          "output_type": "display_data",
          "data": {
            "image/png": "[encoded data removed]",
            "text/plain": [
              "<PIL.Image.Image image mode=RGB size=150x150 at 0x7FF906DDD470>"
            ]
          },
          "metadata": {
            "tags": []
          }
        }
      ]
    },
    {
      "cell_type": "code",
      "metadata": {
        "id": "oqQl2iGJyJUC",
        "colab_type": "code",
        "outputId": "3220593e-edf2-41b8-df1a-f04b5f9708e4",
        "colab": {
          "base_uri": "https://localhost:8080/",
          "height": 159
        }
      },
      "source": [
        "face = agender.detect_genders_ages(img)\n",
        "face"
      ],
      "execution_count": 0,
      "outputs": [
        {
          "output_type": "execute_result",
          "data": {
            "text/plain": [
              "[{'age': 29.943882445808413,\n",
              "  'bottom': 124,\n",
              "  'gender': 0.87664783,\n",
              "  'height': 124,\n",
              "  'left': 0,\n",
              "  'right': 145,\n",
              "  'top': 0,\n",
              "  'width': 145}]"
            ]
          },
          "metadata": {
            "tags": []
          },
          "execution_count": 19
        }
      ]
    },
    {
      "cell_type": "code",
      "metadata": {
        "id": "54_sdg1K2_p5",
        "colab_type": "code",
        "outputId": "809de1bf-99f8-476e-d8f2-5aa7c6d1d199",
        "colab": {
          "base_uri": "https://localhost:8080/",
          "height": 35
        }
      },
      "source": [
        "face[0]['gender'] <= 0.5"
      ],
      "execution_count": 0,
      "outputs": [
        {
          "output_type": "execute_result",
          "data": {
            "text/plain": [
              "False"
            ]
          },
          "metadata": {
            "tags": []
          },
          "execution_count": 20
        }
      ]
    },
    {
      "cell_type": "markdown",
      "metadata": {
        "id": "zNX0Bnf-zyBx",
        "colab_type": "text"
      },
      "source": [
        "# Followers Gender Aggregation by Influencer"
      ]
    },
    {
      "cell_type": "code",
      "metadata": {
        "id": "Im8zbjcky2cO",
        "colab_type": "code",
        "outputId": "b2ac3078-6428-444b-a606-aff90e85e47b",
        "colab": {
          "base_uri": "https://localhost:8080/",
          "height": 115
        }
      },
      "source": [
        "followers.head(1)"
      ],
      "execution_count": 0,
      "outputs": [
        {
          "output_type": "execute_result",
          "data": {
            "text/html": [
              "<div>\n",
              "<style scoped>\n",
              "    .dataframe tbody tr th:only-of-type {\n",
              "        vertical-align: middle;\n",
              "    }\n",
              "\n",
              "    .dataframe tbody tr th {\n",
              "        vertical-align: top;\n",
              "    }\n",
              "\n",
              "    .dataframe thead th {\n",
              "        text-align: right;\n",
              "    }\n",
              "</style>\n",
              "<table border=\"1\" class=\"dataframe\">\n",
              "  <thead>\n",
              "    <tr style=\"text-align: right;\">\n",
              "      <th></th>\n",
              "      <th>profileUrl</th>\n",
              "      <th>username</th>\n",
              "      <th>fullName</th>\n",
              "      <th>imgUrl</th>\n",
              "      <th>id</th>\n",
              "      <th>isPrivate</th>\n",
              "      <th>isVerified</th>\n",
              "      <th>followedByViewer</th>\n",
              "      <th>query</th>\n",
              "      <th>timestamp</th>\n",
              "    </tr>\n",
              "  </thead>\n",
              "  <tbody>\n",
              "    <tr>\n",
              "      <th>0</th>\n",
              "      <td>https://www.instagram.com/baytavanloung</td>\n",
              "      <td>baytavanloung</td>\n",
              "      <td>🦄Bay Tavanloung</td>\n",
              "      <td>https://scontent-sjc3-1.cdninstagram.com/vp/14...</td>\n",
              "      <td>2.016482e+09</td>\n",
              "      <td>Private</td>\n",
              "      <td>NaN</td>\n",
              "      <td>NaN</td>\n",
              "      <td>https://www.instagram.com/hyojinc_</td>\n",
              "      <td>2019-07-12T00:29:33.462Z</td>\n",
              "    </tr>\n",
              "  </tbody>\n",
              "</table>\n",
              "</div>"
            ],
            "text/plain": [
              "                                profileUrl  ...                 timestamp\n",
              "0  https://www.instagram.com/baytavanloung  ...  2019-07-12T00:29:33.462Z\n",
              "\n",
              "[1 rows x 10 columns]"
            ]
          },
          "metadata": {
            "tags": []
          },
          "execution_count": 49
        }
      ]
    },
    {
      "cell_type": "code",
      "metadata": {
        "id": "R0B03HS_z2V9",
        "colab_type": "code",
        "outputId": "7edd5720-5b4e-4623-ca77-44356a17f9bd",
        "colab": {
          "base_uri": "https://localhost:8080/",
          "height": 35
        }
      },
      "source": [
        "followers['query'].iloc[0].find('y')"
      ],
      "execution_count": 0,
      "outputs": [
        {
          "output_type": "execute_result",
          "data": {
            "text/plain": [
              "27"
            ]
          },
          "metadata": {
            "tags": []
          },
          "execution_count": 51
        }
      ]
    },
    {
      "cell_type": "code",
      "metadata": {
        "id": "7KUgm-Upz_fm",
        "colab_type": "code",
        "colab": {}
      },
      "source": [
        "inf = {}\n",
        "inf[followers['query'].iloc[0]] = 0"
      ],
      "execution_count": 0,
      "outputs": []
    },
    {
      "cell_type": "code",
      "metadata": {
        "id": "t7Eol2yM0U94",
        "colab_type": "code",
        "outputId": "6f91601f-a3bf-4544-8a3e-4f06202050b8",
        "colab": {
          "base_uri": "https://localhost:8080/",
          "height": 141
        }
      },
      "source": [
        "fol1 = followers[followers['query'] == followers['query'].iloc[0]]\n",
        "\n",
        "fol1.dropna(subset=['imgUrl'], inplace = True)\n",
        "\n",
        "print(len(fol1))\n",
        "\n",
        "tcnt = 0\n",
        "mcnt = 0\n",
        "\n",
        "for i in range(500):\n",
        "  \n",
        "  img = fol1['imgUrl'].iloc[i]\n",
        "  \n",
        "  if img == None:\n",
        "    continue\n",
        "  \n",
        "  req = urlopen(img)\n",
        "  arr = np.asarray(bytearray(req.read()), dtype=np.uint8)\n",
        "  image = cv2.imdecode(arr, -1) \n",
        "  \n",
        "  face = agender.detect_genders_ages(image)\n",
        "  \n",
        "  if len(face) == 0:\n",
        "    pass\n",
        "  \n",
        "  elif face[0]['gender'] <= 0.5:\n",
        "    mcnt += 1\n",
        "    tcnt += 1\n",
        "  \n",
        "  elif face[0]['gender'] > 0.5:\n",
        "    tcnt += 1\n",
        "    \n",
        "    \n",
        "inf[followers['query'].iloc[0]] = mcnt*100 / tcnt\n",
        "inf[followers['query'].iloc[0]]"
      ],
      "execution_count": 0,
      "outputs": [
        {
          "output_type": "stream",
          "text": [
            "/usr/local/lib/python3.6/dist-packages/ipykernel_launcher.py:3: SettingWithCopyWarning: \n",
            "A value is trying to be set on a copy of a slice from a DataFrame\n",
            "\n",
            "See the caveats in the documentation: http://pandas.pydata.org/pandas-docs/stable/indexing.html#indexing-view-versus-copy\n",
            "  This is separate from the ipykernel package so we can avoid doing imports until\n"
          ],
          "name": "stderr"
        },
        {
          "output_type": "stream",
          "text": [
            "36678\n"
          ],
          "name": "stdout"
        },
        {
          "output_type": "execute_result",
          "data": {
            "text/plain": [
              "25.0"
            ]
          },
          "metadata": {
            "tags": []
          },
          "execution_count": 86
        }
      ]
    },
    {
      "cell_type": "code",
      "metadata": {
        "id": "xhriWlvV2Vci",
        "colab_type": "code",
        "outputId": "79bc5eaf-cae5-4a61-84f5-c239f65a7c94",
        "colab": {
          "base_uri": "https://localhost:8080/",
          "height": 35
        }
      },
      "source": [
        "tcnt"
      ],
      "execution_count": 0,
      "outputs": [
        {
          "output_type": "execute_result",
          "data": {
            "text/plain": [
              "68"
            ]
          },
          "metadata": {
            "tags": []
          },
          "execution_count": 87
        }
      ]
    },
    {
      "cell_type": "code",
      "metadata": {
        "id": "RPK9YGBp88WF",
        "colab_type": "code",
        "colab": {}
      },
      "source": [
        ""
      ],
      "execution_count": 0,
      "outputs": []
    },
    {
      "cell_type": "markdown",
      "metadata": {
        "id": "zR-dQqcE-P0a",
        "colab_type": "text"
      },
      "source": [
        "# Aggregation in Dataframe"
      ]
    },
    {
      "cell_type": "code",
      "metadata": {
        "id": "V24AZrXb-Suv",
        "colab_type": "code",
        "colab": {}
      },
      "source": [
        "data = {'name': [], 'tested': [], 'male': [], 'ratio': []}"
      ],
      "execution_count": 0,
      "outputs": []
    },
    {
      "cell_type": "code",
      "metadata": {
        "id": "pdx26xru-1C5",
        "colab_type": "code",
        "colab": {}
      },
      "source": [
        "# if influencer name or profile image missing\n",
        "\n",
        "followers.dropna(subset=['query', 'imgUrl'], inplace=True, how='any')"
      ],
      "execution_count": 0,
      "outputs": []
    },
    {
      "cell_type": "code",
      "metadata": {
        "id": "nijdVPoche7X",
        "colab_type": "code",
        "outputId": "65b090c5-4f3d-43ad-f1d1-64903b0bd052",
        "colab": {
          "base_uri": "https://localhost:8080/",
          "height": 35
        }
      },
      "source": [
        "followers.shape"
      ],
      "execution_count": 0,
      "outputs": [
        {
          "output_type": "execute_result",
          "data": {
            "text/plain": [
              "(569480, 10)"
            ]
          },
          "metadata": {
            "tags": []
          },
          "execution_count": 24
        }
      ]
    },
    {
      "cell_type": "code",
      "metadata": {
        "id": "nbKT2q_h-n7u",
        "colab_type": "code",
        "outputId": "fb918575-f54f-437e-93c5-e123f2f2e1a9",
        "colab": {
          "base_uri": "https://localhost:8080/",
          "height": 372
        }
      },
      "source": [
        "# List of influencers\n",
        "\n",
        "data['name'] = list(set(followers['query']))\n",
        "data['name']"
      ],
      "execution_count": 0,
      "outputs": [
        {
          "output_type": "execute_result",
          "data": {
            "text/plain": [
              "['https://www.instagram.com/sophie.h.k',\n",
              " 'https://www.instagram.com/kisy0729',\n",
              " 'https://www.instagram.com/acau1197',\n",
              " 'https://www.instagram.com/hyojinc_',\n",
              " 'https://www.instagram.com/psj9434',\n",
              " 'https://www.instagram.com/__angoo',\n",
              " 'https://www.instagram.com/hi_bambigirl',\n",
              " 'https://www.instagram.com/on_do__',\n",
              " 'https://www.instagram.com/iluliy',\n",
              " 'https://www.instagram.com/haneulina',\n",
              " 'https://www.instagram.com/seon_y_j',\n",
              " 'https://www.instagram.com/sojin282',\n",
              " 'https://www.instagram.com/hyesunee',\n",
              " 'https://www.instagram.com/h_ue_',\n",
              " 'https://www.instagram.com/guikkm',\n",
              " 'https://www.instagram.com/serim.hong.50',\n",
              " 'https://www.instagram.com/bbc0526',\n",
              " 'https://www.instagram.com/endears_o',\n",
              " 'https://www.instagram.com/yeseul0104',\n",
              " 'https://www.instagram.com/youlakk']"
            ]
          },
          "metadata": {
            "tags": []
          },
          "execution_count": 25
        }
      ]
    },
    {
      "cell_type": "code",
      "metadata": {
        "id": "TF9V08H_-v1P",
        "colab_type": "code",
        "colab": {}
      },
      "source": [
        "\n",
        "for influencer in data['name']:\n",
        "\n",
        "  tcnt = 0\n",
        "  mcnt = 0\n",
        "  rel = followers[followers['query'].isin([influencer])]\n",
        "  \n",
        "  # For time sake first 1000\n",
        "  # TODO: Come up with better sampling\n",
        "  \n",
        "  for i in range(1000):\n",
        "    \n",
        "    # Looping through followers' profile images\n",
        "    \n",
        "    img = rel['imgUrl'].iloc[i]\n",
        "  \n",
        "    if img == None:\n",
        "      continue\n",
        "    \n",
        "    # Evade HTTP 404 Error\n",
        "    \n",
        "    try:\n",
        "      req = urlopen(img)\n",
        "      arr = np.asarray(bytearray(req.read()), dtype=np.uint8)\n",
        "      image = cv2.imdecode(arr, -1) \n",
        "\n",
        "      face = agender.detect_genders_ages(image)\n",
        "\n",
        "      # Face Recognition Failed\n",
        "      \n",
        "      if len(face) == 0:\n",
        "        pass\n",
        "      \n",
        "      # Male\n",
        "      \n",
        "      elif face[0]['gender'] <= 0.5:\n",
        "        mcnt += 1\n",
        "        tcnt += 1\n",
        "\n",
        "      # Female\n",
        "        \n",
        "      elif face[0]['gender'] > 0.5:\n",
        "        tcnt += 1\n",
        "        \n",
        "    except:\n",
        "      continue\n",
        "    \n",
        "  data['tested'].append(tcnt)\n",
        "  data['male'].append(mcnt)\n",
        "  data['ratio'].append(mcnt*100/tcnt)\n",
        "  \n",
        "  # Took a while...."
      ],
      "execution_count": 0,
      "outputs": []
    },
    {
      "cell_type": "code",
      "metadata": {
        "id": "V4pE05Htjoh9",
        "colab_type": "code",
        "outputId": "4b7836c5-cb90-4605-b4b4-62ccec36574c",
        "colab": {
          "base_uri": "https://localhost:8080/",
          "height": 200
        }
      },
      "source": [
        "df = pd.DataFrame(data)\n",
        "df.head()"
      ],
      "execution_count": 0,
      "outputs": [
        {
          "output_type": "execute_result",
          "data": {
            "text/html": [
              "<div>\n",
              "<style scoped>\n",
              "    .dataframe tbody tr th:only-of-type {\n",
              "        vertical-align: middle;\n",
              "    }\n",
              "\n",
              "    .dataframe tbody tr th {\n",
              "        vertical-align: top;\n",
              "    }\n",
              "\n",
              "    .dataframe thead th {\n",
              "        text-align: right;\n",
              "    }\n",
              "</style>\n",
              "<table border=\"1\" class=\"dataframe\">\n",
              "  <thead>\n",
              "    <tr style=\"text-align: right;\">\n",
              "      <th></th>\n",
              "      <th>name</th>\n",
              "      <th>tested</th>\n",
              "      <th>male</th>\n",
              "      <th>ratio</th>\n",
              "    </tr>\n",
              "  </thead>\n",
              "  <tbody>\n",
              "    <tr>\n",
              "      <th>0</th>\n",
              "      <td>https://www.instagram.com/sophie.h.k</td>\n",
              "      <td>92</td>\n",
              "      <td>47</td>\n",
              "      <td>51.086957</td>\n",
              "    </tr>\n",
              "    <tr>\n",
              "      <th>1</th>\n",
              "      <td>https://www.instagram.com/kisy0729</td>\n",
              "      <td>155</td>\n",
              "      <td>30</td>\n",
              "      <td>19.354839</td>\n",
              "    </tr>\n",
              "    <tr>\n",
              "      <th>2</th>\n",
              "      <td>https://www.instagram.com/acau1197</td>\n",
              "      <td>86</td>\n",
              "      <td>30</td>\n",
              "      <td>34.883721</td>\n",
              "    </tr>\n",
              "    <tr>\n",
              "      <th>3</th>\n",
              "      <td>https://www.instagram.com/hyojinc_</td>\n",
              "      <td>153</td>\n",
              "      <td>26</td>\n",
              "      <td>16.993464</td>\n",
              "    </tr>\n",
              "    <tr>\n",
              "      <th>4</th>\n",
              "      <td>https://www.instagram.com/psj9434</td>\n",
              "      <td>151</td>\n",
              "      <td>21</td>\n",
              "      <td>13.907285</td>\n",
              "    </tr>\n",
              "  </tbody>\n",
              "</table>\n",
              "</div>"
            ],
            "text/plain": [
              "                                   name  tested  male      ratio\n",
              "0  https://www.instagram.com/sophie.h.k      92    47  51.086957\n",
              "1    https://www.instagram.com/kisy0729     155    30  19.354839\n",
              "2    https://www.instagram.com/acau1197      86    30  34.883721\n",
              "3    https://www.instagram.com/hyojinc_     153    26  16.993464\n",
              "4     https://www.instagram.com/psj9434     151    21  13.907285"
            ]
          },
          "metadata": {
            "tags": []
          },
          "execution_count": 29
        }
      ]
    },
    {
      "cell_type": "code",
      "metadata": {
        "id": "J0JGQCzf5Dd9",
        "colab_type": "code",
        "colab": {}
      },
      "source": [
        "df.to_csv(\"Gender_Ratio.csv\", index=False, encoding='utf-8' )"
      ],
      "execution_count": 0,
      "outputs": []
    },
    {
      "cell_type": "code",
      "metadata": {
        "id": "kjNrHFg-5Ug3",
        "colab_type": "code",
        "outputId": "228069a8-fda2-423f-b63b-389afa4b1b84",
        "colab": {
          "base_uri": "https://localhost:8080/",
          "height": 200
        }
      },
      "source": [
        "new = pd.read_csv(\"Gender_Ratio.csv\", encoding='utf-8')\n",
        "new.head()"
      ],
      "execution_count": 0,
      "outputs": [
        {
          "output_type": "execute_result",
          "data": {
            "text/html": [
              "<div>\n",
              "<style scoped>\n",
              "    .dataframe tbody tr th:only-of-type {\n",
              "        vertical-align: middle;\n",
              "    }\n",
              "\n",
              "    .dataframe tbody tr th {\n",
              "        vertical-align: top;\n",
              "    }\n",
              "\n",
              "    .dataframe thead th {\n",
              "        text-align: right;\n",
              "    }\n",
              "</style>\n",
              "<table border=\"1\" class=\"dataframe\">\n",
              "  <thead>\n",
              "    <tr style=\"text-align: right;\">\n",
              "      <th></th>\n",
              "      <th>name</th>\n",
              "      <th>tested</th>\n",
              "      <th>male</th>\n",
              "      <th>ratio</th>\n",
              "    </tr>\n",
              "  </thead>\n",
              "  <tbody>\n",
              "    <tr>\n",
              "      <th>0</th>\n",
              "      <td>https://www.instagram.com/sophie.h.k</td>\n",
              "      <td>92</td>\n",
              "      <td>47</td>\n",
              "      <td>51.086957</td>\n",
              "    </tr>\n",
              "    <tr>\n",
              "      <th>1</th>\n",
              "      <td>https://www.instagram.com/kisy0729</td>\n",
              "      <td>155</td>\n",
              "      <td>30</td>\n",
              "      <td>19.354839</td>\n",
              "    </tr>\n",
              "    <tr>\n",
              "      <th>2</th>\n",
              "      <td>https://www.instagram.com/acau1197</td>\n",
              "      <td>86</td>\n",
              "      <td>30</td>\n",
              "      <td>34.883721</td>\n",
              "    </tr>\n",
              "    <tr>\n",
              "      <th>3</th>\n",
              "      <td>https://www.instagram.com/hyojinc_</td>\n",
              "      <td>153</td>\n",
              "      <td>26</td>\n",
              "      <td>16.993464</td>\n",
              "    </tr>\n",
              "    <tr>\n",
              "      <th>4</th>\n",
              "      <td>https://www.instagram.com/psj9434</td>\n",
              "      <td>151</td>\n",
              "      <td>21</td>\n",
              "      <td>13.907285</td>\n",
              "    </tr>\n",
              "  </tbody>\n",
              "</table>\n",
              "</div>"
            ],
            "text/plain": [
              "                                   name  tested  male      ratio\n",
              "0  https://www.instagram.com/sophie.h.k      92    47  51.086957\n",
              "1    https://www.instagram.com/kisy0729     155    30  19.354839\n",
              "2    https://www.instagram.com/acau1197      86    30  34.883721\n",
              "3    https://www.instagram.com/hyojinc_     153    26  16.993464\n",
              "4     https://www.instagram.com/psj9434     151    21  13.907285"
            ]
          },
          "metadata": {
            "tags": []
          },
          "execution_count": 32
        }
      ]
    },
    {
      "cell_type": "code",
      "metadata": {
        "id": "XMLWYli15aAR",
        "colab_type": "code",
        "colab": {}
      },
      "source": [
        ""
      ],
      "execution_count": 0,
      "outputs": []
    }
  ]
}