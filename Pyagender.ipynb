{
  "nbformat": 4,
  "nbformat_minor": 0,
  "metadata": {
    "colab": {
      "name": "Pyagender.ipynb",
      "version": "0.3.2",
      "provenance": [],
      "collapsed_sections": [],
      "include_colab_link": true
    },
    "kernelspec": {
      "name": "python3",
      "display_name": "Python 3"
    }
  },
  "cells": [
    {
      "cell_type": "markdown",
      "metadata": {
        "id": "view-in-github",
        "colab_type": "text"
      },
      "source": [
        "<a href=\"https://colab.research.google.com/github/yoongaemii/BTXGH/blob/master/Pyagender.ipynb\" target=\"_parent\"><img src=\"https://colab.research.google.com/assets/colab-badge.svg\" alt=\"Open In Colab\"/></a>"
      ]
    },
    {
      "cell_type": "code",
      "metadata": {
        "id": "xr4SqWjxcO47",
        "colab_type": "code",
        "colab": {
          "base_uri": "https://localhost:8080/",
          "height": 532
        },
        "outputId": "e21c006a-5edb-4598-ea40-6ffbcd6ae427"
      },
      "source": [
        "!pip install py-agender"
      ],
      "execution_count": 3,
      "outputs": [
        {
          "output_type": "stream",
          "text": [
            "Collecting py-agender\n",
            "\u001b[?25l  Downloading https://files.pythonhosted.org/packages/40/b7/3a04aaa8df0c9c923e97e93f9c99ad1daf055cbc8bd4086c8f0c9c0711e3/py_agender-0.0.8-py3-none-any.whl (188.3MB)\n",
            "\u001b[K     |████████████████████████████████| 188.3MB 1.3MB/s \n",
            "\u001b[?25hRequirement already satisfied: numpy>=1.12 in /usr/local/lib/python3.6/dist-packages (from py-agender) (1.16.4)\n",
            "Requirement already satisfied: opencv-python<3.99,>=3.3.0+contrib in /usr/local/lib/python3.6/dist-packages (from py-agender) (3.4.5.20)\n",
            "Requirement already satisfied: Keras>=2.1 in /usr/local/lib/python3.6/dist-packages (from py-agender) (2.2.4)\n",
            "Requirement already satisfied: TensorFlow<1.19,>=1.10 in /usr/local/lib/python3.6/dist-packages (from py-agender) (1.14.0)\n",
            "Requirement already satisfied: keras-preprocessing>=1.0.5 in /usr/local/lib/python3.6/dist-packages (from Keras>=2.1->py-agender) (1.1.0)\n",
            "Requirement already satisfied: scipy>=0.14 in /usr/local/lib/python3.6/dist-packages (from Keras>=2.1->py-agender) (1.3.0)\n",
            "Requirement already satisfied: h5py in /usr/local/lib/python3.6/dist-packages (from Keras>=2.1->py-agender) (2.8.0)\n",
            "Requirement already satisfied: six>=1.9.0 in /usr/local/lib/python3.6/dist-packages (from Keras>=2.1->py-agender) (1.12.0)\n",
            "Requirement already satisfied: keras-applications>=1.0.6 in /usr/local/lib/python3.6/dist-packages (from Keras>=2.1->py-agender) (1.0.8)\n",
            "Requirement already satisfied: pyyaml in /usr/local/lib/python3.6/dist-packages (from Keras>=2.1->py-agender) (3.13)\n",
            "Requirement already satisfied: tensorflow-estimator<1.15.0rc0,>=1.14.0rc0 in /usr/local/lib/python3.6/dist-packages (from TensorFlow<1.19,>=1.10->py-agender) (1.14.0)\n",
            "Requirement already satisfied: gast>=0.2.0 in /usr/local/lib/python3.6/dist-packages (from TensorFlow<1.19,>=1.10->py-agender) (0.2.2)\n",
            "Requirement already satisfied: wheel>=0.26 in /usr/local/lib/python3.6/dist-packages (from TensorFlow<1.19,>=1.10->py-agender) (0.33.4)\n",
            "Requirement already satisfied: termcolor>=1.1.0 in /usr/local/lib/python3.6/dist-packages (from TensorFlow<1.19,>=1.10->py-agender) (1.1.0)\n",
            "Requirement already satisfied: astor>=0.6.0 in /usr/local/lib/python3.6/dist-packages (from TensorFlow<1.19,>=1.10->py-agender) (0.8.0)\n",
            "Requirement already satisfied: wrapt>=1.11.1 in /usr/local/lib/python3.6/dist-packages (from TensorFlow<1.19,>=1.10->py-agender) (1.11.2)\n",
            "Requirement already satisfied: tensorboard<1.15.0,>=1.14.0 in /usr/local/lib/python3.6/dist-packages (from TensorFlow<1.19,>=1.10->py-agender) (1.14.0)\n",
            "Requirement already satisfied: grpcio>=1.8.6 in /usr/local/lib/python3.6/dist-packages (from TensorFlow<1.19,>=1.10->py-agender) (1.15.0)\n",
            "Requirement already satisfied: google-pasta>=0.1.6 in /usr/local/lib/python3.6/dist-packages (from TensorFlow<1.19,>=1.10->py-agender) (0.1.7)\n",
            "Requirement already satisfied: absl-py>=0.7.0 in /usr/local/lib/python3.6/dist-packages (from TensorFlow<1.19,>=1.10->py-agender) (0.7.1)\n",
            "Requirement already satisfied: protobuf>=3.6.1 in /usr/local/lib/python3.6/dist-packages (from TensorFlow<1.19,>=1.10->py-agender) (3.7.1)\n",
            "Requirement already satisfied: setuptools>=41.0.0 in /usr/local/lib/python3.6/dist-packages (from tensorboard<1.15.0,>=1.14.0->TensorFlow<1.19,>=1.10->py-agender) (41.0.1)\n",
            "Requirement already satisfied: markdown>=2.6.8 in /usr/local/lib/python3.6/dist-packages (from tensorboard<1.15.0,>=1.14.0->TensorFlow<1.19,>=1.10->py-agender) (3.1.1)\n",
            "Requirement already satisfied: werkzeug>=0.11.15 in /usr/local/lib/python3.6/dist-packages (from tensorboard<1.15.0,>=1.14.0->TensorFlow<1.19,>=1.10->py-agender) (0.15.4)\n",
            "Installing collected packages: py-agender\n",
            "Successfully installed py-agender-0.0.8\n"
          ],
          "name": "stdout"
        }
      ]
    },
    {
      "cell_type": "code",
      "metadata": {
        "id": "OCxBW1KQcd_f",
        "colab_type": "code",
        "colab": {}
      },
      "source": [
        "from pyagender import PyAgender"
      ],
      "execution_count": 0,
      "outputs": []
    },
    {
      "cell_type": "code",
      "metadata": {
        "id": "MS-NhKy-dLZp",
        "colab_type": "code",
        "colab": {
          "base_uri": "https://localhost:8080/",
          "height": 35
        },
        "outputId": "fdd6b346-80d6-40df-e5ee-1f63a121eb20"
      },
      "source": [
        "from google.colab import drive\n",
        "drive.mount('/gdrive')"
      ],
      "execution_count": 6,
      "outputs": [
        {
          "output_type": "stream",
          "text": [
            "Drive already mounted at /gdrive; to attempt to forcibly remount, call drive.mount(\"/gdrive\", force_remount=True).\n"
          ],
          "name": "stdout"
        }
      ]
    },
    {
      "cell_type": "code",
      "metadata": {
        "id": "OShAf7h8dYk0",
        "colab_type": "code",
        "colab": {}
      },
      "source": [
        "import os\n",
        "import pandas as pd\n",
        "import numpy as np\n",
        "import matplotlib.pyplot as plt"
      ],
      "execution_count": 0,
      "outputs": []
    },
    {
      "cell_type": "code",
      "metadata": {
        "id": "jHrh1p_7djds",
        "colab_type": "code",
        "colab": {
          "base_uri": "https://localhost:8080/",
          "height": 35
        },
        "outputId": "d562443d-50dd-4f3e-e691-0e5ec9f031f7"
      },
      "source": [
        "os.getcwd()"
      ],
      "execution_count": 10,
      "outputs": [
        {
          "output_type": "execute_result",
          "data": {
            "text/plain": [
              "'/content'"
            ]
          },
          "metadata": {
            "tags": []
          },
          "execution_count": 10
        }
      ]
    },
    {
      "cell_type": "code",
      "metadata": {
        "id": "lmzBn1PNdlXO",
        "colab_type": "code",
        "colab": {}
      },
      "source": [
        "os.chdir(\"/gdrive/My Drive/Colab Notebooks\")"
      ],
      "execution_count": 0,
      "outputs": []
    },
    {
      "cell_type": "code",
      "metadata": {
        "id": "TmyhIFM8dxIb",
        "colab_type": "code",
        "colab": {}
      },
      "source": [
        "img_folder = os.getcwd() + \"/celeba-dataset/img_align_celeba/img_align_celeba/\"\n",
        "imgEX = img_folder + \"000001.jpg\""
      ],
      "execution_count": 0,
      "outputs": []
    },
    {
      "cell_type": "code",
      "metadata": {
        "id": "Dk7JZ0O7eUWQ",
        "colab_type": "code",
        "colab": {}
      },
      "source": [
        "import cv2"
      ],
      "execution_count": 0,
      "outputs": []
    },
    {
      "cell_type": "code",
      "metadata": {
        "id": "_mjwBRs8cogS",
        "colab_type": "code",
        "colab": {
          "base_uri": "https://localhost:8080/",
          "height": 304
        },
        "outputId": "99b7e01b-fddc-4a86-8dd1-6c07fbaee346"
      },
      "source": [
        "agender = PyAgender() \n",
        "# see available options in __init__() src\n",
        "\n",
        "faces = agender.detect_genders_ages(cv2.imread(imgEX))"
      ],
      "execution_count": 15,
      "outputs": [
        {
          "output_type": "stream",
          "text": [
            "WARNING: Logging before flag parsing goes to stderr.\n",
            "W0716 01:50:42.960581 140177790871424 deprecation_wrapper.py:119] From /usr/local/lib/python3.6/dist-packages/keras/backend/tensorflow_backend.py:74: The name tf.get_default_graph is deprecated. Please use tf.compat.v1.get_default_graph instead.\n",
            "\n",
            "W0716 01:50:43.002798 140177790871424 deprecation_wrapper.py:119] From /usr/local/lib/python3.6/dist-packages/keras/backend/tensorflow_backend.py:517: The name tf.placeholder is deprecated. Please use tf.compat.v1.placeholder instead.\n",
            "\n",
            "W0716 01:50:43.014816 140177790871424 deprecation_wrapper.py:119] From /usr/local/lib/python3.6/dist-packages/keras/backend/tensorflow_backend.py:4185: The name tf.truncated_normal is deprecated. Please use tf.random.truncated_normal instead.\n",
            "\n",
            "W0716 01:50:43.075899 140177790871424 deprecation_wrapper.py:119] From /usr/local/lib/python3.6/dist-packages/keras/backend/tensorflow_backend.py:174: The name tf.get_default_session is deprecated. Please use tf.compat.v1.get_default_session instead.\n",
            "\n",
            "W0716 01:50:43.077032 140177790871424 deprecation_wrapper.py:119] From /usr/local/lib/python3.6/dist-packages/keras/backend/tensorflow_backend.py:181: The name tf.ConfigProto is deprecated. Please use tf.compat.v1.ConfigProto instead.\n",
            "\n",
            "W0716 01:50:43.349791 140177790871424 deprecation_wrapper.py:119] From /usr/local/lib/python3.6/dist-packages/keras/backend/tensorflow_backend.py:1834: The name tf.nn.fused_batch_norm is deprecated. Please use tf.compat.v1.nn.fused_batch_norm instead.\n",
            "\n",
            "W0716 01:50:44.629867 140177790871424 deprecation_wrapper.py:119] From /usr/local/lib/python3.6/dist-packages/keras/backend/tensorflow_backend.py:3980: The name tf.nn.avg_pool is deprecated. Please use tf.nn.avg_pool2d instead.\n",
            "\n"
          ],
          "name": "stderr"
        }
      ]
    },
    {
      "cell_type": "code",
      "metadata": {
        "id": "HHOb1XALfaHC",
        "colab_type": "code",
        "colab": {
          "base_uri": "https://localhost:8080/",
          "height": 35
        },
        "outputId": "3a33cab6-bfd0-423b-e409-f44b98fe47c0"
      },
      "source": [
        "import sys\n",
        "sys.version"
      ],
      "execution_count": 19,
      "outputs": [
        {
          "output_type": "execute_result",
          "data": {
            "text/plain": [
              "'3.6.8 (default, Jan 14 2019, 11:02:34) \\n[GCC 8.0.1 20180414 (experimental) [trunk revision 259383]]'"
            ]
          },
          "metadata": {
            "tags": []
          },
          "execution_count": 19
        }
      ]
    },
    {
      "cell_type": "code",
      "metadata": {
        "id": "-uEgX2A1hLrt",
        "colab_type": "code",
        "colab": {
          "base_uri": "https://localhost:8080/",
          "height": 35
        },
        "outputId": "13cc93fb-0138-40fc-f576-8b92762a4f31"
      },
      "source": [
        "np.__version__"
      ],
      "execution_count": 21,
      "outputs": [
        {
          "output_type": "execute_result",
          "data": {
            "text/plain": [
              "'1.16.4'"
            ]
          },
          "metadata": {
            "tags": []
          },
          "execution_count": 21
        }
      ]
    },
    {
      "cell_type": "code",
      "metadata": {
        "id": "ZEg43YLlher_",
        "colab_type": "code",
        "colab": {
          "base_uri": "https://localhost:8080/",
          "height": 35
        },
        "outputId": "9ab65ba0-bee2-4ac4-9f98-f389da3b27a6"
      },
      "source": [
        "cv2.__version__"
      ],
      "execution_count": 25,
      "outputs": [
        {
          "output_type": "execute_result",
          "data": {
            "text/plain": [
              "'3.4.3'"
            ]
          },
          "metadata": {
            "tags": []
          },
          "execution_count": 25
        }
      ]
    },
    {
      "cell_type": "code",
      "metadata": {
        "id": "FQpB_C-Vhiu1",
        "colab_type": "code",
        "colab": {
          "base_uri": "https://localhost:8080/",
          "height": 52
        },
        "outputId": "730a12ec-43d4-42b2-cc73-e3f7fd9bdc2e"
      },
      "source": [
        "import tensorflow as tf\n",
        "import keras\n",
        "print(\"tf: \", tf.__version__)\n",
        "print(\"keras: \", keras.__version__)"
      ],
      "execution_count": 27,
      "outputs": [
        {
          "output_type": "stream",
          "text": [
            "tf:  1.14.0\n",
            "keras:  2.2.4\n"
          ],
          "name": "stdout"
        }
      ]
    },
    {
      "cell_type": "code",
      "metadata": {
        "id": "bcw7wM9zh1LW",
        "colab_type": "code",
        "colab": {
          "base_uri": "https://localhost:8080/",
          "height": 1000
        },
        "outputId": "309c2a19-6173-486c-88d4-edc67516ebf8"
      },
      "source": [
        "!pip install --force-reinstall tensorflow==1.9"
      ],
      "execution_count": 28,
      "outputs": [
        {
          "output_type": "stream",
          "text": [
            "Collecting tensorflow==1.9\n",
            "\u001b[?25l  Downloading https://files.pythonhosted.org/packages/86/95/274190b39950e1e9eef4b071acefea832ac3e2c19bb4b442fa54f3214d2e/tensorflow-1.9.0-cp36-cp36m-manylinux1_x86_64.whl (51.1MB)\n",
            "\u001b[K     |████████████████████████████████| 51.1MB 5.4MB/s \n",
            "\u001b[?25hCollecting termcolor>=1.1.0 (from tensorflow==1.9)\n",
            "  Downloading https://files.pythonhosted.org/packages/8a/48/a76be51647d0eb9f10e2a4511bf3ffb8cc1e6b14e9e4fab46173aa79f981/termcolor-1.1.0.tar.gz\n",
            "Collecting tensorboard<1.10.0,>=1.9.0 (from tensorflow==1.9)\n",
            "\u001b[?25l  Downloading https://files.pythonhosted.org/packages/9e/1f/3da43860db614e294a034e42d4be5c8f7f0d2c75dc1c428c541116d8cdab/tensorboard-1.9.0-py3-none-any.whl (3.3MB)\n",
            "\u001b[K     |████████████████████████████████| 3.3MB 30.7MB/s \n",
            "\u001b[?25hCollecting grpcio>=1.8.6 (from tensorflow==1.9)\n",
            "\u001b[?25l  Downloading https://files.pythonhosted.org/packages/f2/5d/b434403adb2db8853a97828d3d19f2032e79d630e0d11a8e95d243103a11/grpcio-1.22.0-cp36-cp36m-manylinux1_x86_64.whl (2.2MB)\n",
            "\u001b[K     |████████████████████████████████| 2.2MB 38.1MB/s \n",
            "\u001b[?25hCollecting gast>=0.2.0 (from tensorflow==1.9)\n",
            "  Downloading https://files.pythonhosted.org/packages/4e/35/11749bf99b2d4e3cceb4d55ca22590b0d7c2c62b9de38ac4a4a7f4687421/gast-0.2.2.tar.gz\n",
            "Collecting wheel>=0.26 (from tensorflow==1.9)\n",
            "  Downloading https://files.pythonhosted.org/packages/bb/10/44230dd6bf3563b8f227dbf344c908d412ad2ff48066476672f3a72e174e/wheel-0.33.4-py2.py3-none-any.whl\n",
            "Collecting six>=1.10.0 (from tensorflow==1.9)\n",
            "  Downloading https://files.pythonhosted.org/packages/73/fb/00a976f728d0d1fecfe898238ce23f502a721c0ac0ecfedb80e0d88c64e9/six-1.12.0-py2.py3-none-any.whl\n",
            "Collecting numpy>=1.13.3 (from tensorflow==1.9)\n",
            "\u001b[?25l  Downloading https://files.pythonhosted.org/packages/87/2d/e4656149cbadd3a8a0369fcd1a9c7d61cc7b87b3903b85389c70c989a696/numpy-1.16.4-cp36-cp36m-manylinux1_x86_64.whl (17.3MB)\n",
            "\u001b[K     |████████████████████████████████| 17.3MB 32.4MB/s \n",
            "\u001b[?25hCollecting setuptools<=39.1.0 (from tensorflow==1.9)\n",
            "\u001b[?25l  Downloading https://files.pythonhosted.org/packages/8c/10/79282747f9169f21c053c562a0baa21815a8c7879be97abd930dbcf862e8/setuptools-39.1.0-py2.py3-none-any.whl (566kB)\n",
            "\u001b[K     |████████████████████████████████| 573kB 40.4MB/s \n",
            "\u001b[?25hCollecting absl-py>=0.1.6 (from tensorflow==1.9)\n",
            "\u001b[?25l  Downloading https://files.pythonhosted.org/packages/da/3f/9b0355080b81b15ba6a9ffcf1f5ea39e307a2778b2f2dc8694724e8abd5b/absl-py-0.7.1.tar.gz (99kB)\n",
            "\u001b[K     |████████████████████████████████| 102kB 28.6MB/s \n",
            "\u001b[?25hCollecting protobuf>=3.4.0 (from tensorflow==1.9)\n",
            "\u001b[?25l  Downloading https://files.pythonhosted.org/packages/dc/0e/e7cdff89745986c984ba58e6ff6541bc5c388dd9ab9d7d312b3b1532584a/protobuf-3.9.0-cp36-cp36m-manylinux1_x86_64.whl (1.2MB)\n",
            "\u001b[K     |████████████████████████████████| 1.2MB 31.7MB/s \n",
            "\u001b[?25hCollecting astor>=0.6.0 (from tensorflow==1.9)\n",
            "  Downloading https://files.pythonhosted.org/packages/d1/4f/950dfae467b384fc96bc6469de25d832534f6b4441033c39f914efd13418/astor-0.8.0-py2.py3-none-any.whl\n",
            "Collecting werkzeug>=0.11.10 (from tensorboard<1.10.0,>=1.9.0->tensorflow==1.9)\n",
            "\u001b[?25l  Downloading https://files.pythonhosted.org/packages/9f/57/92a497e38161ce40606c27a86759c6b92dd34fcdb33f64171ec559257c02/Werkzeug-0.15.4-py2.py3-none-any.whl (327kB)\n",
            "\u001b[K     |████████████████████████████████| 327kB 43.1MB/s \n",
            "\u001b[?25hCollecting markdown>=2.6.8 (from tensorboard<1.10.0,>=1.9.0->tensorflow==1.9)\n",
            "\u001b[?25l  Downloading https://files.pythonhosted.org/packages/c0/4e/fd492e91abdc2d2fcb70ef453064d980688762079397f779758e055f6575/Markdown-3.1.1-py2.py3-none-any.whl (87kB)\n",
            "\u001b[K     |████████████████████████████████| 92kB 26.9MB/s \n",
            "\u001b[?25hBuilding wheels for collected packages: termcolor, gast, absl-py\n",
            "  Building wheel for termcolor (setup.py) ... \u001b[?25l\u001b[?25hdone\n",
            "  Stored in directory: /root/.cache/pip/wheels/7c/06/54/bc84598ba1daf8f970247f550b175aaaee85f68b4b0c5ab2c6\n",
            "  Building wheel for gast (setup.py) ... \u001b[?25l\u001b[?25hdone\n",
            "  Stored in directory: /root/.cache/pip/wheels/5c/2e/7e/a1d4d4fcebe6c381f378ce7743a3ced3699feb89bcfbdadadd\n",
            "  Building wheel for absl-py (setup.py) ... \u001b[?25l\u001b[?25hdone\n",
            "  Stored in directory: /root/.cache/pip/wheels/ee/98/38/46cbcc5a93cfea5492d19c38562691ddb23b940176c14f7b48\n",
            "Successfully built termcolor gast absl-py\n",
            "\u001b[31mERROR: py-agender 0.0.8 has requirement TensorFlow<1.19,>=1.10, but you'll have tensorflow 1.9.0 which is incompatible.\u001b[0m\n",
            "\u001b[31mERROR: magenta 0.3.19 has requirement tensorflow>=1.12.0, but you'll have tensorflow 1.9.0 which is incompatible.\u001b[0m\n",
            "\u001b[31mERROR: jupyter-console 6.0.0 has requirement prompt-toolkit<2.1.0,>=2.0.0, but you'll have prompt-toolkit 1.0.16 which is incompatible.\u001b[0m\n",
            "\u001b[31mERROR: datascience 0.10.6 has requirement folium==0.2.1, but you'll have folium 0.8.3 which is incompatible.\u001b[0m\n",
            "\u001b[31mERROR: albumentations 0.1.12 has requirement imgaug<0.2.7,>=0.2.5, but you'll have imgaug 0.2.9 which is incompatible.\u001b[0m\n",
            "Installing collected packages: termcolor, werkzeug, wheel, six, numpy, setuptools, protobuf, markdown, tensorboard, grpcio, gast, absl-py, astor, tensorflow\n",
            "  Found existing installation: termcolor 1.1.0\n",
            "    Uninstalling termcolor-1.1.0:\n",
            "      Successfully uninstalled termcolor-1.1.0\n",
            "  Found existing installation: Werkzeug 0.15.4\n",
            "    Uninstalling Werkzeug-0.15.4:\n",
            "      Successfully uninstalled Werkzeug-0.15.4\n",
            "  Found existing installation: wheel 0.33.4\n",
            "    Uninstalling wheel-0.33.4:\n",
            "      Successfully uninstalled wheel-0.33.4\n",
            "  Found existing installation: six 1.12.0\n",
            "    Uninstalling six-1.12.0:\n",
            "      Successfully uninstalled six-1.12.0\n",
            "  Found existing installation: numpy 1.16.4\n",
            "    Uninstalling numpy-1.16.4:\n",
            "      Successfully uninstalled numpy-1.16.4\n",
            "  Found existing installation: setuptools 41.0.1\n",
            "    Uninstalling setuptools-41.0.1:\n",
            "      Successfully uninstalled setuptools-41.0.1\n",
            "  Found existing installation: protobuf 3.7.1\n",
            "    Uninstalling protobuf-3.7.1:\n",
            "      Successfully uninstalled protobuf-3.7.1\n",
            "  Found existing installation: Markdown 3.1.1\n",
            "    Uninstalling Markdown-3.1.1:\n",
            "      Successfully uninstalled Markdown-3.1.1\n",
            "  Found existing installation: tensorboard 1.14.0\n",
            "    Uninstalling tensorboard-1.14.0:\n",
            "      Successfully uninstalled tensorboard-1.14.0\n",
            "  Found existing installation: grpcio 1.15.0\n",
            "    Uninstalling grpcio-1.15.0:\n",
            "      Successfully uninstalled grpcio-1.15.0\n",
            "  Found existing installation: gast 0.2.2\n",
            "    Uninstalling gast-0.2.2:\n",
            "      Successfully uninstalled gast-0.2.2\n",
            "  Found existing installation: absl-py 0.7.1\n",
            "    Uninstalling absl-py-0.7.1:\n",
            "      Successfully uninstalled absl-py-0.7.1\n",
            "  Found existing installation: astor 0.8.0\n",
            "    Uninstalling astor-0.8.0:\n",
            "      Successfully uninstalled astor-0.8.0\n",
            "  Found existing installation: tensorflow 1.14.0\n",
            "    Uninstalling tensorflow-1.14.0:\n",
            "      Successfully uninstalled tensorflow-1.14.0\n",
            "Successfully installed absl-py-0.7.1 astor-0.8.0 gast-0.2.2 grpcio-1.22.0 markdown-3.1.1 numpy-1.16.4 protobuf-3.9.0 setuptools-39.1.0 six-1.12.0 tensorboard-1.9.0 tensorflow-1.9.0 termcolor-1.1.0 werkzeug-0.15.4 wheel-0.33.4\n"
          ],
          "name": "stdout"
        },
        {
          "output_type": "display_data",
          "data": {
            "application/vnd.colab-display-data+json": {
              "pip_warning": {
                "packages": [
                  "absl",
                  "astor",
                  "gast",
                  "google",
                  "grpc",
                  "numpy",
                  "pkg_resources",
                  "six",
                  "tensorboard",
                  "tensorflow",
                  "termcolor"
                ]
              }
            }
          },
          "metadata": {
            "tags": []
          }
        }
      ]
    },
    {
      "cell_type": "code",
      "metadata": {
        "id": "YzX51jCVjb03",
        "colab_type": "code",
        "colab": {}
      },
      "source": [
        "agender = PyAgender() \n",
        "# see available options in __init__() src\n",
        "\n",
        "faces = agender.detect_genders_ages(cv2.imread(imgEX))"
      ],
      "execution_count": 0,
      "outputs": []
    },
    {
      "cell_type": "code",
      "metadata": {
        "id": "9KuwD1Nnjy1y",
        "colab_type": "code",
        "colab": {
          "base_uri": "https://localhost:8080/",
          "height": 159
        },
        "outputId": "9034199e-47ed-4fc1-aee3-d467bf60b1db"
      },
      "source": [
        "faces"
      ],
      "execution_count": 30,
      "outputs": [
        {
          "output_type": "execute_result",
          "data": {
            "text/plain": [
              "[{'age': 35.44406699346172,\n",
              "  'bottom': 214,\n",
              "  'gender': 0.97524863,\n",
              "  'height': 180,\n",
              "  'left': 0,\n",
              "  'right': 177,\n",
              "  'top': 34,\n",
              "  'width': 177}]"
            ]
          },
          "metadata": {
            "tags": []
          },
          "execution_count": 30
        }
      ]
    },
    {
      "cell_type": "code",
      "metadata": {
        "id": "qpVWfibXj1ey",
        "colab_type": "code",
        "colab": {
          "base_uri": "https://localhost:8080/",
          "height": 159
        },
        "outputId": "ca46a675-5eed-4da4-fda5-e1539c977d89"
      },
      "source": [
        "jw = img_folder + '1.jpg'\n",
        "insta = agender.detect_genders_ages(cv2.imread(jw))\n",
        "insta"
      ],
      "execution_count": 31,
      "outputs": [
        {
          "output_type": "execute_result",
          "data": {
            "text/plain": [
              "[{'age': 20.96142437436629,\n",
              "  'bottom': 157,\n",
              "  'gender': 0.08397108,\n",
              "  'height': 156,\n",
              "  'left': 83,\n",
              "  'right': 239,\n",
              "  'top': 1,\n",
              "  'width': 156}]"
            ]
          },
          "metadata": {
            "tags": []
          },
          "execution_count": 31
        }
      ]
    },
    {
      "cell_type": "code",
      "metadata": {
        "id": "bdvsGIVCk1zs",
        "colab_type": "code",
        "colab": {
          "base_uri": "https://localhost:8080/",
          "height": 159
        },
        "outputId": "966aa2e4-ee70-48e4-f6a8-12aa8e2d9a9c"
      },
      "source": [
        "cl = img_folder + '2.jpg'\n",
        "face =agender.detect_genders_ages(cv2.imread(cl))\n",
        "face"
      ],
      "execution_count": 32,
      "outputs": [
        {
          "output_type": "execute_result",
          "data": {
            "text/plain": [
              "[{'age': 25.34773247403973,\n",
              "  'bottom': 230,\n",
              "  'gender': 0.8657613,\n",
              "  'height': 209,\n",
              "  'left': 58,\n",
              "  'right': 267,\n",
              "  'top': 21,\n",
              "  'width': 209}]"
            ]
          },
          "metadata": {
            "tags": []
          },
          "execution_count": 32
        }
      ]
    },
    {
      "cell_type": "code",
      "metadata": {
        "id": "s1dYGh8elRGJ",
        "colab_type": "code",
        "colab": {
          "base_uri": "https://localhost:8080/",
          "height": 35
        },
        "outputId": "09da60ae-82e7-4d02-f44b-e9cc2ed494c2"
      },
      "source": [
        "im3 = img_folder + '3.jpg'\n",
        "im4 = img_folder + '4.jpg'\n",
        "face1 = agender.detect_genders_ages(cv2.imread(im3))\n",
        "face2 = agender.detect_genders_ages(cv2.imread(im4))\n",
        "face1"
      ],
      "execution_count": 34,
      "outputs": [
        {
          "output_type": "execute_result",
          "data": {
            "text/plain": [
              "[]"
            ]
          },
          "metadata": {
            "tags": []
          },
          "execution_count": 34
        }
      ]
    },
    {
      "cell_type": "code",
      "metadata": {
        "id": "PbEzprpFlxR5",
        "colab_type": "code",
        "colab": {
          "base_uri": "https://localhost:8080/",
          "height": 159
        },
        "outputId": "89518850-88de-4b0d-c564-44a06ec2eb51"
      },
      "source": [
        "face2"
      ],
      "execution_count": 35,
      "outputs": [
        {
          "output_type": "execute_result",
          "data": {
            "text/plain": [
              "[{'age': 24.643425123049383,\n",
              "  'bottom': 594,\n",
              "  'gender': 0.96085167,\n",
              "  'height': 309,\n",
              "  'left': 185,\n",
              "  'right': 494,\n",
              "  'top': 285,\n",
              "  'width': 309}]"
            ]
          },
          "metadata": {
            "tags": []
          },
          "execution_count": 35
        }
      ]
    },
    {
      "cell_type": "code",
      "metadata": {
        "id": "GoU38dLol0wp",
        "colab_type": "code",
        "colab": {
          "base_uri": "https://localhost:8080/",
          "height": 159
        },
        "outputId": "89fa5a08-efee-486c-bb0b-f9cf87fa9a7b"
      },
      "source": [
        "im5 = img_folder + '5.jpg'\n",
        "im6 = img_folder + '6.jpg'\n",
        "face3 = agender.detect_genders_ages(cv2.imread(im5))\n",
        "face4 = agender.detect_genders_ages(cv2.imread(im6))\n",
        "face3"
      ],
      "execution_count": 36,
      "outputs": [
        {
          "output_type": "execute_result",
          "data": {
            "text/plain": [
              "[{'age': 43.9804478499027,\n",
              "  'bottom': 272,\n",
              "  'gender': 0.026778067,\n",
              "  'height': 272,\n",
              "  'left': 279,\n",
              "  'right': 578,\n",
              "  'top': 0,\n",
              "  'width': 299}]"
            ]
          },
          "metadata": {
            "tags": []
          },
          "execution_count": 36
        }
      ]
    },
    {
      "cell_type": "code",
      "metadata": {
        "id": "JBmornFSmbq7",
        "colab_type": "code",
        "colab": {
          "base_uri": "https://localhost:8080/",
          "height": 159
        },
        "outputId": "c8c6bbb7-9093-4bc3-f486-f0532171f7a9"
      },
      "source": [
        "face4"
      ],
      "execution_count": 37,
      "outputs": [
        {
          "output_type": "execute_result",
          "data": {
            "text/plain": [
              "[{'age': 42.503487939277875,\n",
              "  'bottom': 361,\n",
              "  'gender': 0.09180241,\n",
              "  'height': 198,\n",
              "  'left': 752,\n",
              "  'right': 950,\n",
              "  'top': 163,\n",
              "  'width': 198}]"
            ]
          },
          "metadata": {
            "tags": []
          },
          "execution_count": 37
        }
      ]
    },
    {
      "cell_type": "code",
      "metadata": {
        "id": "Qm76I592mcmA",
        "colab_type": "code",
        "colab": {
          "base_uri": "https://localhost:8080/",
          "height": 159
        },
        "outputId": "73269ba2-a27b-4f6e-f8f2-d6054ae0c418"
      },
      "source": [
        "faces = agender.detect_genders_ages(cv2.imread(jw))\n",
        "faces"
      ],
      "execution_count": 41,
      "outputs": [
        {
          "output_type": "execute_result",
          "data": {
            "text/plain": [
              "[{'age': 20.96142437436629,\n",
              "  'bottom': 157,\n",
              "  'gender': 0.08397108,\n",
              "  'height': 156,\n",
              "  'left': 83,\n",
              "  'right': 239,\n",
              "  'top': 1,\n",
              "  'width': 156}]"
            ]
          },
          "metadata": {
            "tags": []
          },
          "execution_count": 41
        }
      ]
    },
    {
      "cell_type": "code",
      "metadata": {
        "id": "E5auqYj6oOSY",
        "colab_type": "code",
        "colab": {
          "base_uri": "https://localhost:8080/",
          "height": 159
        },
        "outputId": "7fb93cfb-8325-4086-9576-14138eb67b5b"
      },
      "source": [
        "jl = img_folder+'7.jpg'\n",
        "face = agender.detect_genders_ages(cv2.imread(jl))\n",
        "face"
      ],
      "execution_count": 47,
      "outputs": [
        {
          "output_type": "execute_result",
          "data": {
            "text/plain": [
              "[{'age': 32.5759068315092,\n",
              "  'bottom': 297,\n",
              "  'gender': 0.553755,\n",
              "  'height': 273,\n",
              "  'left': 23,\n",
              "  'right': 296,\n",
              "  'top': 24,\n",
              "  'width': 273}]"
            ]
          },
          "metadata": {
            "tags": []
          },
          "execution_count": 47
        }
      ]
    },
    {
      "cell_type": "code",
      "metadata": {
        "id": "ZJ_pLu3fqXCo",
        "colab_type": "code",
        "colab": {
          "base_uri": "https://localhost:8080/",
          "height": 159
        },
        "outputId": "94d11f6a-2582-4810-9aec-ad73b6f0af31"
      },
      "source": [
        "retry = img_folder + '8.jpg'\n",
        "face = agender.detect_genders_ages(cv2.imread(retry))\n",
        "face"
      ],
      "execution_count": 49,
      "outputs": [
        {
          "output_type": "execute_result",
          "data": {
            "text/plain": [
              "[{'age': 25.26302946215219,\n",
              "  'bottom': 511,\n",
              "  'gender': 0.9718863,\n",
              "  'height': 393,\n",
              "  'left': 57,\n",
              "  'right': 450,\n",
              "  'top': 118,\n",
              "  'width': 393}]"
            ]
          },
          "metadata": {
            "tags": []
          },
          "execution_count": 49
        }
      ]
    },
    {
      "cell_type": "code",
      "metadata": {
        "id": "4lM-3mfBrXcD",
        "colab_type": "code",
        "colab": {}
      },
      "source": [
        ""
      ],
      "execution_count": 0,
      "outputs": []
    }
  ]
}