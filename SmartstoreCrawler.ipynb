{
 "cells": [
  {
   "cell_type": "markdown",
   "metadata": {},
   "source": [
    "# 네이버 스마트스토어 리뷰 크롤러\n",
    "\n",
    "작성일: 2019-07-04  \n",
    "작성자: 윤현영  \n",
    "\n",
    "네이버 스마트스토어에 달린 개별 리뷰 정보를 수집하는 크롤러  \n",
    "- 작성자\n",
    "- 작성일\n",
    "- 별점\n",
    "- 본문텍스트\n",
    "- 이미지 유무"
   ]
  },
  {
   "cell_type": "code",
   "execution_count": 92,
   "metadata": {},
   "outputs": [],
   "source": [
    "from selenium import webdriver \n",
    "from bs4 import BeautifulSoup as bs\n",
    "import pandas as pd\n",
    "\n",
    "options = webdriver.ChromeOptions()\n",
    "options.add_argument('headless')\n",
    "options.add_argument('window-size=1920x1080')\n",
    "\n",
    "path = '../../../chromedriver'\n",
    "driver = webdriver.Chrome(path)"
   ]
  },
  {
   "cell_type": "markdown",
   "metadata": {},
   "source": [
    "## 동적 페이지네이션\n",
    "리뷰 섹션에서 페이지를 이동해도 url이 바뀌지 않는 것으로 보아 javascript로 리뷰의 각 페이지를 로드하는 것으로 보인다. selenium을 활용해서 페이지를 이동할 필요가 있다.\n",
    "\n",
    "### Stale Element Reference\n",
    "참고: https://developer.mozilla.org/en-US/docs/Web/WebDriver/Errors/StaleElementReference  \n",
    "> When an element is no longer attached to the DOM, i.e. it has been removed from the document or the document has changed, it is said to be stale. The stale element reference error is a WebDriver error that occurs because the referenced web element is no longer attached to the DOM.  \n",
    "\n",
    "a tag를 `nav = driver.find_elements_by_xpath(\"//nav[@class='module_pagination _review_list_page']//a\")`를 통해서 모두 찾은 뒤 for문을 돌며 `.click()`을 하면 stale element reference error가 발생. 아마 다른 페이지를 클릭하면서 WebElement가 조금씩 바뀌는 듯 하다.(html 코드는 바뀌지 않는데??? 모르겠) 여하튼 페이지 개수를 확인한 후 다시 해당하는 a link를 찾아 클릭하는 코드로 변경.\n",
    "\n",
    "\n",
    "### 구조가 상이한 smartstore들\n",
    "페이지네이션 부분 html이 다르다  \n",
    "https://smartstore.naver.com/mdoc/products/267827669#revw  \n",
    "https://smartstore.naver.com/scinic/products/393299607  "
   ]
  },
  {
   "cell_type": "code",
   "execution_count": 69,
   "metadata": {},
   "outputs": [],
   "source": [
    "def get_pages(url):\n",
    "    '''\n",
    "    input: 스마트 스토어의 상품 url\n",
    "    output: 각 리뷰 페이지 soup들의 리스트\n",
    "    '''\n",
    "    # url = \"https://smartstore.naver.com/cwcorp/products/4546888613?NaPm=ct%3Djxnjuulk%7Cci%3D6329f92d6776aed57df797933f968814ebcab8d3%7Ctr%3Dslsl%7Csn%3D646624%7Cic%3D%7Chk%3Dc0a6e36ec9d8fef3fd7a97f9d0bc53d83dc7239a#revw\"\n",
    "\n",
    "    # open the driver\n",
    "    driver.get(url)\n",
    "    driver.implicitly_wait(3)\n",
    "\n",
    "    # find out the total number of pages\n",
    "    area = driver.find_elements_by_xpath(\"//div[@id='area_review_list']\")\n",
    "\n",
    "    # list of html-parsed objects for each page\n",
    "    pages = []\n",
    "\n",
    "    for i in range(1, cnt+1): # for all the pages from 1 to the end\n",
    "        try:\n",
    "            # find <a> tag for page i\n",
    "            key = 'goPage({})'.format(i)\n",
    "            a = driver.find_element_by_xpath(\"//nav[@class='module_pagination _review_list_page']//a[contains(@class, key)]\")\n",
    "\n",
    "            # move to a certain page. first <a> tag will also be clicked\n",
    "            a.click() \n",
    "            driver.implicitly_wait(3)\n",
    "\n",
    "            # div wrapping a specific page of reviews\n",
    "            content = driver.find_element_by_xpath(\"//div[@class='detail_list_review _review_list']\").get_attribute('innerHTML') # 어차피 한 개 밖에 없다\n",
    "            content = bs(content, 'html.parser')\n",
    "            pages.append(content)\n",
    "\n",
    "        except:\n",
    "            print(\"FAILED: page {} of url {}\".format(a.text, url))\n",
    "\n",
    "#     driver.quit()\n",
    "    return pages"
   ]
  },
  {
   "cell_type": "markdown",
   "metadata": {},
   "source": [
    "## 리뷰 섹션의 상세 정보\n",
    "`get_pages`로 받아온 `div.detail_list_revie _review_list` 안에 ul 안에 개별 li가 하나의 리뷰에 해당\n",
    "\n",
    "li.item_review _review_list_item_wrap > div.area_user_review\n",
    "- string 별점: div.area_star_small > span.number_grade 의 text\n",
    "- string 작성자: div.area_status_user > 첫번째 span.text_info\n",
    "- string YYMMDD 작성일: div.area_status_user > 두번째 span.text_info\n",
    "- string 본문 텍스트: `p.review_text _review_text`\n",
    "- boolean 이미지 유무: `div.cell_thumbnail _has_thumbnail` 의 유무"
   ]
  },
  {
   "cell_type": "code",
   "execution_count": 70,
   "metadata": {},
   "outputs": [],
   "source": [
    "def get_reviews_of(page):\n",
    "    return page.find_all('li', {'class': 'item_review _review_list_item_wrap'})"
   ]
  },
  {
   "cell_type": "code",
   "execution_count": 71,
   "metadata": {},
   "outputs": [],
   "source": [
    "def get_detail(review):\n",
    "    star = review.find('span', {'class':'number_grade'}).text\n",
    "    status = review.find('div', {'class': 'area_status_user'}).find_all('span', {'class':'text_info'})\n",
    "    user = status[0].text\n",
    "    date = status[1].text.replace('.', '')\n",
    "    content = review.find('p', {'class': 'review_text _review_text'}).text\n",
    "    content = strip(content)\n",
    "    image = (True if review.find('div', {'class': 'cell_thumbnail _has_thumbnail'}) else False)\n",
    "    \n",
    "    try:\n",
    "        title = content[:100]\n",
    "    except IndexError:\n",
    "        title = content\n",
    "    \n",
    "    return [star, user, date, title, content, image]"
   ]
  },
  {
   "cell_type": "code",
   "execution_count": 72,
   "metadata": {},
   "outputs": [],
   "source": [
    "import re\n",
    "\n",
    "def strip(text):\n",
    "    '''\n",
    "    '\\n', '\\t', '\\r', ','를 공백으로 대체\n",
    "    '''\n",
    "    return re.sub(r'[\\n\\r\\t,]', ' ', text.strip())"
   ]
  },
  {
   "cell_type": "code",
   "execution_count": 86,
   "metadata": {
    "collapsed": true
   },
   "outputs": [
    {
     "data": {
      "text/html": [
       "<div>\n",
       "<style scoped>\n",
       "    .dataframe tbody tr th:only-of-type {\n",
       "        vertical-align: middle;\n",
       "    }\n",
       "\n",
       "    .dataframe tbody tr th {\n",
       "        vertical-align: top;\n",
       "    }\n",
       "\n",
       "    .dataframe thead th {\n",
       "        text-align: right;\n",
       "    }\n",
       "</style>\n",
       "<table border=\"1\" class=\"dataframe\">\n",
       "  <thead>\n",
       "    <tr style=\"text-align: right;\">\n",
       "      <th></th>\n",
       "      <th>grade</th>\n",
       "      <th>user</th>\n",
       "      <th>date</th>\n",
       "      <th>text</th>\n",
       "      <th>image</th>\n",
       "    </tr>\n",
       "  </thead>\n",
       "  <tbody>\n",
       "    <tr>\n",
       "      <th>0</th>\n",
       "      <td>4</td>\n",
       "      <td>c_vi****</td>\n",
       "      <td>190619</td>\n",
       "      <td>민감피부용으로 구매했어요  전에 쓰던 제형보다 묽고(손등에서 흐를 정도는 아닙니다)...</td>\n",
       "      <td>True</td>\n",
       "    </tr>\n",
       "    <tr>\n",
       "      <th>1</th>\n",
       "      <td>5</td>\n",
       "      <td>qjaw****</td>\n",
       "      <td>190625</td>\n",
       "      <td>저희 아버지 생신겸 해서 저도 구매했는데요 저는 민감성 피부라서 폼클린징도 소금기있...</td>\n",
       "      <td>False</td>\n",
       "    </tr>\n",
       "    <tr>\n",
       "      <th>2</th>\n",
       "      <td>5</td>\n",
       "      <td>sang****</td>\n",
       "      <td>190702</td>\n",
       "      <td>적당하고 무난해서 좋습니다. 너무 묽지도 않고 향도 자극적이지 않네요~</td>\n",
       "      <td>True</td>\n",
       "    </tr>\n",
       "    <tr>\n",
       "      <th>3</th>\n",
       "      <td>5</td>\n",
       "      <td>obse****</td>\n",
       "      <td>190703</td>\n",
       "      <td>아빠 사드렸는데 잘 모르겠다고 하시는데. 나쁘지 않다는 이야기일거에요~ ㅋㅋ많이 파세요~</td>\n",
       "      <td>True</td>\n",
       "    </tr>\n",
       "    <tr>\n",
       "      <th>4</th>\n",
       "      <td>4</td>\n",
       "      <td>dl25****</td>\n",
       "      <td>190703</td>\n",
       "      <td>배송이 빨라서 좋네요</td>\n",
       "      <td>True</td>\n",
       "    </tr>\n",
       "  </tbody>\n",
       "</table>\n",
       "</div>"
      ],
      "text/plain": [
       "  grade      user    date                                               text  \\\n",
       "0     4  c_vi****  190619  민감피부용으로 구매했어요  전에 쓰던 제형보다 묽고(손등에서 흐를 정도는 아닙니다)...   \n",
       "1     5  qjaw****  190625  저희 아버지 생신겸 해서 저도 구매했는데요 저는 민감성 피부라서 폼클린징도 소금기있...   \n",
       "2     5  sang****  190702            적당하고 무난해서 좋습니다. 너무 묽지도 않고 향도 자극적이지 않네요~   \n",
       "3     5  obse****  190703  아빠 사드렸는데 잘 모르겠다고 하시는데. 나쁘지 않다는 이야기일거에요~ ㅋㅋ많이 파세요~   \n",
       "4     4  dl25****  190703                                        배송이 빨라서 좋네요   \n",
       "\n",
       "   image  \n",
       "0   True  \n",
       "1  False  \n",
       "2   True  \n",
       "3   True  \n",
       "4   True  "
      ]
     },
     "execution_count": 86,
     "metadata": {},
     "output_type": "execute_result"
    }
   ],
   "source": [
    "result = [get_detail(review) for page in pages for review in get_reviews_of(page)]\n",
    "\n",
    "df = pd.DataFrame(result, columns = ['star', 'user', 'date', 'content', 'image'])\n",
    "# df.to_csv('sample.csv', index = False)\n",
    "df.head()"
   ]
  },
  {
   "cell_type": "code",
   "execution_count": 73,
   "metadata": {},
   "outputs": [],
   "source": [
    "def review_crawler(url):\n",
    "    '''\n",
    "    input: 네이버 스마트스토어 url\n",
    "    output: 해당 상품의 모든 리뷰를 담은 dataframe. 같은 경로에 csv 파일 저장\n",
    "    '''\n",
    "    pages = get_pages(url)\n",
    "    result = [get_detail(review) for page in pages for review in get_reviews_of(page)]\n",
    " \n",
    "    return result"
   ]
  },
  {
   "cell_type": "markdown",
   "metadata": {},
   "source": [
    "## 제조사/브랜드 추가하기"
   ]
  },
  {
   "cell_type": "code",
   "execution_count": 74,
   "metadata": {},
   "outputs": [],
   "source": [
    "import requests \n",
    "\n",
    "def item_crawler(url):\n",
    "#     url = \"https://smartstore.naver.com/cwcorp/products/4546888613?NaPm=ct%3Djxnjuulk%7Cci%3D6329f92d6776aed57df797933f968814ebcab8d3%7Ctr%3Dslsl%7Csn%3D646624%7Cic%3D%7Chk%3Dc0a6e36ec9d8fef3fd7a97f9d0bc53d83dc7239a#revw\"\n",
    "    \n",
    "    driver.get(url)\n",
    "    component = driver.find_element_by_xpath(\"//div[@class='goods_component3 _product_basic']\").get_attribute('innerHTML')\n",
    "#     driver.quit()\n",
    "    \n",
    "    soup = bs(component, 'html.parser')\n",
    "\n",
    "    try:\n",
    "        brand = soup.find(\"th\", string=\"브랜드\").find_next('td').string\n",
    "    except:\n",
    "        brand = \"\"\n",
    "\n",
    "    try:\n",
    "        manufacturer = soup.find(\"th\", string=\"제조사\").find_next('td').string\n",
    "    except:\n",
    "        manufacturer = \"\"\n",
    "        \n",
    "    return brand, manufacturer"
   ]
  },
  {
   "cell_type": "markdown",
   "metadata": {},
   "source": [
    "## MAIN\n",
    "https://medium.com/@rtjeannier/pandas-101-cont-9d061cb73bfc: iterrows 쓰지 말기!!  \n"
   ]
  },
  {
   "cell_type": "code",
   "execution_count": 75,
   "metadata": {},
   "outputs": [
    {
     "data": {
      "text/html": [
       "<div>\n",
       "<style scoped>\n",
       "    .dataframe tbody tr th:only-of-type {\n",
       "        vertical-align: middle;\n",
       "    }\n",
       "\n",
       "    .dataframe tbody tr th {\n",
       "        vertical-align: top;\n",
       "    }\n",
       "\n",
       "    .dataframe thead th {\n",
       "        text-align: right;\n",
       "    }\n",
       "</style>\n",
       "<table border=\"1\" class=\"dataframe\">\n",
       "  <thead>\n",
       "    <tr style=\"text-align: right;\">\n",
       "      <th></th>\n",
       "      <th>url</th>\n",
       "    </tr>\n",
       "  </thead>\n",
       "  <tbody>\n",
       "    <tr>\n",
       "      <th>0</th>\n",
       "      <td>http://cr2.shopping.naver.com/adcrNoti.nhn?x=f...</td>\n",
       "    </tr>\n",
       "    <tr>\n",
       "      <th>1</th>\n",
       "      <td>http://cr2.shopping.naver.com/adcrNoti.nhn?x=g...</td>\n",
       "    </tr>\n",
       "    <tr>\n",
       "      <th>2</th>\n",
       "      <td>http://cr2.shopping.naver.com/adcrNoti.nhn?x=w...</td>\n",
       "    </tr>\n",
       "    <tr>\n",
       "      <th>3</th>\n",
       "      <td>http://cr2.shopping.naver.com/adcrNoti.nhn?x=b...</td>\n",
       "    </tr>\n",
       "    <tr>\n",
       "      <th>4</th>\n",
       "      <td>http://cr2.shopping.naver.com/adcrNoti.nhn?x=F...</td>\n",
       "    </tr>\n",
       "  </tbody>\n",
       "</table>\n",
       "</div>"
      ],
      "text/plain": [
       "                                                 url\n",
       "0  http://cr2.shopping.naver.com/adcrNoti.nhn?x=f...\n",
       "1  http://cr2.shopping.naver.com/adcrNoti.nhn?x=g...\n",
       "2  http://cr2.shopping.naver.com/adcrNoti.nhn?x=w...\n",
       "3  http://cr2.shopping.naver.com/adcrNoti.nhn?x=b...\n",
       "4  http://cr2.shopping.naver.com/adcrNoti.nhn?x=F..."
      ]
     },
     "execution_count": 75,
     "metadata": {},
     "output_type": "execute_result"
    }
   ],
   "source": [
    "urlList = pd.read_csv(\"UrlList.csv\", index_col=0)\n",
    "urlList.head()"
   ]
  },
  {
   "cell_type": "code",
   "execution_count": 22,
   "metadata": {
    "collapsed": true
   },
   "outputs": [
    {
     "name": "stdout",
     "output_type": "stream",
     "text": [
      "https://smartstore.naver.com/mdoc/products/267827669\n",
      "https://smartstore.naver.com/pgshop/products/100604057\n",
      "https://smartstore.naver.com/scinic/products/393299607\n",
      "https://smartstore.naver.com/itcoshop2/products/114499693\n",
      "https://smartstore.naver.com/makeupi/products/140460458\n",
      "https://smartstore.naver.com/hicos2010/products/468201809\n",
      "https://smartstore.naver.com/kocoslab2016/products/498581980\n",
      "https://smartstore.naver.com/scinic/products/212651244\n",
      "https://smartstore.naver.com/heisclean/products/368716748\n",
      "https://smartstore.naver.com/lgcarecm/products/522404922\n",
      "https://smartstore.naver.com/scinic/products/418657154\n",
      "https://smartstore.naver.com/minamproject/products/481244648\n",
      "https://smartstore.naver.com/koreanet/products/292760478\n",
      "https://smartstore.naver.com/minamproject/products/481245297\n",
      "https://smartstore.naver.com/soonsushop/products/2023131178\n",
      "https://smartstore.naver.com/phyto/products/389854589\n",
      "https://smartstore.naver.com/tosowoong/products/100123032\n",
      "https://smartstore.naver.com/ahcshop/products/341065305\n",
      "https://smartstore.naver.com/jcc/products/557491820\n",
      "https://smartstore.naver.com/mdoc/products/306994150\n",
      "https://smartstore.naver.com/koreanet/products/287450852\n",
      "https://smartstore.naver.com/foblangshi-since1998/products/356538025\n",
      "https://smartstore.naver.com/amorepacific/products/2039899466\n",
      "https://smartstore.naver.com/mdoc/products/267808762\n",
      "https://smartstore.naver.com/scinic/products/101924909\n",
      "https://smartstore.naver.com/itcoshop2/products/114206934\n",
      "https://smartstore.naver.com/soonsushop/products/2351961302\n",
      "https://smartstore.naver.com/mdoc/products/268131146\n",
      "https://smartstore.naver.com/manyofactory/products/497277190\n",
      "https://smartstore.naver.com/kocoslab2016/products/2321607887\n",
      "https://smartstore.naver.com/ahcshop/products/603039858\n",
      "https://smartstore.naver.com/minamproject/products/2776392450\n",
      "https://smartstore.naver.com/skeda_man/products/532636805\n",
      "https://smartstore.naver.com/jcc/products/229131847\n",
      "https://smartstore.naver.com/grafen/products/3127707132\n",
      "https://smartstore.naver.com/grafen/products/2447390369\n",
      "https://smartstore.naver.com/magicmohican/products/370999757\n",
      "https://smartstore.naver.com/beatyliving/products/291875787\n",
      "https://smartstore.naver.com/minamproject/products/521372841\n",
      "https://smartstore.naver.com/the_zaram/products/2688322360\n",
      "https://smartstore.naver.com/sidmool/products/134769833\n",
      "https://smartstore.naver.com/sidmool/products/100540197\n",
      "https://smartstore.naver.com/laqlanc/products/2100849836\n",
      "https://smartstore.naver.com/annaholtz/products/127167099\n",
      "https://smartstore.naver.com/dcmall2/products/2061226330\n",
      "https://smartstore.naver.com/makeupi/products/227600262\n",
      "https://smartstore.naver.com/laqlanc/products/2370214557\n",
      "https://smartstore.naver.com/scinic/products/2020550681\n",
      "https://smartstore.naver.com/blackmonster1/products/701903973\n",
      "https://smartstore.naver.com/blackmonster1/products/701895665\n",
      "https://smartstore.naver.com/ineltree/products/323400020\n"
     ]
    }
   ],
   "source": [
    "smartstore_items = []\n",
    "smartstore_reviews = []\n",
    "\n",
    "for i in urlList.index:\n",
    "    url = urlList.loc[i, 'url']\n",
    "    \n",
    "    # ignore if it's not naver smartstore\n",
    "    if not url.startswith('https://smartstore.naver.com'):\n",
    "        continue\n",
    "    \n",
    "    ##### item info #####\n",
    "    brand, manufacturer = item_crawler(url)\n",
    "    smartstore_items.append([i, brand, manufacturer])\n",
    "    \n",
    "    ##### reviews #####\n",
    "    smartstore_reviews.extend(review_crawer(i, url))\n",
    "    "
   ]
  },
  {
   "cell_type": "code",
   "execution_count": 77,
   "metadata": {},
   "outputs": [
    {
     "name": "stdout",
     "output_type": "stream",
     "text": [
      "4.41 s ± 503 ms per loop (mean ± std. dev. of 7 runs, 1 loop each)\n"
     ]
    }
   ],
   "source": [
    "url = \"https://smartstore.naver.com/scinic/products/393299607\"\n",
    "%timeit reviews = review_crawler(url)"
   ]
  },
  {
   "cell_type": "code",
   "execution_count": 79,
   "metadata": {},
   "outputs": [],
   "source": [
    "reviews = review_crawler(url)"
   ]
  },
  {
   "cell_type": "code",
   "execution_count": 81,
   "metadata": {},
   "outputs": [
    {
     "data": {
      "text/plain": [
       "[]"
      ]
     },
     "execution_count": 81,
     "metadata": {},
     "output_type": "execute_result"
    }
   ],
   "source": [
    "pages = get_pages(url)\n",
    "pages"
   ]
  },
  {
   "cell_type": "code",
   "execution_count": 93,
   "metadata": {},
   "outputs": [],
   "source": [
    "# open the driver\n",
    "driver.get(url)\n",
    "driver.implicitly_wait(3)"
   ]
  },
  {
   "cell_type": "code",
   "execution_count": 94,
   "metadata": {},
   "outputs": [],
   "source": [
    "# limit area\n",
    "area = driver.find_element_by_xpath(\"//div[@id='area_review_list']\")\n",
    "\n",
    "# list of html-parsed objects for each page\n",
    "pages = []"
   ]
  },
  {
   "cell_type": "code",
   "execution_count": 95,
   "metadata": {},
   "outputs": [
    {
     "ename": "ElementClickInterceptedException",
     "evalue": "Message: element click intercepted: Element is not clickable at point (65, -15)\n  (Session info: chrome=75.0.3770.100)\n",
     "output_type": "error",
     "traceback": [
      "\u001b[0;31m---------------------------------------------------------------------------\u001b[0m",
      "\u001b[0;31mElementClickInterceptedException\u001b[0m          Traceback (most recent call last)",
      "\u001b[0;32m<ipython-input-95-45b9ca3bb841>\u001b[0m in \u001b[0;36m<module>\u001b[0;34m\u001b[0m\n\u001b[1;32m     17\u001b[0m     \u001b[0;32mif\u001b[0m \u001b[0marea\u001b[0m\u001b[0;34m.\u001b[0m\u001b[0mfind_element_by_xpath\u001b[0m\u001b[0;34m(\u001b[0m\u001b[0;34m\"//a[contains(@class, key)]\"\u001b[0m\u001b[0;34m)\u001b[0m\u001b[0;34m:\u001b[0m\u001b[0;34m\u001b[0m\u001b[0m\n\u001b[1;32m     18\u001b[0m         \u001b[0ma\u001b[0m \u001b[0;34m=\u001b[0m \u001b[0marea\u001b[0m\u001b[0;34m.\u001b[0m\u001b[0mfind_element_by_xpath\u001b[0m\u001b[0;34m(\u001b[0m\u001b[0;34m\"//a[contains(@class, key)]\"\u001b[0m\u001b[0;34m)\u001b[0m\u001b[0;34m\u001b[0m\u001b[0m\n\u001b[0;32m---> 19\u001b[0;31m         \u001b[0ma\u001b[0m\u001b[0;34m.\u001b[0m\u001b[0mclick\u001b[0m\u001b[0;34m(\u001b[0m\u001b[0;34m)\u001b[0m\u001b[0;34m\u001b[0m\u001b[0m\n\u001b[0m\u001b[1;32m     20\u001b[0m         \u001b[0mdriver\u001b[0m\u001b[0;34m.\u001b[0m\u001b[0mimplicitly_wait\u001b[0m\u001b[0;34m(\u001b[0m\u001b[0;36m3\u001b[0m\u001b[0;34m)\u001b[0m\u001b[0;34m\u001b[0m\u001b[0m\n\u001b[1;32m     21\u001b[0m \u001b[0;34m\u001b[0m\u001b[0m\n",
      "\u001b[0;32m/usr/local/lib/python3.6/site-packages/selenium/webdriver/remote/webelement.py\u001b[0m in \u001b[0;36mclick\u001b[0;34m(self)\u001b[0m\n\u001b[1;32m     78\u001b[0m     \u001b[0;32mdef\u001b[0m \u001b[0mclick\u001b[0m\u001b[0;34m(\u001b[0m\u001b[0mself\u001b[0m\u001b[0;34m)\u001b[0m\u001b[0;34m:\u001b[0m\u001b[0;34m\u001b[0m\u001b[0m\n\u001b[1;32m     79\u001b[0m         \u001b[0;34m\"\"\"Clicks the element.\"\"\"\u001b[0m\u001b[0;34m\u001b[0m\u001b[0m\n\u001b[0;32m---> 80\u001b[0;31m         \u001b[0mself\u001b[0m\u001b[0;34m.\u001b[0m\u001b[0m_execute\u001b[0m\u001b[0;34m(\u001b[0m\u001b[0mCommand\u001b[0m\u001b[0;34m.\u001b[0m\u001b[0mCLICK_ELEMENT\u001b[0m\u001b[0;34m)\u001b[0m\u001b[0;34m\u001b[0m\u001b[0m\n\u001b[0m\u001b[1;32m     81\u001b[0m \u001b[0;34m\u001b[0m\u001b[0m\n\u001b[1;32m     82\u001b[0m     \u001b[0;32mdef\u001b[0m \u001b[0msubmit\u001b[0m\u001b[0;34m(\u001b[0m\u001b[0mself\u001b[0m\u001b[0;34m)\u001b[0m\u001b[0;34m:\u001b[0m\u001b[0;34m\u001b[0m\u001b[0m\n",
      "\u001b[0;32m/usr/local/lib/python3.6/site-packages/selenium/webdriver/remote/webelement.py\u001b[0m in \u001b[0;36m_execute\u001b[0;34m(self, command, params)\u001b[0m\n\u001b[1;32m    631\u001b[0m             \u001b[0mparams\u001b[0m \u001b[0;34m=\u001b[0m \u001b[0;34m{\u001b[0m\u001b[0;34m}\u001b[0m\u001b[0;34m\u001b[0m\u001b[0m\n\u001b[1;32m    632\u001b[0m         \u001b[0mparams\u001b[0m\u001b[0;34m[\u001b[0m\u001b[0;34m'id'\u001b[0m\u001b[0;34m]\u001b[0m \u001b[0;34m=\u001b[0m \u001b[0mself\u001b[0m\u001b[0;34m.\u001b[0m\u001b[0m_id\u001b[0m\u001b[0;34m\u001b[0m\u001b[0m\n\u001b[0;32m--> 633\u001b[0;31m         \u001b[0;32mreturn\u001b[0m \u001b[0mself\u001b[0m\u001b[0;34m.\u001b[0m\u001b[0m_parent\u001b[0m\u001b[0;34m.\u001b[0m\u001b[0mexecute\u001b[0m\u001b[0;34m(\u001b[0m\u001b[0mcommand\u001b[0m\u001b[0;34m,\u001b[0m \u001b[0mparams\u001b[0m\u001b[0;34m)\u001b[0m\u001b[0;34m\u001b[0m\u001b[0m\n\u001b[0m\u001b[1;32m    634\u001b[0m \u001b[0;34m\u001b[0m\u001b[0m\n\u001b[1;32m    635\u001b[0m     \u001b[0;32mdef\u001b[0m \u001b[0mfind_element\u001b[0m\u001b[0;34m(\u001b[0m\u001b[0mself\u001b[0m\u001b[0;34m,\u001b[0m \u001b[0mby\u001b[0m\u001b[0;34m=\u001b[0m\u001b[0mBy\u001b[0m\u001b[0;34m.\u001b[0m\u001b[0mID\u001b[0m\u001b[0;34m,\u001b[0m \u001b[0mvalue\u001b[0m\u001b[0;34m=\u001b[0m\u001b[0;32mNone\u001b[0m\u001b[0;34m)\u001b[0m\u001b[0;34m:\u001b[0m\u001b[0;34m\u001b[0m\u001b[0m\n",
      "\u001b[0;32m/usr/local/lib/python3.6/site-packages/selenium/webdriver/remote/webdriver.py\u001b[0m in \u001b[0;36mexecute\u001b[0;34m(self, driver_command, params)\u001b[0m\n\u001b[1;32m    319\u001b[0m         \u001b[0mresponse\u001b[0m \u001b[0;34m=\u001b[0m \u001b[0mself\u001b[0m\u001b[0;34m.\u001b[0m\u001b[0mcommand_executor\u001b[0m\u001b[0;34m.\u001b[0m\u001b[0mexecute\u001b[0m\u001b[0;34m(\u001b[0m\u001b[0mdriver_command\u001b[0m\u001b[0;34m,\u001b[0m \u001b[0mparams\u001b[0m\u001b[0;34m)\u001b[0m\u001b[0;34m\u001b[0m\u001b[0m\n\u001b[1;32m    320\u001b[0m         \u001b[0;32mif\u001b[0m \u001b[0mresponse\u001b[0m\u001b[0;34m:\u001b[0m\u001b[0;34m\u001b[0m\u001b[0m\n\u001b[0;32m--> 321\u001b[0;31m             \u001b[0mself\u001b[0m\u001b[0;34m.\u001b[0m\u001b[0merror_handler\u001b[0m\u001b[0;34m.\u001b[0m\u001b[0mcheck_response\u001b[0m\u001b[0;34m(\u001b[0m\u001b[0mresponse\u001b[0m\u001b[0;34m)\u001b[0m\u001b[0;34m\u001b[0m\u001b[0m\n\u001b[0m\u001b[1;32m    322\u001b[0m             response['value'] = self._unwrap_value(\n\u001b[1;32m    323\u001b[0m                 response.get('value', None))\n",
      "\u001b[0;32m/usr/local/lib/python3.6/site-packages/selenium/webdriver/remote/errorhandler.py\u001b[0m in \u001b[0;36mcheck_response\u001b[0;34m(self, response)\u001b[0m\n\u001b[1;32m    240\u001b[0m                 \u001b[0malert_text\u001b[0m \u001b[0;34m=\u001b[0m \u001b[0mvalue\u001b[0m\u001b[0;34m[\u001b[0m\u001b[0;34m'alert'\u001b[0m\u001b[0;34m]\u001b[0m\u001b[0;34m.\u001b[0m\u001b[0mget\u001b[0m\u001b[0;34m(\u001b[0m\u001b[0;34m'text'\u001b[0m\u001b[0;34m)\u001b[0m\u001b[0;34m\u001b[0m\u001b[0m\n\u001b[1;32m    241\u001b[0m             \u001b[0;32mraise\u001b[0m \u001b[0mexception_class\u001b[0m\u001b[0;34m(\u001b[0m\u001b[0mmessage\u001b[0m\u001b[0;34m,\u001b[0m \u001b[0mscreen\u001b[0m\u001b[0;34m,\u001b[0m \u001b[0mstacktrace\u001b[0m\u001b[0;34m,\u001b[0m \u001b[0malert_text\u001b[0m\u001b[0;34m)\u001b[0m\u001b[0;34m\u001b[0m\u001b[0m\n\u001b[0;32m--> 242\u001b[0;31m         \u001b[0;32mraise\u001b[0m \u001b[0mexception_class\u001b[0m\u001b[0;34m(\u001b[0m\u001b[0mmessage\u001b[0m\u001b[0;34m,\u001b[0m \u001b[0mscreen\u001b[0m\u001b[0;34m,\u001b[0m \u001b[0mstacktrace\u001b[0m\u001b[0;34m)\u001b[0m\u001b[0;34m\u001b[0m\u001b[0m\n\u001b[0m\u001b[1;32m    243\u001b[0m \u001b[0;34m\u001b[0m\u001b[0m\n\u001b[1;32m    244\u001b[0m     \u001b[0;32mdef\u001b[0m \u001b[0m_value_or_default\u001b[0m\u001b[0;34m(\u001b[0m\u001b[0mself\u001b[0m\u001b[0;34m,\u001b[0m \u001b[0mobj\u001b[0m\u001b[0;34m,\u001b[0m \u001b[0mkey\u001b[0m\u001b[0;34m,\u001b[0m \u001b[0mdefault\u001b[0m\u001b[0;34m)\u001b[0m\u001b[0;34m:\u001b[0m\u001b[0;34m\u001b[0m\u001b[0m\n",
      "\u001b[0;31mElementClickInterceptedException\u001b[0m: Message: element click intercepted: Element is not clickable at point (65, -15)\n  (Session info: chrome=75.0.3770.100)\n"
     ]
    }
   ],
   "source": [
    "# list of html-parsed objects for each page\n",
    "pages = []\n",
    "# initialize page counter\n",
    "page = 1\n",
    "\n",
    "while True:\n",
    "    # 현재 페이지 수집\n",
    "    content = area.find_element_by_xpath(\"//div[@class='detail_list_review _review_list']\").get_attribute('innerHTML') # 어차피 한 개 밖에 없다\n",
    "    content = bs(content, 'html.parser')\n",
    "    pages.append(content)\n",
    "    \n",
    "    # page +1\n",
    "    page += 1\n",
    "    key = 'goPage({})'.format(page)\n",
    "    \n",
    "    # 다음 페이지가 존재하는 경우\n",
    "    if area.find_element_by_xpath(\"//a[contains(@class, key)]\"):\n",
    "        a = area.find_element_by_xpath(\"//a[contains(@class, key)]\")\n",
    "        a.click()\n",
    "        driver.implicitly_wait(3)\n",
    "        \n",
    "    # 다음 페이지 세트가 존재하는 경우 (e.g. 방금 10 페이지를 긁었고 이제 11 페이지를 긁어야 할 경우)\n",
    "    elif area.find_element_by_xpath(\"//a[contains(@class, 'goNextPageSet()')]\"):\n",
    "        a = area.find_element_by_xpath(\"//a[contains(@class, 'goNextPageSet()')]\")\n",
    "        a.click()\n",
    "        driver.implicitly_wait(3)\n",
    "    \n",
    "    # 둘 다 아닐 경우\n",
    "    else:\n",
    "        break"
   ]
  },
  {
   "cell_type": "code",
   "execution_count": null,
   "metadata": {},
   "outputs": [],
   "source": []
  }
 ],
 "metadata": {
  "kernelspec": {
   "display_name": "Python 3",
   "language": "python",
   "name": "python3"
  },
  "language_info": {
   "codemirror_mode": {
    "name": "ipython",
    "version": 3
   },
   "file_extension": ".py",
   "mimetype": "text/x-python",
   "name": "python",
   "nbconvert_exporter": "python",
   "pygments_lexer": "ipython3",
   "version": "3.6.5"
  }
 },
 "nbformat": 4,
 "nbformat_minor": 2
}
