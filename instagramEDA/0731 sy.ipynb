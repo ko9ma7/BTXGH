{
 "cells": [
  {
   "cell_type": "code",
   "execution_count": 1,
   "metadata": {},
   "outputs": [
    {
     "data": {
      "text/html": [
       "<div>\n",
       "<style scoped>\n",
       "    .dataframe tbody tr th:only-of-type {\n",
       "        vertical-align: middle;\n",
       "    }\n",
       "\n",
       "    .dataframe tbody tr th {\n",
       "        vertical-align: top;\n",
       "    }\n",
       "\n",
       "    .dataframe thead th {\n",
       "        text-align: right;\n",
       "    }\n",
       "</style>\n",
       "<table border=\"1\" class=\"dataframe\">\n",
       "  <thead>\n",
       "    <tr style=\"text-align: right;\">\n",
       "      <th></th>\n",
       "      <th>avg_comment</th>\n",
       "      <th>avg_hashtag</th>\n",
       "      <th>avg_like_follower_ratio</th>\n",
       "      <th>avg_likes</th>\n",
       "      <th>avg_self_comment</th>\n",
       "      <th>bio_url</th>\n",
       "      <th>comment_user_num</th>\n",
       "      <th>followers</th>\n",
       "      <th>following</th>\n",
       "      <th>lang_ratio</th>\n",
       "      <th>name</th>\n",
       "      <th>num_of_posts</th>\n",
       "      <th>post_interval</th>\n",
       "      <th>ppl_img_ratio</th>\n",
       "      <th>youtube</th>\n",
       "    </tr>\n",
       "  </thead>\n",
       "  <tbody>\n",
       "    <tr>\n",
       "      <th>0</th>\n",
       "      <td>11.7</td>\n",
       "      <td>1.6</td>\n",
       "      <td>0.14</td>\n",
       "      <td>1115.2</td>\n",
       "      <td>0.5</td>\n",
       "      <td>www.youtube.com/user/kimdonghyun3013</td>\n",
       "      <td>{'comment1': 46, 'comment2': 16, 'comment3': 1...</td>\n",
       "      <td>8169</td>\n",
       "      <td>2</td>\n",
       "      <td>{'ko': '73.50', 'emoji': '26.50'}</td>\n",
       "      <td>bellawithlucas</td>\n",
       "      <td>87</td>\n",
       "      <td>0.256410</td>\n",
       "      <td>0.85</td>\n",
       "      <td>UC-Ju7Rpx4V9XsrLh2DXh9tw_1</td>\n",
       "    </tr>\n",
       "    <tr>\n",
       "      <th>1</th>\n",
       "      <td>30.7</td>\n",
       "      <td>3.6</td>\n",
       "      <td>0.04</td>\n",
       "      <td>3354.2</td>\n",
       "      <td>0.0</td>\n",
       "      <td>zeezeeplanet.com</td>\n",
       "      <td>{'comment1': 229, 'comment2': 20, 'comment3': ...</td>\n",
       "      <td>88363</td>\n",
       "      <td>510</td>\n",
       "      <td>{'ko': '98.70', 'emoji': '1.30'}</td>\n",
       "      <td>serim.hong.50</td>\n",
       "      <td>1007</td>\n",
       "      <td>0.625000</td>\n",
       "      <td>0.81</td>\n",
       "      <td>UC0ssa8zC_3oif4iZcUe5VUg</td>\n",
       "    </tr>\n",
       "    <tr>\n",
       "      <th>2</th>\n",
       "      <td>10.8</td>\n",
       "      <td>2.7</td>\n",
       "      <td>0.17</td>\n",
       "      <td>133.8</td>\n",
       "      <td>0.1</td>\n",
       "      <td>NaN</td>\n",
       "      <td>{'comment1': 60, 'comment2': 10, 'comment3': 4...</td>\n",
       "      <td>794</td>\n",
       "      <td>15</td>\n",
       "      <td>{'ko': '89.81', 'emoji': '10.19'}</td>\n",
       "      <td>seokgguchookggu</td>\n",
       "      <td>13</td>\n",
       "      <td>0.026042</td>\n",
       "      <td>0.78</td>\n",
       "      <td>UC8valWz_8jFnX4tMGCeC62w</td>\n",
       "    </tr>\n",
       "    <tr>\n",
       "      <th>3</th>\n",
       "      <td>34.0</td>\n",
       "      <td>0.3</td>\n",
       "      <td>0.06</td>\n",
       "      <td>3133.1</td>\n",
       "      <td>0.0</td>\n",
       "      <td>youtu.be/5e3kEeC2vhE</td>\n",
       "      <td>{'comment1': 194, 'comment2': 31, 'comment3': ...</td>\n",
       "      <td>49117</td>\n",
       "      <td>74</td>\n",
       "      <td>{'ko': '92.65', 'emoji': '7.35'}</td>\n",
       "      <td>its.hanbyul</td>\n",
       "      <td>110</td>\n",
       "      <td>0.384615</td>\n",
       "      <td>0.80</td>\n",
       "      <td>UC9gW47NqzI1x7e8qsflvUUw</td>\n",
       "    </tr>\n",
       "    <tr>\n",
       "      <th>4</th>\n",
       "      <td>134.9</td>\n",
       "      <td>0.5</td>\n",
       "      <td>0.08</td>\n",
       "      <td>10508.3</td>\n",
       "      <td>0.0</td>\n",
       "      <td>smartstore.naver.com/beautycanvas/products/453...</td>\n",
       "      <td>{'comment1': 992, 'comment2': 126, 'comment3':...</td>\n",
       "      <td>127641</td>\n",
       "      <td>241</td>\n",
       "      <td>{'ko': '97.33', 'emoji': '2.67'}</td>\n",
       "      <td>monkey.d.kihoon</td>\n",
       "      <td>149</td>\n",
       "      <td>1.111111</td>\n",
       "      <td>0.64</td>\n",
       "      <td>UC9nFMAQcn0bqIrEV9vUdU1g</td>\n",
       "    </tr>\n",
       "  </tbody>\n",
       "</table>\n",
       "</div>"
      ],
      "text/plain": [
       "   avg_comment  avg_hashtag  avg_like_follower_ratio  avg_likes  \\\n",
       "0         11.7          1.6                     0.14     1115.2   \n",
       "1         30.7          3.6                     0.04     3354.2   \n",
       "2         10.8          2.7                     0.17      133.8   \n",
       "3         34.0          0.3                     0.06     3133.1   \n",
       "4        134.9          0.5                     0.08    10508.3   \n",
       "\n",
       "   avg_self_comment                                            bio_url  \\\n",
       "0               0.5               www.youtube.com/user/kimdonghyun3013   \n",
       "1               0.0                                   zeezeeplanet.com   \n",
       "2               0.1                                                NaN   \n",
       "3               0.0                               youtu.be/5e3kEeC2vhE   \n",
       "4               0.0  smartstore.naver.com/beautycanvas/products/453...   \n",
       "\n",
       "                                    comment_user_num  followers  following  \\\n",
       "0  {'comment1': 46, 'comment2': 16, 'comment3': 1...       8169          2   \n",
       "1  {'comment1': 229, 'comment2': 20, 'comment3': ...      88363        510   \n",
       "2  {'comment1': 60, 'comment2': 10, 'comment3': 4...        794         15   \n",
       "3  {'comment1': 194, 'comment2': 31, 'comment3': ...      49117         74   \n",
       "4  {'comment1': 992, 'comment2': 126, 'comment3':...     127641        241   \n",
       "\n",
       "                          lang_ratio             name  num_of_posts  \\\n",
       "0  {'ko': '73.50', 'emoji': '26.50'}   bellawithlucas            87   \n",
       "1   {'ko': '98.70', 'emoji': '1.30'}    serim.hong.50          1007   \n",
       "2  {'ko': '89.81', 'emoji': '10.19'}  seokgguchookggu            13   \n",
       "3   {'ko': '92.65', 'emoji': '7.35'}      its.hanbyul           110   \n",
       "4   {'ko': '97.33', 'emoji': '2.67'}  monkey.d.kihoon           149   \n",
       "\n",
       "   post_interval  ppl_img_ratio                     youtube  \n",
       "0       0.256410           0.85  UC-Ju7Rpx4V9XsrLh2DXh9tw_1  \n",
       "1       0.625000           0.81    UC0ssa8zC_3oif4iZcUe5VUg  \n",
       "2       0.026042           0.78    UC8valWz_8jFnX4tMGCeC62w  \n",
       "3       0.384615           0.80    UC9gW47NqzI1x7e8qsflvUUw  \n",
       "4       1.111111           0.64    UC9nFMAQcn0bqIrEV9vUdU1g  "
      ]
     },
     "execution_count": 1,
     "metadata": {},
     "output_type": "execute_result"
    }
   ],
   "source": [
    "import pandas as pd\n",
    "import numpy as np\n",
    "import matplotlib.pyplot as plt\n",
    "\n",
    "df = pd.read_csv('c:/users/home/desktop/postNprofile2.csv', index_col = 0).reset_index(drop=True)\n",
    "df.head()"
   ]
  },
  {
   "cell_type": "code",
   "execution_count": 42,
   "metadata": {},
   "outputs": [],
   "source": [
    "d = pd.read_csv('c:/users/home/desktop/BTXGH/instagramEDA/data/postNprofile_new.csv')"
   ]
  },
  {
   "cell_type": "code",
   "execution_count": 43,
   "metadata": {},
   "outputs": [
    {
     "name": "stderr",
     "output_type": "stream",
     "text": [
      "C:\\ProgramData\\Anaconda3\\lib\\site-packages\\pandas\\core\\indexing.py:189: SettingWithCopyWarning: \n",
      "A value is trying to be set on a copy of a slice from a DataFrame\n",
      "\n",
      "See the caveats in the documentation: http://pandas.pydata.org/pandas-docs/stable/indexing.html#indexing-view-versus-copy\n",
      "  self._setitem_with_indexer(indexer, value)\n"
     ]
    },
    {
     "data": {
      "text/html": [
       "<div>\n",
       "<style scoped>\n",
       "    .dataframe tbody tr th:only-of-type {\n",
       "        vertical-align: middle;\n",
       "    }\n",
       "\n",
       "    .dataframe tbody tr th {\n",
       "        vertical-align: top;\n",
       "    }\n",
       "\n",
       "    .dataframe thead th {\n",
       "        text-align: right;\n",
       "    }\n",
       "</style>\n",
       "<table border=\"1\" class=\"dataframe\">\n",
       "  <thead>\n",
       "    <tr style=\"text-align: right;\">\n",
       "      <th></th>\n",
       "      <th>Unnamed: 0</th>\n",
       "      <th>name</th>\n",
       "      <th>youtube</th>\n",
       "      <th>avg_hashtag</th>\n",
       "      <th>avg_comment</th>\n",
       "      <th>avg_self_comment</th>\n",
       "      <th>post_interval</th>\n",
       "      <th>ppl_img_ratio</th>\n",
       "      <th>comment_user_num</th>\n",
       "      <th>lang_ratio</th>\n",
       "      <th>avg_likes</th>\n",
       "      <th>num_of_posts</th>\n",
       "      <th>followers</th>\n",
       "      <th>following</th>\n",
       "      <th>bio_url</th>\n",
       "      <th>avg_like_follower_ratio</th>\n",
       "      <th>promoter_index</th>\n",
       "      <th>id_concentration</th>\n",
       "      <th>is_model</th>\n",
       "    </tr>\n",
       "  </thead>\n",
       "  <tbody>\n",
       "  </tbody>\n",
       "</table>\n",
       "</div>"
      ],
      "text/plain": [
       "Empty DataFrame\n",
       "Columns: [Unnamed: 0, name, youtube, avg_hashtag, avg_comment, avg_self_comment, post_interval, ppl_img_ratio, comment_user_num, lang_ratio, avg_likes, num_of_posts, followers, following, bio_url, avg_like_follower_ratio, promoter_index, id_concentration, is_model]\n",
       "Index: []"
      ]
     },
     "execution_count": 43,
     "metadata": {},
     "output_type": "execute_result"
    }
   ],
   "source": [
    "d['is_model'] = d['name']\n",
    "d['is_model'].loc[d['name'].isin(['cho8705','_juuuuuuun_s','b_12.25', 'hoyoooong', 's_y_ddong','hoon.xun','peizhangwo','0__0man'])] = 'Y'\n",
    "d['is_model'].loc[~d['name'].isin(['cho8705','_juuuuuuun_s','b_12.25', 'hoyoooong', 's_y_ddong','hoon.xun','peizhangwo','0__0man'])] = 'N'\n",
    "model = d.loc[d['name'].isin(['cho8705','_juuuuuuun_s','b_12.25', 'hoyoooong', 's_y_ddong','hoon.xun','peizhangwo','0__0man'])]\n",
    "model"
   ]
  },
  {
   "cell_type": "code",
   "execution_count": 7,
   "metadata": {},
   "outputs": [],
   "source": [
    "df['reply_ratio'] = df['avg_self_comment']/df['avg_comment']"
   ]
  },
  {
   "cell_type": "code",
   "execution_count": 3,
   "metadata": {},
   "outputs": [
    {
     "name": "stderr",
     "output_type": "stream",
     "text": [
      "C:\\ProgramData\\Anaconda3\\lib\\site-packages\\pandas\\core\\indexing.py:189: SettingWithCopyWarning: \n",
      "A value is trying to be set on a copy of a slice from a DataFrame\n",
      "\n",
      "See the caveats in the documentation: http://pandas.pydata.org/pandas-docs/stable/indexing.html#indexing-view-versus-copy\n",
      "  self._setitem_with_indexer(indexer, value)\n"
     ]
    }
   ],
   "source": [
    "df['is_model'] = df['name']\n",
    "df['is_model'].loc[df['name'].isin(['cho8705','_juuuuuuun_s','b_12.25', 'hoyoooong', 's_y_ddong','hoon.xun','peizhangwo','0__0man'])] = 'Y'\n",
    "df['is_model'].loc[~df['name'].isin(['cho8705','_juuuuuuun_s','b_12.25', 'hoyoooong', 's_y_ddong','hoon.xun','peizhangwo','0__0man'])] = 'N'"
   ]
  },
  {
   "cell_type": "code",
   "execution_count": 4,
   "metadata": {},
   "outputs": [
    {
     "data": {
      "text/html": [
       "<div>\n",
       "<style scoped>\n",
       "    .dataframe tbody tr th:only-of-type {\n",
       "        vertical-align: middle;\n",
       "    }\n",
       "\n",
       "    .dataframe tbody tr th {\n",
       "        vertical-align: top;\n",
       "    }\n",
       "\n",
       "    .dataframe thead th {\n",
       "        text-align: right;\n",
       "    }\n",
       "</style>\n",
       "<table border=\"1\" class=\"dataframe\">\n",
       "  <thead>\n",
       "    <tr style=\"text-align: right;\">\n",
       "      <th></th>\n",
       "      <th>avg_comment</th>\n",
       "      <th>avg_hashtag</th>\n",
       "      <th>avg_like_follower_ratio</th>\n",
       "      <th>avg_likes</th>\n",
       "      <th>avg_self_comment</th>\n",
       "      <th>bio_url</th>\n",
       "      <th>comment_user_num</th>\n",
       "      <th>followers</th>\n",
       "      <th>following</th>\n",
       "      <th>lang_ratio</th>\n",
       "      <th>name</th>\n",
       "      <th>num_of_posts</th>\n",
       "      <th>post_interval</th>\n",
       "      <th>ppl_img_ratio</th>\n",
       "      <th>youtube</th>\n",
       "      <th>reply_ratio</th>\n",
       "      <th>is_model</th>\n",
       "    </tr>\n",
       "  </thead>\n",
       "  <tbody>\n",
       "    <tr>\n",
       "      <th>38</th>\n",
       "      <td>35.8</td>\n",
       "      <td>30.4</td>\n",
       "      <td>0.12</td>\n",
       "      <td>5168.2</td>\n",
       "      <td>0.0</td>\n",
       "      <td>www.ioniqrun.com/webtoon/?tab=2</td>\n",
       "      <td>{'comment1': 137, 'comment2': 34, 'comment3': ...</td>\n",
       "      <td>44726</td>\n",
       "      <td>611</td>\n",
       "      <td>{'ko': '62.57', 'emoji': '37.43'}</td>\n",
       "      <td>_juuuuuuun_s</td>\n",
       "      <td>131</td>\n",
       "      <td>0.370370</td>\n",
       "      <td>0.72</td>\n",
       "      <td>_juuuuuuun_s</td>\n",
       "      <td>0.000000</td>\n",
       "      <td>Y</td>\n",
       "    </tr>\n",
       "    <tr>\n",
       "      <th>39</th>\n",
       "      <td>65.5</td>\n",
       "      <td>5.1</td>\n",
       "      <td>0.06</td>\n",
       "      <td>10396.6</td>\n",
       "      <td>6.1</td>\n",
       "      <td>www.youtube.com/channel/UCAs19lA-BzBLgOm1fDeT4_g</td>\n",
       "      <td>{'comment1': 330, 'comment2': 49, 'comment3': ...</td>\n",
       "      <td>188207</td>\n",
       "      <td>361</td>\n",
       "      <td>{'ko': '77.10', 'emoji': '22.90'}</td>\n",
       "      <td>b_12.25</td>\n",
       "      <td>205</td>\n",
       "      <td>0.500000</td>\n",
       "      <td>0.56</td>\n",
       "      <td>b_12.25</td>\n",
       "      <td>0.093130</td>\n",
       "      <td>Y</td>\n",
       "    </tr>\n",
       "    <tr>\n",
       "      <th>40</th>\n",
       "      <td>8.4</td>\n",
       "      <td>10.9</td>\n",
       "      <td>0.03</td>\n",
       "      <td>1619.0</td>\n",
       "      <td>2.9</td>\n",
       "      <td>Blog.naver.com/alclstjwns</td>\n",
       "      <td>{'comment1': 24, 'comment2': 7, 'comment3': 4,...</td>\n",
       "      <td>53076</td>\n",
       "      <td>489</td>\n",
       "      <td>{'ko': '95.24', 'emoji': '4.76'}</td>\n",
       "      <td>cho8705</td>\n",
       "      <td>1330</td>\n",
       "      <td>1.111111</td>\n",
       "      <td>0.39</td>\n",
       "      <td>cho8705</td>\n",
       "      <td>0.345238</td>\n",
       "      <td>Y</td>\n",
       "    </tr>\n",
       "    <tr>\n",
       "      <th>41</th>\n",
       "      <td>74.5</td>\n",
       "      <td>0.0</td>\n",
       "      <td>0.04</td>\n",
       "      <td>12270.1</td>\n",
       "      <td>0.1</td>\n",
       "      <td>www.youtube.com/channel/UClL1bjILlheBuaaPQsr83BQ</td>\n",
       "      <td>{'comment1': 402, 'comment2': 66, 'comment3': ...</td>\n",
       "      <td>280832</td>\n",
       "      <td>54</td>\n",
       "      <td>{'ko': '57.99', 'emoji': '42.01'}</td>\n",
       "      <td>hoon.xun</td>\n",
       "      <td>154</td>\n",
       "      <td>0.370370</td>\n",
       "      <td>1.00</td>\n",
       "      <td>hoon.xun</td>\n",
       "      <td>0.001342</td>\n",
       "      <td>Y</td>\n",
       "    </tr>\n",
       "    <tr>\n",
       "      <th>42</th>\n",
       "      <td>11.9</td>\n",
       "      <td>1.3</td>\n",
       "      <td>0.02</td>\n",
       "      <td>1544.4</td>\n",
       "      <td>0.7</td>\n",
       "      <td>blog.naver.com/mnsr1</td>\n",
       "      <td>{'comment1': 56, 'comment2': 9, 'comment3': 3,...</td>\n",
       "      <td>89209</td>\n",
       "      <td>233</td>\n",
       "      <td>{'ko': '75.63', 'emoji': '24.37'}</td>\n",
       "      <td>hoyoooong</td>\n",
       "      <td>231</td>\n",
       "      <td>1.000000</td>\n",
       "      <td>0.64</td>\n",
       "      <td>hoyoooong</td>\n",
       "      <td>0.058824</td>\n",
       "      <td>Y</td>\n",
       "    </tr>\n",
       "    <tr>\n",
       "      <th>43</th>\n",
       "      <td>21.4</td>\n",
       "      <td>2.3</td>\n",
       "      <td>0.03</td>\n",
       "      <td>2015.0</td>\n",
       "      <td>0.0</td>\n",
       "      <td>NaN</td>\n",
       "      <td>{'comment1': 110, 'comment2': 22, 'comment3': ...</td>\n",
       "      <td>72759</td>\n",
       "      <td>174</td>\n",
       "      <td>{'ko': '54.67', 'emoji': '45.33'}</td>\n",
       "      <td>peizhangwo</td>\n",
       "      <td>537</td>\n",
       "      <td>1.428571</td>\n",
       "      <td>0.57</td>\n",
       "      <td>peizhangwo</td>\n",
       "      <td>0.000000</td>\n",
       "      <td>Y</td>\n",
       "    </tr>\n",
       "    <tr>\n",
       "      <th>44</th>\n",
       "      <td>40.6</td>\n",
       "      <td>12.7</td>\n",
       "      <td>0.17</td>\n",
       "      <td>9562.3</td>\n",
       "      <td>0.0</td>\n",
       "      <td>NaN</td>\n",
       "      <td>{'comment1': 214, 'comment2': 36, 'comment3': ...</td>\n",
       "      <td>57888</td>\n",
       "      <td>170</td>\n",
       "      <td>{'ko': '66.26', 'emoji': '33.74'}</td>\n",
       "      <td>s_y_ddong</td>\n",
       "      <td>82</td>\n",
       "      <td>0.270270</td>\n",
       "      <td>0.82</td>\n",
       "      <td>s_y_ddong</td>\n",
       "      <td>0.000000</td>\n",
       "      <td>Y</td>\n",
       "    </tr>\n",
       "    <tr>\n",
       "      <th>45</th>\n",
       "      <td>40.2</td>\n",
       "      <td>0.0</td>\n",
       "      <td>0.04</td>\n",
       "      <td>8749.8</td>\n",
       "      <td>0.0</td>\n",
       "      <td>youtu.be/T8D5TrHkam8</td>\n",
       "      <td>{'comment1': 219, 'comment2': 31, 'comment3': ...</td>\n",
       "      <td>217262</td>\n",
       "      <td>217</td>\n",
       "      <td>{'ko': '55.47', 'emoji': '44.53'}</td>\n",
       "      <td>0__0man</td>\n",
       "      <td>847</td>\n",
       "      <td>1.111111</td>\n",
       "      <td>0.86</td>\n",
       "      <td>0__0man</td>\n",
       "      <td>0.000000</td>\n",
       "      <td>Y</td>\n",
       "    </tr>\n",
       "  </tbody>\n",
       "</table>\n",
       "</div>"
      ],
      "text/plain": [
       "    avg_comment  avg_hashtag  avg_like_follower_ratio  avg_likes  \\\n",
       "38         35.8         30.4                     0.12     5168.2   \n",
       "39         65.5          5.1                     0.06    10396.6   \n",
       "40          8.4         10.9                     0.03     1619.0   \n",
       "41         74.5          0.0                     0.04    12270.1   \n",
       "42         11.9          1.3                     0.02     1544.4   \n",
       "43         21.4          2.3                     0.03     2015.0   \n",
       "44         40.6         12.7                     0.17     9562.3   \n",
       "45         40.2          0.0                     0.04     8749.8   \n",
       "\n",
       "    avg_self_comment                                           bio_url  \\\n",
       "38               0.0                   www.ioniqrun.com/webtoon/?tab=2   \n",
       "39               6.1  www.youtube.com/channel/UCAs19lA-BzBLgOm1fDeT4_g   \n",
       "40               2.9                         Blog.naver.com/alclstjwns   \n",
       "41               0.1  www.youtube.com/channel/UClL1bjILlheBuaaPQsr83BQ   \n",
       "42               0.7                              blog.naver.com/mnsr1   \n",
       "43               0.0                                               NaN   \n",
       "44               0.0                                               NaN   \n",
       "45               0.0                              youtu.be/T8D5TrHkam8   \n",
       "\n",
       "                                     comment_user_num  followers  following  \\\n",
       "38  {'comment1': 137, 'comment2': 34, 'comment3': ...      44726        611   \n",
       "39  {'comment1': 330, 'comment2': 49, 'comment3': ...     188207        361   \n",
       "40  {'comment1': 24, 'comment2': 7, 'comment3': 4,...      53076        489   \n",
       "41  {'comment1': 402, 'comment2': 66, 'comment3': ...     280832         54   \n",
       "42  {'comment1': 56, 'comment2': 9, 'comment3': 3,...      89209        233   \n",
       "43  {'comment1': 110, 'comment2': 22, 'comment3': ...      72759        174   \n",
       "44  {'comment1': 214, 'comment2': 36, 'comment3': ...      57888        170   \n",
       "45  {'comment1': 219, 'comment2': 31, 'comment3': ...     217262        217   \n",
       "\n",
       "                           lang_ratio          name  num_of_posts  \\\n",
       "38  {'ko': '62.57', 'emoji': '37.43'}  _juuuuuuun_s           131   \n",
       "39  {'ko': '77.10', 'emoji': '22.90'}       b_12.25           205   \n",
       "40   {'ko': '95.24', 'emoji': '4.76'}       cho8705          1330   \n",
       "41  {'ko': '57.99', 'emoji': '42.01'}      hoon.xun           154   \n",
       "42  {'ko': '75.63', 'emoji': '24.37'}     hoyoooong           231   \n",
       "43  {'ko': '54.67', 'emoji': '45.33'}    peizhangwo           537   \n",
       "44  {'ko': '66.26', 'emoji': '33.74'}     s_y_ddong            82   \n",
       "45  {'ko': '55.47', 'emoji': '44.53'}       0__0man           847   \n",
       "\n",
       "    post_interval  ppl_img_ratio       youtube  reply_ratio is_model  \n",
       "38       0.370370           0.72  _juuuuuuun_s     0.000000        Y  \n",
       "39       0.500000           0.56       b_12.25     0.093130        Y  \n",
       "40       1.111111           0.39       cho8705     0.345238        Y  \n",
       "41       0.370370           1.00      hoon.xun     0.001342        Y  \n",
       "42       1.000000           0.64     hoyoooong     0.058824        Y  \n",
       "43       1.428571           0.57    peizhangwo     0.000000        Y  \n",
       "44       0.270270           0.82     s_y_ddong     0.000000        Y  \n",
       "45       1.111111           0.86       0__0man     0.000000        Y  "
      ]
     },
     "execution_count": 4,
     "metadata": {},
     "output_type": "execute_result"
    }
   ],
   "source": [
    "models = df.loc[df['name'].isin(['cho8705','_juuuuuuun_s','b_12.25', 'hoyoooong', 's_y_ddong','hoon.xun','peizhangwo','0__0man'])]\n",
    "models"
   ]
  },
  {
   "cell_type": "code",
   "execution_count": 5,
   "metadata": {},
   "outputs": [
    {
     "data": {
      "text/plain": [
       "Index(['avg_comment', 'avg_hashtag', 'avg_like_follower_ratio', 'avg_likes',\n",
       "       'avg_self_comment', 'bio_url', 'comment_user_num', 'followers',\n",
       "       'following', 'lang_ratio', 'name', 'num_of_posts', 'post_interval',\n",
       "       'ppl_img_ratio', 'youtube', 'reply_ratio', 'is_model'],\n",
       "      dtype='object')"
      ]
     },
     "execution_count": 5,
     "metadata": {},
     "output_type": "execute_result"
    }
   ],
   "source": [
    "df.columns"
   ]
  },
  {
   "cell_type": "code",
   "execution_count": 8,
   "metadata": {},
   "outputs": [],
   "source": [
    "df[['avg_hashtag', 'avg_comment', 'avg_self_comment','post_interval', 'ppl_img_ratio']]=df[['avg_hashtag', 'avg_comment', 'avg_self_comment','post_interval', 'ppl_img_ratio']].astype(float)\n",
    "df[['num_of_posts', 'followers', 'following','avg_likes']]=df[['num_of_posts', 'followers', 'following','avg_likes']].astype(int)"
   ]
  },
  {
   "cell_type": "markdown",
   "metadata": {},
   "source": [
    "## 1. 대중성"
   ]
  },
  {
   "cell_type": "code",
   "execution_count": 18,
   "metadata": {},
   "outputs": [
    {
     "data": {
      "text/plain": [
       "Text(0.5,0.98,'follower-comment-like')"
      ]
     },
     "execution_count": 18,
     "metadata": {},
     "output_type": "execute_result"
    },
    {
     "data": {
      "image/png": "[encoded data removed]",
      "text/plain": [
       "<Figure size 540x540 with 12 Axes>"
      ]
     },
     "metadata": {},
     "output_type": "display_data"
    }
   ],
   "source": [
    "import seaborn as sns; sns.set(style=\"ticks\", color_codes=True)\n",
    "import matplotlib.pyplot as plt\n",
    "# Create an instance of the PairGrid class.\n",
    "grid = sns.PairGrid(df[['followers', 'avg_comment', 'avg_likes']])\n",
    "\n",
    "grid = grid.map_diag(plt.hist, color = 'c', edgecolor='k')\n",
    "grid = grid.map_offdiag(plt.scatter, color = 'c', s=30)\n",
    "\n",
    "#plt.setp(ax.get_xticklabels(), rotation=45)\n",
    "grid.fig.suptitle(\"follower-comment-like\")"
   ]
  },
  {
   "cell_type": "code",
   "execution_count": 19,
   "metadata": {},
   "outputs": [
    {
     "data": {
      "text/html": [
       "<div>\n",
       "<style scoped>\n",
       "    .dataframe tbody tr th:only-of-type {\n",
       "        vertical-align: middle;\n",
       "    }\n",
       "\n",
       "    .dataframe tbody tr th {\n",
       "        vertical-align: top;\n",
       "    }\n",
       "\n",
       "    .dataframe thead th {\n",
       "        text-align: right;\n",
       "    }\n",
       "</style>\n",
       "<table border=\"1\" class=\"dataframe\">\n",
       "  <thead>\n",
       "    <tr style=\"text-align: right;\">\n",
       "      <th></th>\n",
       "      <th>followers</th>\n",
       "      <th>avg_comment</th>\n",
       "      <th>avg_likes</th>\n",
       "    </tr>\n",
       "  </thead>\n",
       "  <tbody>\n",
       "    <tr>\n",
       "      <th>mean</th>\n",
       "      <td>62939.0</td>\n",
       "      <td>42.0</td>\n",
       "      <td>3622.0</td>\n",
       "    </tr>\n",
       "    <tr>\n",
       "      <th>std</th>\n",
       "      <td>81557.0</td>\n",
       "      <td>45.0</td>\n",
       "      <td>4629.0</td>\n",
       "    </tr>\n",
       "    <tr>\n",
       "      <th>min</th>\n",
       "      <td>219.0</td>\n",
       "      <td>2.0</td>\n",
       "      <td>24.0</td>\n",
       "    </tr>\n",
       "    <tr>\n",
       "      <th>50%</th>\n",
       "      <td>26308.0</td>\n",
       "      <td>27.0</td>\n",
       "      <td>1582.0</td>\n",
       "    </tr>\n",
       "    <tr>\n",
       "      <th>70%</th>\n",
       "      <td>68902.0</td>\n",
       "      <td>40.0</td>\n",
       "      <td>3466.0</td>\n",
       "    </tr>\n",
       "    <tr>\n",
       "      <th>max</th>\n",
       "      <td>323208.0</td>\n",
       "      <td>216.0</td>\n",
       "      <td>20396.0</td>\n",
       "    </tr>\n",
       "  </tbody>\n",
       "</table>\n",
       "</div>"
      ],
      "text/plain": [
       "      followers  avg_comment  avg_likes\n",
       "mean    62939.0         42.0     3622.0\n",
       "std     81557.0         45.0     4629.0\n",
       "min       219.0          2.0       24.0\n",
       "50%     26308.0         27.0     1582.0\n",
       "70%     68902.0         40.0     3466.0\n",
       "max    323208.0        216.0    20396.0"
      ]
     },
     "execution_count": 19,
     "metadata": {},
     "output_type": "execute_result"
    }
   ],
   "source": [
    "round(df[['followers', 'avg_comment', 'avg_likes']].describe(percentiles=[.7]))[1:]"
   ]
  },
  {
   "cell_type": "markdown",
   "metadata": {},
   "source": [
    "## 2. 교류 & 소통"
   ]
  },
  {
   "cell_type": "code",
   "execution_count": 21,
   "metadata": {},
   "outputs": [
    {
     "name": "stdout",
     "output_type": "stream",
     "text": [
      "Malgun Gothic\n"
     ]
    }
   ],
   "source": [
    "import matplotlib.font_manager as fm\n",
    "path = 'C:/Windows/Fonts/malgun.ttf'\n",
    "#fontprop = fm.FontProperties(fname=path)\n",
    "\n",
    "font_name = fm.FontProperties(fname=path).get_name()\n",
    "print(font_name)\n",
    "plt.rc('font', family=font_name)"
   ]
  },
  {
   "cell_type": "code",
   "execution_count": 23,
   "metadata": {},
   "outputs": [
    {
     "data": {
      "text/plain": [
       "count    4600.00\n",
       "mean        6.08\n",
       "std        11.01\n",
       "min         0.00\n",
       "25%         0.00\n",
       "50%         0.27\n",
       "75%         5.85\n",
       "max        38.11\n",
       "Name: reply_ratio, dtype: float64"
      ]
     },
     "execution_count": 23,
     "metadata": {},
     "output_type": "execute_result"
    }
   ],
   "source": [
    "round(df['reply_ratio'].describe(),4)*100"
   ]
  },
  {
   "cell_type": "code",
   "execution_count": 22,
   "metadata": {},
   "outputs": [
    {
     "data": {
      "text/plain": [
       "Text(0.5,1,'Reply ratio')"
      ]
     },
     "execution_count": 22,
     "metadata": {},
     "output_type": "execute_result"
    },
    {
     "data": {
      "image/png": "[encoded data removed]",
      "text/plain": [
       "<Figure size 432x288 with 1 Axes>"
      ]
     },
     "metadata": {},
     "output_type": "display_data"
    }
   ],
   "source": [
    "plt.hist(round(df['reply_ratio'],2), color = 'c', edgecolor='k')\n",
    "plt.axvline(df['reply_ratio'].mean(), linestyle='--')\n",
    "plt.annotate('mean '+str(round(df['reply_ratio'].mean(),2)), xy=(df['reply_ratio'].mean(), 10))\n",
    "plt.title('Reply ratio')"
   ]
  },
  {
   "cell_type": "code",
   "execution_count": 25,
   "metadata": {},
   "outputs": [
    {
     "data": {
      "text/plain": [
       "count    46.00\n",
       "mean      0.56\n",
       "std       0.65\n",
       "min       0.02\n",
       "25%       0.13\n",
       "50%       0.38\n",
       "75%       0.78\n",
       "max       3.33\n",
       "Name: post_interval, dtype: float64"
      ]
     },
     "execution_count": 25,
     "metadata": {},
     "output_type": "execute_result"
    }
   ],
   "source": [
    "round(df['post_interval'].describe(),2)"
   ]
  },
  {
   "cell_type": "code",
   "execution_count": 24,
   "metadata": {},
   "outputs": [
    {
     "data": {
      "text/plain": [
       "Text(0.5,1,'Post per day')"
      ]
     },
     "execution_count": 24,
     "metadata": {},
     "output_type": "execute_result"
    },
    {
     "data": {
      "image/png": "[encoded data removed]",
      "text/plain": [
       "<Figure size 432x288 with 1 Axes>"
      ]
     },
     "metadata": {},
     "output_type": "display_data"
    }
   ],
   "source": [
    "plt.hist(df['post_interval'], color = 'c')\n",
    "plt.axvline(df['post_interval'].mean(), linestyle='--')\n",
    "plt.annotate('mean '+str(round(df['post_interval'].mean(),2)), xy=(df['post_interval'].mean(), 7))\n",
    "plt.title('Post per day')"
   ]
  },
  {
   "cell_type": "code",
   "execution_count": 31,
   "metadata": {},
   "outputs": [
    {
     "data": {
      "text/html": [
       "<div>\n",
       "<style scoped>\n",
       "    .dataframe tbody tr th:only-of-type {\n",
       "        vertical-align: middle;\n",
       "    }\n",
       "\n",
       "    .dataframe tbody tr th {\n",
       "        vertical-align: top;\n",
       "    }\n",
       "\n",
       "    .dataframe thead th {\n",
       "        text-align: right;\n",
       "    }\n",
       "</style>\n",
       "<table border=\"1\" class=\"dataframe\">\n",
       "  <thead>\n",
       "    <tr style=\"text-align: right;\">\n",
       "      <th></th>\n",
       "      <th>avg_comment</th>\n",
       "      <th>avg_hashtag</th>\n",
       "      <th>avg_like_follower_ratio</th>\n",
       "      <th>avg_likes</th>\n",
       "      <th>avg_self_comment</th>\n",
       "      <th>bio_url</th>\n",
       "      <th>comment_user_num</th>\n",
       "      <th>followers</th>\n",
       "      <th>following</th>\n",
       "      <th>lang_ratio</th>\n",
       "      <th>name</th>\n",
       "      <th>num_of_posts</th>\n",
       "      <th>post_interval</th>\n",
       "      <th>ppl_img_ratio</th>\n",
       "      <th>youtube</th>\n",
       "      <th>reply_ratio</th>\n",
       "      <th>is_model</th>\n",
       "    </tr>\n",
       "  </thead>\n",
       "  <tbody>\n",
       "    <tr>\n",
       "      <th>37</th>\n",
       "      <td>3.8</td>\n",
       "      <td>6.6</td>\n",
       "      <td>0.03</td>\n",
       "      <td>273</td>\n",
       "      <td>0.7</td>\n",
       "      <td>bit.ly/KOK_Subscribe</td>\n",
       "      <td>{'comment1': 22, 'comment2': 2, 'comment3': 0,...</td>\n",
       "      <td>9886</td>\n",
       "      <td>81</td>\n",
       "      <td>{'ko': '89.47', 'emoji': '10.53'}</td>\n",
       "      <td>koktv_official</td>\n",
       "      <td>512</td>\n",
       "      <td>0.555556</td>\n",
       "      <td>1.00</td>\n",
       "      <td>UCybPxZoFDPR1qbN04daAc2g</td>\n",
       "      <td>0.184211</td>\n",
       "      <td>N</td>\n",
       "    </tr>\n",
       "    <tr>\n",
       "      <th>40</th>\n",
       "      <td>8.4</td>\n",
       "      <td>10.9</td>\n",
       "      <td>0.03</td>\n",
       "      <td>1619</td>\n",
       "      <td>2.9</td>\n",
       "      <td>Blog.naver.com/alclstjwns</td>\n",
       "      <td>{'comment1': 24, 'comment2': 7, 'comment3': 4,...</td>\n",
       "      <td>53076</td>\n",
       "      <td>489</td>\n",
       "      <td>{'ko': '95.24', 'emoji': '4.76'}</td>\n",
       "      <td>cho8705</td>\n",
       "      <td>1330</td>\n",
       "      <td>1.111111</td>\n",
       "      <td>0.39</td>\n",
       "      <td>cho8705</td>\n",
       "      <td>0.345238</td>\n",
       "      <td>Y</td>\n",
       "    </tr>\n",
       "  </tbody>\n",
       "</table>\n",
       "</div>"
      ],
      "text/plain": [
       "    avg_comment  avg_hashtag  avg_like_follower_ratio  avg_likes  \\\n",
       "37          3.8          6.6                     0.03        273   \n",
       "40          8.4         10.9                     0.03       1619   \n",
       "\n",
       "    avg_self_comment                    bio_url  \\\n",
       "37               0.7       bit.ly/KOK_Subscribe   \n",
       "40               2.9  Blog.naver.com/alclstjwns   \n",
       "\n",
       "                                     comment_user_num  followers  following  \\\n",
       "37  {'comment1': 22, 'comment2': 2, 'comment3': 0,...       9886         81   \n",
       "40  {'comment1': 24, 'comment2': 7, 'comment3': 4,...      53076        489   \n",
       "\n",
       "                           lang_ratio            name  num_of_posts  \\\n",
       "37  {'ko': '89.47', 'emoji': '10.53'}  koktv_official           512   \n",
       "40   {'ko': '95.24', 'emoji': '4.76'}         cho8705          1330   \n",
       "\n",
       "    post_interval  ppl_img_ratio                   youtube  reply_ratio  \\\n",
       "37       0.555556           1.00  UCybPxZoFDPR1qbN04daAc2g     0.184211   \n",
       "40       1.111111           0.39                   cho8705     0.345238   \n",
       "\n",
       "   is_model  \n",
       "37        N  \n",
       "40        Y  "
      ]
     },
     "execution_count": 31,
     "metadata": {},
     "output_type": "execute_result"
    }
   ],
   "source": [
    "df[(df.reply_ratio > 0.06) & (df.post_interval > 0.5)]"
   ]
  },
  {
   "cell_type": "code",
   "execution_count": 30,
   "metadata": {},
   "outputs": [
    {
     "data": {
      "text/plain": [
       "Text(0.5,1,'Follower-Reply ratio')"
      ]
     },
     "execution_count": 30,
     "metadata": {},
     "output_type": "execute_result"
    },
    {
     "data": {
      "image/png": "[encoded data removed]",
      "text/plain": [
       "<Figure size 864x432 with 1 Axes>"
      ]
     },
     "metadata": {},
     "output_type": "display_data"
    }
   ],
   "source": [
    "ax = df['followers']\n",
    "ay = df['reply_ratio']\n",
    "\n",
    "plt.figure(figsize=(12,6))\n",
    "plt.scatter(ax, ay, color='orange', s=50)\n",
    "plt.axhline(df['reply_ratio'].mean(), linestyle='--', c='lightcoral')\n",
    "#plt.xlim(-10, 50000)\n",
    "#plt.ylim(-1000, 1000000)\n",
    "\n",
    "#z = np.polyfit(ax, ay, 1)\n",
    "#p = np.poly1d(z)\n",
    "#plt.plot(ax,ax,\"r--\")\n",
    "\n",
    "plt.title('Follower-Reply ratio')"
   ]
  },
  {
   "cell_type": "code",
   "execution_count": 41,
   "metadata": {},
   "outputs": [
    {
     "data": {
      "text/plain": [
       "Text(0.5,1,'Follower-Post per day')"
      ]
     },
     "execution_count": 41,
     "metadata": {},
     "output_type": "execute_result"
    },
    {
     "data": {
      "image/png": "[encoded data removed]",
      "text/plain": [
       "<Figure size 864x432 with 1 Axes>"
      ]
     },
     "metadata": {},
     "output_type": "display_data"
    }
   ],
   "source": [
    "ax = df['followers']\n",
    "ay = df['post_interval']\n",
    "\n",
    "plt.figure(figsize=(12,6))\n",
    "plt.scatter(ax, ay, color='orange')\n",
    "plt.axhline(df['post_interval'].mean(), linestyle='--', c='lightcoral')\n",
    "\n",
    "#plt.xlim(-10, 50000)\n",
    "#plt.ylim(-1000, 1000000)\n",
    "\n",
    "#z = np.polyfit(ax, ay, 1)\n",
    "#p = np.poly1d(z)\n",
    "#plt.plot(ax,ax,\"r--\")\n",
    "\n",
    "plt.title('Follower-Post per day')"
   ]
  },
  {
   "cell_type": "code",
   "execution_count": 27,
   "metadata": {},
   "outputs": [
    {
     "data": {
      "text/plain": [
       "Text(0.5,1,'Follower-Post per day')"
      ]
     },
     "execution_count": 27,
     "metadata": {},
     "output_type": "execute_result"
    },
    {
     "data": {
      "image/png": "[encoded data removed]",
      "text/plain": [
       "<Figure size 864x432 with 1 Axes>"
      ]
     },
     "metadata": {},
     "output_type": "display_data"
    }
   ],
   "source": [
    "ax = df['followers']\n",
    "ay = df['num_of_posts']\n",
    "\n",
    "plt.figure(figsize=(12,6))\n",
    "plt.scatter(ax, ay, color='orange')\n",
    "plt.axhline(df['num_of_posts'].mean(), linestyle='--', c='lightcoral')\n",
    "\n",
    "#plt.xlim(-10, 50000)\n",
    "#plt.ylim(0, 200)\n",
    "\n",
    "z = np.polyfit(ax, ay, 1)\n",
    "p = np.poly1d(z)\n",
    "plt.plot(ax,ax,\"r--\")\n",
    "\n",
    "plt.title('Follower-Post per day')"
   ]
  },
  {
   "cell_type": "markdown",
   "metadata": {},
   "source": [
    "# 브앤팁 인플루언서"
   ]
  },
  {
   "cell_type": "code",
   "execution_count": 32,
   "metadata": {},
   "outputs": [
    {
     "data": {
      "text/plain": [
       "count    46.000000\n",
       "mean      0.060837\n",
       "std       0.110145\n",
       "min       0.000000\n",
       "25%       0.000000\n",
       "50%       0.002690\n",
       "75%       0.058541\n",
       "max       0.381148\n",
       "Name: reply_ratio, dtype: float64"
      ]
     },
     "execution_count": 32,
     "metadata": {},
     "output_type": "execute_result"
    }
   ],
   "source": [
    "df['reply_ratio'].describe()"
   ]
  },
  {
   "cell_type": "code",
   "execution_count": 35,
   "metadata": {},
   "outputs": [
    {
     "data": {
      "text/html": [
       "<div>\n",
       "<style scoped>\n",
       "    .dataframe tbody tr th:only-of-type {\n",
       "        vertical-align: middle;\n",
       "    }\n",
       "\n",
       "    .dataframe tbody tr th {\n",
       "        vertical-align: top;\n",
       "    }\n",
       "\n",
       "    .dataframe thead th {\n",
       "        text-align: right;\n",
       "    }\n",
       "</style>\n",
       "<table border=\"1\" class=\"dataframe\">\n",
       "  <thead>\n",
       "    <tr style=\"text-align: right;\">\n",
       "      <th></th>\n",
       "      <th>followers</th>\n",
       "      <th>avg_comment</th>\n",
       "      <th>avg_likes</th>\n",
       "    </tr>\n",
       "  </thead>\n",
       "  <tbody>\n",
       "    <tr>\n",
       "      <th>mean</th>\n",
       "      <td>125495.0</td>\n",
       "      <td>37.0</td>\n",
       "      <td>6416.0</td>\n",
       "    </tr>\n",
       "    <tr>\n",
       "      <th>std</th>\n",
       "      <td>90175.0</td>\n",
       "      <td>24.0</td>\n",
       "      <td>4361.0</td>\n",
       "    </tr>\n",
       "    <tr>\n",
       "      <th>min</th>\n",
       "      <td>44726.0</td>\n",
       "      <td>8.0</td>\n",
       "      <td>1544.0</td>\n",
       "    </tr>\n",
       "    <tr>\n",
       "      <th>25%</th>\n",
       "      <td>56685.0</td>\n",
       "      <td>19.0</td>\n",
       "      <td>1916.0</td>\n",
       "    </tr>\n",
       "    <tr>\n",
       "      <th>50%</th>\n",
       "      <td>80984.0</td>\n",
       "      <td>38.0</td>\n",
       "      <td>6959.0</td>\n",
       "    </tr>\n",
       "    <tr>\n",
       "      <th>75%</th>\n",
       "      <td>195471.0</td>\n",
       "      <td>47.0</td>\n",
       "      <td>9771.0</td>\n",
       "    </tr>\n",
       "    <tr>\n",
       "      <th>max</th>\n",
       "      <td>280832.0</td>\n",
       "      <td>74.0</td>\n",
       "      <td>12270.0</td>\n",
       "    </tr>\n",
       "  </tbody>\n",
       "</table>\n",
       "</div>"
      ],
      "text/plain": [
       "      followers  avg_comment  avg_likes\n",
       "mean   125495.0         37.0     6416.0\n",
       "std     90175.0         24.0     4361.0\n",
       "min     44726.0          8.0     1544.0\n",
       "25%     56685.0         19.0     1916.0\n",
       "50%     80984.0         38.0     6959.0\n",
       "75%    195471.0         47.0     9771.0\n",
       "max    280832.0         74.0    12270.0"
      ]
     },
     "execution_count": 35,
     "metadata": {},
     "output_type": "execute_result"
    }
   ],
   "source": [
    "round(models[['followers', 'avg_comment', 'avg_likes']].describe())[1:]"
   ]
  },
  {
   "cell_type": "code",
   "execution_count": 33,
   "metadata": {},
   "outputs": [
    {
     "data": {
      "text/plain": [
       "<seaborn.axisgrid.PairGrid at 0x2a8229e15c0>"
      ]
     },
     "execution_count": 33,
     "metadata": {},
     "output_type": "execute_result"
    },
    {
     "data": {
      "image/png": "[encoded data removed]",
      "text/plain": [
       "<Figure size 585x540 with 12 Axes>"
      ]
     },
     "metadata": {},
     "output_type": "display_data"
    }
   ],
   "source": [
    "# 1. 대중성\n",
    "grid = sns.PairGrid(df[['followers', 'avg_comment', 'avg_likes', 'is_model']], hue = 'is_model', palette='Set2')\n",
    "\n",
    "grid = grid.map_diag(plt.hist, edgecolor='k')\n",
    "grid = grid.map_offdiag(plt.scatter, s=30)\n",
    "\n",
    "grid.fig.suptitle(\"follower-comment-like\")\n",
    "grid.add_legend()"
   ]
  },
  {
   "cell_type": "code",
   "execution_count": 36,
   "metadata": {},
   "outputs": [
    {
     "data": {
      "text/plain": [
       "Text(0.5,1,'Follower-Post per day')"
      ]
     },
     "execution_count": 36,
     "metadata": {},
     "output_type": "execute_result"
    },
    {
     "data": {
      "image/png": "[encoded data removed]",
      "text/plain": [
       "<Figure size 864x432 with 1 Axes>"
      ]
     },
     "metadata": {},
     "output_type": "display_data"
    }
   ],
   "source": [
    "# 2. 교류 & 소통\n",
    "ax = df['followers']\n",
    "ay = df['post_interval']\n",
    "\n",
    "plt.figure(figsize=(12,6))\n",
    "plt.scatter(ax, ay, color='mediumaquamarine')\n",
    "plt.scatter(models['followers'], models['post_interval'], color='darkorange')\n",
    "\n",
    "plt.axhline(df['post_interval'].mean(), linestyle='--', c='mediumaquamarine')\n",
    "plt.annotate('mean '+str(round(df['post_interval'].mean(),2)), xy=(300000, df['post_interval'].mean()))\n",
    "plt.axhline(models['post_interval'].mean(), linestyle='-', c='darkorange')\n",
    "plt.annotate('mean '+str(round(models['post_interval'].mean(),2)), xy=(300000, models['post_interval'].mean()))\n",
    "\n",
    "plt.title('Follower-Post per day')"
   ]
  },
  {
   "cell_type": "code",
   "execution_count": 34,
   "metadata": {},
   "outputs": [
    {
     "data": {
      "text/plain": [
       "Text(0.5,1,'Follower-Reply ratio')"
      ]
     },
     "execution_count": 34,
     "metadata": {},
     "output_type": "execute_result"
    },
    {
     "data": {
      "image/png": "[encoded data removed]",
      "text/plain": [
       "<Figure size 864x432 with 1 Axes>"
      ]
     },
     "metadata": {},
     "output_type": "display_data"
    }
   ],
   "source": [
    "ax = df['followers']\n",
    "ay = df['reply_ratio']\n",
    "\n",
    "plt.figure(figsize=(12,6))\n",
    "plt.scatter(ax, ay, color='mediumaquamarine')\n",
    "plt.scatter(models['reply_ratio'], models['reply_ratio'], color='darkorange')\n",
    "\n",
    "plt.axhline(df['reply_ratio'].mean(), linestyle='--', c='mediumaquamarine')\n",
    "plt.axhline(models['reply_ratio'].mean(), linestyle='-', c='darkorange')\n",
    "plt.annotate('mean '+str(round(models['reply_ratio'].mean(),2)), xy=(300000, models['reply_ratio'].mean()))\n",
    "\n",
    "plt.title('Follower-Reply ratio')"
   ]
  },
  {
   "cell_type": "code",
   "execution_count": 40,
   "metadata": {},
   "outputs": [
    {
     "data": {
      "text/html": [
       "<div>\n",
       "<style scoped>\n",
       "    .dataframe tbody tr th:only-of-type {\n",
       "        vertical-align: middle;\n",
       "    }\n",
       "\n",
       "    .dataframe tbody tr th {\n",
       "        vertical-align: top;\n",
       "    }\n",
       "\n",
       "    .dataframe thead th {\n",
       "        text-align: right;\n",
       "    }\n",
       "</style>\n",
       "<table border=\"1\" class=\"dataframe\">\n",
       "  <thead>\n",
       "    <tr style=\"text-align: right;\">\n",
       "      <th></th>\n",
       "      <th>name</th>\n",
       "      <th>reply_ratio</th>\n",
       "    </tr>\n",
       "  </thead>\n",
       "  <tbody>\n",
       "    <tr>\n",
       "      <th>40</th>\n",
       "      <td>cho8705</td>\n",
       "      <td>0.345238</td>\n",
       "    </tr>\n",
       "    <tr>\n",
       "      <th>39</th>\n",
       "      <td>b_12.25</td>\n",
       "      <td>0.093130</td>\n",
       "    </tr>\n",
       "  </tbody>\n",
       "</table>\n",
       "</div>"
      ],
      "text/plain": [
       "       name  reply_ratio\n",
       "40  cho8705     0.345238\n",
       "39  b_12.25     0.093130"
      ]
     },
     "execution_count": 40,
     "metadata": {},
     "output_type": "execute_result"
    }
   ],
   "source": [
    "#models[(models.reply_ratio > 0.06) & (models.post_interval > 0.5)]\n",
    "models[(models.reply_ratio > 0.06)].sort_values('reply_ratio', ascending=False)[['name', 'reply_ratio']]\n",
    "#models[(models.post_interval > 0.5)].sort_values('post_interval', ascending=False)[['name', 'post_interval']]"
   ]
  }
 ],
 "metadata": {
  "kernelspec": {
   "display_name": "Python 3",
   "language": "python",
   "name": "python3"
  },
  "language_info": {
   "codemirror_mode": {
    "name": "ipython",
    "version": 3
   },
   "file_extension": ".py",
   "mimetype": "text/x-python",
   "name": "python",
   "nbconvert_exporter": "python",
   "pygments_lexer": "ipython3",
   "version": "3.6.5"
  }
 },
 "nbformat": 4,
 "nbformat_minor": 2
}
