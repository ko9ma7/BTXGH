{
 "cells": [
  {
   "cell_type": "code",
   "execution_count": 1,
   "metadata": {},
   "outputs": [],
   "source": [
    "import pandas as pd\n",
    "import numpy as np\n",
    "import matplotlib.pyplot as plt\n",
    "import os\n",
    "import sys"
   ]
  },
  {
   "cell_type": "code",
   "execution_count": 2,
   "metadata": {},
   "outputs": [
    {
     "data": {
      "text/html": [
       "<div>\n",
       "<style scoped>\n",
       "    .dataframe tbody tr th:only-of-type {\n",
       "        vertical-align: middle;\n",
       "    }\n",
       "\n",
       "    .dataframe tbody tr th {\n",
       "        vertical-align: top;\n",
       "    }\n",
       "\n",
       "    .dataframe thead th {\n",
       "        text-align: right;\n",
       "    }\n",
       "</style>\n",
       "<table border=\"1\" class=\"dataframe\">\n",
       "  <thead>\n",
       "    <tr style=\"text-align: right;\">\n",
       "      <th></th>\n",
       "      <th>Unnamed: 0</th>\n",
       "      <th>alias</th>\n",
       "      <th>username</th>\n",
       "      <th>bio</th>\n",
       "      <th>num_of_posts</th>\n",
       "      <th>followers</th>\n",
       "      <th>following</th>\n",
       "      <th>bio_url</th>\n",
       "      <th>isprivate</th>\n",
       "      <th>scraped</th>\n",
       "    </tr>\n",
       "  </thead>\n",
       "  <tbody>\n",
       "    <tr>\n",
       "      <th>84</th>\n",
       "      <td>84</td>\n",
       "      <td>티키틱 TIKITIK</td>\n",
       "      <td>tikitik.official</td>\n",
       "      <td>오늘이 무대🎵\\r\\r\\r\\n🎹신혁: @project_sh 🎭세진: @3jin5\\r\\...</td>\n",
       "      <td>75</td>\n",
       "      <td>16736</td>\n",
       "      <td>4</td>\n",
       "      <td>youtu.be/IVobCpMYqfM</td>\n",
       "      <td>False</td>\n",
       "      <td>2019-07-13 07:13:38</td>\n",
       "    </tr>\n",
       "    <tr>\n",
       "      <th>72</th>\n",
       "      <td>72</td>\n",
       "      <td>Lisa Rhee</td>\n",
       "      <td>imlisarhee</td>\n",
       "      <td>06.15.1995\\r\\r\\r\\n🔹@rheesarang\\r\\r\\r\\n🔻YouTube...</td>\n",
       "      <td>281</td>\n",
       "      <td>242461</td>\n",
       "      <td>332</td>\n",
       "      <td>youtu.be/YXqbDAGBXj0</td>\n",
       "      <td>False</td>\n",
       "      <td>2019-07-13 07:13:13</td>\n",
       "    </tr>\n",
       "    <tr>\n",
       "      <th>105</th>\n",
       "      <td>105</td>\n",
       "      <td>디에디트</td>\n",
       "      <td>the_edit.co.kr</td>\n",
       "      <td>사는 재미가 없다면 사는 재미라도\\r\\r\\r\\n[제휴문의: hello@the-edi...</td>\n",
       "      <td>699</td>\n",
       "      <td>23309</td>\n",
       "      <td>6296</td>\n",
       "      <td>the-edit.co.kr</td>\n",
       "      <td>False</td>\n",
       "      <td>2019-07-13 07:14:18</td>\n",
       "    </tr>\n",
       "  </tbody>\n",
       "</table>\n",
       "</div>"
      ],
      "text/plain": [
       "     Unnamed: 0        alias          username  \\\n",
       "84           84  티키틱 TIKITIK  tikitik.official   \n",
       "72           72    Lisa Rhee        imlisarhee   \n",
       "105         105         디에디트    the_edit.co.kr   \n",
       "\n",
       "                                                   bio  num_of_posts  \\\n",
       "84   오늘이 무대🎵\\r\\r\\r\\n🎹신혁: @project_sh 🎭세진: @3jin5\\r\\...            75   \n",
       "72   06.15.1995\\r\\r\\r\\n🔹@rheesarang\\r\\r\\r\\n🔻YouTube...           281   \n",
       "105  사는 재미가 없다면 사는 재미라도\\r\\r\\r\\n[제휴문의: hello@the-edi...           699   \n",
       "\n",
       "     followers  following               bio_url  isprivate  \\\n",
       "84       16736          4  youtu.be/IVobCpMYqfM      False   \n",
       "72      242461        332  youtu.be/YXqbDAGBXj0      False   \n",
       "105      23309       6296        the-edit.co.kr      False   \n",
       "\n",
       "                 scraped  \n",
       "84   2019-07-13 07:13:38  \n",
       "72   2019-07-13 07:13:13  \n",
       "105  2019-07-13 07:14:18  "
      ]
     },
     "execution_count": 2,
     "metadata": {},
     "output_type": "execute_result"
    }
   ],
   "source": [
    "pf = pd.read_csv('profile_influencer.csv', encoding='utf-8')\n",
    "sample = pd.read_csv('sample.csv', encoding='utf-8')\n",
    "pf.sample(3)"
   ]
  },
  {
   "cell_type": "code",
   "execution_count": 4,
   "metadata": {},
   "outputs": [
    {
     "data": {
      "text/html": [
       "<div>\n",
       "<style scoped>\n",
       "    .dataframe tbody tr th:only-of-type {\n",
       "        vertical-align: middle;\n",
       "    }\n",
       "\n",
       "    .dataframe tbody tr th {\n",
       "        vertical-align: top;\n",
       "    }\n",
       "\n",
       "    .dataframe thead th {\n",
       "        text-align: right;\n",
       "    }\n",
       "</style>\n",
       "<table border=\"1\" class=\"dataframe\">\n",
       "  <thead>\n",
       "    <tr style=\"text-align: right;\">\n",
       "      <th></th>\n",
       "      <th>Unnamed: 0</th>\n",
       "      <th>name</th>\n",
       "      <th>youtube</th>\n",
       "      <th>avg_hashtag</th>\n",
       "      <th>avg_comment</th>\n",
       "      <th>avg_self_comment</th>\n",
       "      <th>post_interval</th>\n",
       "      <th>ppl_img_ratio</th>\n",
       "      <th>comment_user_num</th>\n",
       "      <th>lang_ratio</th>\n",
       "    </tr>\n",
       "  </thead>\n",
       "  <tbody>\n",
       "    <tr>\n",
       "      <th>0</th>\n",
       "      <td>0</td>\n",
       "      <td>0__0man</td>\n",
       "      <td>0__0man</td>\n",
       "      <td>0.0</td>\n",
       "      <td>40.2</td>\n",
       "      <td>0.0</td>\n",
       "      <td>1.111111</td>\n",
       "      <td>0.86</td>\n",
       "      <td>{'comment1': 219, 'comment2': 31, 'comment3': ...</td>\n",
       "      <td>{'ko': '55.47', 'emoji': '44.53'}</td>\n",
       "    </tr>\n",
       "    <tr>\n",
       "      <th>1</th>\n",
       "      <td>0</td>\n",
       "      <td>edmmer</td>\n",
       "      <td>EDMMER</td>\n",
       "      <td>0.6</td>\n",
       "      <td>24.0</td>\n",
       "      <td>3.2</td>\n",
       "      <td>1.428571</td>\n",
       "      <td>0.93</td>\n",
       "      <td>{'comment1': 107, 'comment2': 24, 'comment3': ...</td>\n",
       "      <td>{'ko': '95.00', 'emoji': '5.00'}</td>\n",
       "    </tr>\n",
       "    <tr>\n",
       "      <th>2</th>\n",
       "      <td>0</td>\n",
       "      <td>seonozzi</td>\n",
       "      <td>JungSeonho</td>\n",
       "      <td>0.3</td>\n",
       "      <td>35.1</td>\n",
       "      <td>0.0</td>\n",
       "      <td>0.172414</td>\n",
       "      <td>0.15</td>\n",
       "      <td>{'comment1': 225, 'comment2': 34, 'comment3': ...</td>\n",
       "      <td>{'ko': '87.44', 'emoji': '12.56'}</td>\n",
       "    </tr>\n",
       "  </tbody>\n",
       "</table>\n",
       "</div>"
      ],
      "text/plain": [
       "   Unnamed: 0      name     youtube  avg_hashtag  avg_comment  \\\n",
       "0           0   0__0man     0__0man          0.0         40.2   \n",
       "1           0    edmmer      EDMMER          0.6         24.0   \n",
       "2           0  seonozzi  JungSeonho          0.3         35.1   \n",
       "\n",
       "   avg_self_comment  post_interval  ppl_img_ratio  \\\n",
       "0               0.0       1.111111           0.86   \n",
       "1               3.2       1.428571           0.93   \n",
       "2               0.0       0.172414           0.15   \n",
       "\n",
       "                                    comment_user_num  \\\n",
       "0  {'comment1': 219, 'comment2': 31, 'comment3': ...   \n",
       "1  {'comment1': 107, 'comment2': 24, 'comment3': ...   \n",
       "2  {'comment1': 225, 'comment2': 34, 'comment3': ...   \n",
       "\n",
       "                          lang_ratio  \n",
       "0  {'ko': '55.47', 'emoji': '44.53'}  \n",
       "1   {'ko': '95.00', 'emoji': '5.00'}  \n",
       "2  {'ko': '87.44', 'emoji': '12.56'}  "
      ]
     },
     "execution_count": 4,
     "metadata": {},
     "output_type": "execute_result"
    }
   ],
   "source": [
    "sample.head(3)\n",
    "\n",
    "## lang_ratio is on comments"
   ]
  },
  {
   "cell_type": "code",
   "execution_count": 6,
   "metadata": {},
   "outputs": [
    {
     "data": {
      "text/plain": [
       "Index(['Unnamed: 0', 'name', 'youtube', 'avg_hashtag', 'avg_comment',\n",
       "       'avg_self_comment', 'post_interval', 'ppl_img_ratio',\n",
       "       'comment_user_num', 'lang_ratio'],\n",
       "      dtype='object')"
      ]
     },
     "execution_count": 6,
     "metadata": {},
     "output_type": "execute_result"
    }
   ],
   "source": [
    "sample.keys()"
   ]
  },
  {
   "cell_type": "code",
   "execution_count": 7,
   "metadata": {},
   "outputs": [
    {
     "data": {
      "text/plain": [
       "(9, 10)"
      ]
     },
     "execution_count": 7,
     "metadata": {},
     "output_type": "execute_result"
    }
   ],
   "source": [
    "sample.shape"
   ]
  },
  {
   "cell_type": "code",
   "execution_count": 15,
   "metadata": {},
   "outputs": [],
   "source": [
    "def compare(df, column):\n",
    "    \n",
    "    plt.figure(figsize=(12,6))\n",
    "    plt.bar(df['name'], df[column], color='skyblue', edgecolor='navy')\n",
    "    plt.title(str(column))\n",
    "    plt.xticks(rotation=45)\n",
    "    plt.show()"
   ]
  },
  {
   "cell_type": "code",
   "execution_count": 16,
   "metadata": {},
   "outputs": [
    {
     "data": {
      "image/png": "[encoded data removed]",
      "text/plain": [
       "<Figure size 864x432 with 1 Axes>"
      ]
     },
     "metadata": {
      "needs_background": "light"
     },
     "output_type": "display_data"
    }
   ],
   "source": [
    "compare(sample, 'avg_self_comment')"
   ]
  },
  {
   "cell_type": "code",
   "execution_count": 17,
   "metadata": {},
   "outputs": [
    {
     "data": {
      "image/png": "[encoded data removed]",
      "text/plain": [
       "<Figure size 864x432 with 1 Axes>"
      ]
     },
     "metadata": {
      "needs_background": "light"
     },
     "output_type": "display_data"
    }
   ],
   "source": [
    "compare(sample, 'ppl_img_ratio')"
   ]
  },
  {
   "cell_type": "code",
   "execution_count": 18,
   "metadata": {},
   "outputs": [
    {
     "data": {
      "image/png": "[encoded data removed]",
      "text/plain": [
       "<Figure size 864x432 with 1 Axes>"
      ]
     },
     "metadata": {
      "needs_background": "light"
     },
     "output_type": "display_data"
    }
   ],
   "source": [
    "compare(sample, 'avg_comment')"
   ]
  },
  {
   "cell_type": "code",
   "execution_count": 32,
   "metadata": {},
   "outputs": [],
   "source": [
    "def list_format(phrase):\n",
    "    return phrase[1:-1].replace(\"'\", \"\").replace(\" \", \"\").split(',')"
   ]
  },
  {
   "cell_type": "code",
   "execution_count": 33,
   "metadata": {},
   "outputs": [
    {
     "data": {
      "text/html": [
       "<div>\n",
       "<style scoped>\n",
       "    .dataframe tbody tr th:only-of-type {\n",
       "        vertical-align: middle;\n",
       "    }\n",
       "\n",
       "    .dataframe tbody tr th {\n",
       "        vertical-align: top;\n",
       "    }\n",
       "\n",
       "    .dataframe thead th {\n",
       "        text-align: right;\n",
       "    }\n",
       "</style>\n",
       "<table border=\"1\" class=\"dataframe\">\n",
       "  <thead>\n",
       "    <tr style=\"text-align: right;\">\n",
       "      <th></th>\n",
       "      <th>Unnamed: 0</th>\n",
       "      <th>name</th>\n",
       "      <th>youtube</th>\n",
       "      <th>avg_hashtag</th>\n",
       "      <th>avg_comment</th>\n",
       "      <th>avg_self_comment</th>\n",
       "      <th>post_interval</th>\n",
       "      <th>ppl_img_ratio</th>\n",
       "      <th>comment_user_num</th>\n",
       "      <th>lang_ratio</th>\n",
       "      <th>Lang_Ratio</th>\n",
       "    </tr>\n",
       "  </thead>\n",
       "  <tbody>\n",
       "    <tr>\n",
       "      <th>0</th>\n",
       "      <td>0</td>\n",
       "      <td>0__0man</td>\n",
       "      <td>0__0man</td>\n",
       "      <td>0.0</td>\n",
       "      <td>40.2</td>\n",
       "      <td>0.0</td>\n",
       "      <td>1.111111</td>\n",
       "      <td>0.86</td>\n",
       "      <td>{'comment1': 219, 'comment2': 31, 'comment3': ...</td>\n",
       "      <td>{'ko': '55.47', 'emoji': '44.53'}</td>\n",
       "      <td>[ko:55.47, emoji:44.53]</td>\n",
       "    </tr>\n",
       "    <tr>\n",
       "      <th>1</th>\n",
       "      <td>0</td>\n",
       "      <td>edmmer</td>\n",
       "      <td>EDMMER</td>\n",
       "      <td>0.6</td>\n",
       "      <td>24.0</td>\n",
       "      <td>3.2</td>\n",
       "      <td>1.428571</td>\n",
       "      <td>0.93</td>\n",
       "      <td>{'comment1': 107, 'comment2': 24, 'comment3': ...</td>\n",
       "      <td>{'ko': '95.00', 'emoji': '5.00'}</td>\n",
       "      <td>[ko:95.00, emoji:5.00]</td>\n",
       "    </tr>\n",
       "    <tr>\n",
       "      <th>2</th>\n",
       "      <td>0</td>\n",
       "      <td>seonozzi</td>\n",
       "      <td>JungSeonho</td>\n",
       "      <td>0.3</td>\n",
       "      <td>35.1</td>\n",
       "      <td>0.0</td>\n",
       "      <td>0.172414</td>\n",
       "      <td>0.15</td>\n",
       "      <td>{'comment1': 225, 'comment2': 34, 'comment3': ...</td>\n",
       "      <td>{'ko': '87.44', 'emoji': '12.56'}</td>\n",
       "      <td>[ko:87.44, emoji:12.56]</td>\n",
       "    </tr>\n",
       "    <tr>\n",
       "      <th>3</th>\n",
       "      <td>0</td>\n",
       "      <td>hyesunee</td>\n",
       "      <td>Mr19940711</td>\n",
       "      <td>0.9</td>\n",
       "      <td>30.7</td>\n",
       "      <td>0.0</td>\n",
       "      <td>0.588235</td>\n",
       "      <td>0.71</td>\n",
       "      <td>{'comment1': 133, 'comment2': 28, 'comment3': ...</td>\n",
       "      <td>{'ko': '83.39', 'emoji': '16.61'}</td>\n",
       "      <td>[ko:83.39, emoji:16.61]</td>\n",
       "    </tr>\n",
       "    <tr>\n",
       "      <th>4</th>\n",
       "      <td>0</td>\n",
       "      <td>hun1188</td>\n",
       "      <td>UC-6FxcmnbyVeZaYc025I_xQ</td>\n",
       "      <td>1.4</td>\n",
       "      <td>1.3</td>\n",
       "      <td>10.6</td>\n",
       "      <td>0.128205</td>\n",
       "      <td>0.67</td>\n",
       "      <td>{'comment1': 4, 'comment2': 2, 'comment3': 0, ...</td>\n",
       "      <td>{'ko': '84.62', 'emoji': '15.38'}</td>\n",
       "      <td>[ko:84.62, emoji:15.38]</td>\n",
       "    </tr>\n",
       "    <tr>\n",
       "      <th>5</th>\n",
       "      <td>0</td>\n",
       "      <td>hansangki0755</td>\n",
       "      <td>UC-IBt8pM8hWx8wiwjcDLdIQ</td>\n",
       "      <td>3.5</td>\n",
       "      <td>19.7</td>\n",
       "      <td>170.7</td>\n",
       "      <td>0.526316</td>\n",
       "      <td>0.07</td>\n",
       "      <td>{'comment1': 78, 'comment2': 23, 'comment3': 3...</td>\n",
       "      <td>{'ko': '100.00'}</td>\n",
       "      <td>[ko:100.00]</td>\n",
       "    </tr>\n",
       "    <tr>\n",
       "      <th>6</th>\n",
       "      <td>0</td>\n",
       "      <td>bellawithlucas</td>\n",
       "      <td>UC-Ju7Rpx4V9XsrLh2DXh9tw_1</td>\n",
       "      <td>1.6</td>\n",
       "      <td>11.7</td>\n",
       "      <td>11.2</td>\n",
       "      <td>0.256410</td>\n",
       "      <td>0.85</td>\n",
       "      <td>{'comment1': 46, 'comment2': 16, 'comment3': 1...</td>\n",
       "      <td>{'ko': '73.50', 'emoji': '26.50'}</td>\n",
       "      <td>[ko:73.50, emoji:26.50]</td>\n",
       "    </tr>\n",
       "    <tr>\n",
       "      <th>7</th>\n",
       "      <td>0</td>\n",
       "      <td>lucas_d.h</td>\n",
       "      <td>UC-Ju7Rpx4V9XsrLh2DXh9tw_2</td>\n",
       "      <td>2.4</td>\n",
       "      <td>7.0</td>\n",
       "      <td>242.2</td>\n",
       "      <td>0.188679</td>\n",
       "      <td>0.79</td>\n",
       "      <td>{'comment1': 49, 'comment2': 18, 'comment3': 4...</td>\n",
       "      <td>{'ko': '93.33', 'emoji': '6.67'}</td>\n",
       "      <td>[ko:93.33, emoji:6.67]</td>\n",
       "    </tr>\n",
       "    <tr>\n",
       "      <th>8</th>\n",
       "      <td>0</td>\n",
       "      <td>bellaluv90</td>\n",
       "      <td>UC-Ju7Rpx4V9XsrLh2DXh9tw_3</td>\n",
       "      <td>2.3</td>\n",
       "      <td>7.7</td>\n",
       "      <td>16.7</td>\n",
       "      <td>0.192308</td>\n",
       "      <td>0.95</td>\n",
       "      <td>{'comment1': 33, 'comment2': 12, 'comment3': 2...</td>\n",
       "      <td>{'ko': '81.82', 'emoji': '18.18'}</td>\n",
       "      <td>[ko:81.82, emoji:18.18]</td>\n",
       "    </tr>\n",
       "  </tbody>\n",
       "</table>\n",
       "</div>"
      ],
      "text/plain": [
       "   Unnamed: 0            name                     youtube  avg_hashtag  \\\n",
       "0           0         0__0man                     0__0man          0.0   \n",
       "1           0          edmmer                      EDMMER          0.6   \n",
       "2           0        seonozzi                  JungSeonho          0.3   \n",
       "3           0        hyesunee                  Mr19940711          0.9   \n",
       "4           0         hun1188    UC-6FxcmnbyVeZaYc025I_xQ          1.4   \n",
       "5           0   hansangki0755    UC-IBt8pM8hWx8wiwjcDLdIQ          3.5   \n",
       "6           0  bellawithlucas  UC-Ju7Rpx4V9XsrLh2DXh9tw_1          1.6   \n",
       "7           0       lucas_d.h  UC-Ju7Rpx4V9XsrLh2DXh9tw_2          2.4   \n",
       "8           0      bellaluv90  UC-Ju7Rpx4V9XsrLh2DXh9tw_3          2.3   \n",
       "\n",
       "   avg_comment  avg_self_comment  post_interval  ppl_img_ratio  \\\n",
       "0         40.2               0.0       1.111111           0.86   \n",
       "1         24.0               3.2       1.428571           0.93   \n",
       "2         35.1               0.0       0.172414           0.15   \n",
       "3         30.7               0.0       0.588235           0.71   \n",
       "4          1.3              10.6       0.128205           0.67   \n",
       "5         19.7             170.7       0.526316           0.07   \n",
       "6         11.7              11.2       0.256410           0.85   \n",
       "7          7.0             242.2       0.188679           0.79   \n",
       "8          7.7              16.7       0.192308           0.95   \n",
       "\n",
       "                                    comment_user_num  \\\n",
       "0  {'comment1': 219, 'comment2': 31, 'comment3': ...   \n",
       "1  {'comment1': 107, 'comment2': 24, 'comment3': ...   \n",
       "2  {'comment1': 225, 'comment2': 34, 'comment3': ...   \n",
       "3  {'comment1': 133, 'comment2': 28, 'comment3': ...   \n",
       "4  {'comment1': 4, 'comment2': 2, 'comment3': 0, ...   \n",
       "5  {'comment1': 78, 'comment2': 23, 'comment3': 3...   \n",
       "6  {'comment1': 46, 'comment2': 16, 'comment3': 1...   \n",
       "7  {'comment1': 49, 'comment2': 18, 'comment3': 4...   \n",
       "8  {'comment1': 33, 'comment2': 12, 'comment3': 2...   \n",
       "\n",
       "                          lang_ratio               Lang_Ratio  \n",
       "0  {'ko': '55.47', 'emoji': '44.53'}  [ko:55.47, emoji:44.53]  \n",
       "1   {'ko': '95.00', 'emoji': '5.00'}   [ko:95.00, emoji:5.00]  \n",
       "2  {'ko': '87.44', 'emoji': '12.56'}  [ko:87.44, emoji:12.56]  \n",
       "3  {'ko': '83.39', 'emoji': '16.61'}  [ko:83.39, emoji:16.61]  \n",
       "4  {'ko': '84.62', 'emoji': '15.38'}  [ko:84.62, emoji:15.38]  \n",
       "5                   {'ko': '100.00'}              [ko:100.00]  \n",
       "6  {'ko': '73.50', 'emoji': '26.50'}  [ko:73.50, emoji:26.50]  \n",
       "7   {'ko': '93.33', 'emoji': '6.67'}   [ko:93.33, emoji:6.67]  \n",
       "8  {'ko': '81.82', 'emoji': '18.18'}  [ko:81.82, emoji:18.18]  "
      ]
     },
     "execution_count": 33,
     "metadata": {},
     "output_type": "execute_result"
    }
   ],
   "source": [
    "sample['Lang_Ratio'] = sample['lang_ratio'].apply(list_format)\n",
    "sample"
   ]
  },
  {
   "cell_type": "code",
   "execution_count": null,
   "metadata": {},
   "outputs": [],
   "source": []
  },
  {
   "cell_type": "code",
   "execution_count": 20,
   "metadata": {},
   "outputs": [
    {
     "data": {
      "text/plain": [
       "(253, 9)"
      ]
     },
     "execution_count": 20,
     "metadata": {},
     "output_type": "execute_result"
    }
   ],
   "source": [
    "pf_i = pf.drop(columns=['Unnamed: 0'])\n",
    "pf_i.shape"
   ]
  },
  {
   "cell_type": "code",
   "execution_count": 21,
   "metadata": {},
   "outputs": [
    {
     "data": {
      "text/html": [
       "<div>\n",
       "<style scoped>\n",
       "    .dataframe tbody tr th:only-of-type {\n",
       "        vertical-align: middle;\n",
       "    }\n",
       "\n",
       "    .dataframe tbody tr th {\n",
       "        vertical-align: top;\n",
       "    }\n",
       "\n",
       "    .dataframe thead th {\n",
       "        text-align: right;\n",
       "    }\n",
       "</style>\n",
       "<table border=\"1\" class=\"dataframe\">\n",
       "  <thead>\n",
       "    <tr style=\"text-align: right;\">\n",
       "      <th></th>\n",
       "      <th>alias</th>\n",
       "      <th>username</th>\n",
       "      <th>bio</th>\n",
       "      <th>num_of_posts</th>\n",
       "      <th>followers</th>\n",
       "      <th>following</th>\n",
       "      <th>bio_url</th>\n",
       "      <th>isprivate</th>\n",
       "      <th>scraped</th>\n",
       "    </tr>\n",
       "  </thead>\n",
       "  <tbody>\n",
       "    <tr>\n",
       "      <th>0</th>\n",
       "      <td>조효진 &amp; 갱상도 화장쟁이</td>\n",
       "      <td>hyojinc_</td>\n",
       "      <td>❤️문의 : chohyojin94517@naver.com\\r\\r\\r\\nLet's b...</td>\n",
       "      <td>1684</td>\n",
       "      <td>252174</td>\n",
       "      <td>616</td>\n",
       "      <td>m.hyolic.com</td>\n",
       "      <td>False</td>\n",
       "      <td>2019-07-13 07:10:48</td>\n",
       "    </tr>\n",
       "    <tr>\n",
       "      <th>1</th>\n",
       "      <td>순이</td>\n",
       "      <td>h_ue_</td>\n",
       "      <td>NaN</td>\n",
       "      <td>141</td>\n",
       "      <td>160047</td>\n",
       "      <td>107</td>\n",
       "      <td>www.youtube.com/channel/UC24ZdEFJvYvQwqnWJodWzng</td>\n",
       "      <td>False</td>\n",
       "      <td>2019-07-13 07:10:49</td>\n",
       "    </tr>\n",
       "    <tr>\n",
       "      <th>2</th>\n",
       "      <td>김근명</td>\n",
       "      <td>guikkm</td>\n",
       "      <td>#소근커플</td>\n",
       "      <td>534</td>\n",
       "      <td>203816</td>\n",
       "      <td>159</td>\n",
       "      <td>youtube.com/c/SKCouple</td>\n",
       "      <td>False</td>\n",
       "      <td>2019-07-13 07:10:51</td>\n",
       "    </tr>\n",
       "    <tr>\n",
       "      <th>3</th>\n",
       "      <td>sky in☁️</td>\n",
       "      <td>haneulin</td>\n",
       "      <td>NaN</td>\n",
       "      <td>174</td>\n",
       "      <td>332</td>\n",
       "      <td>1456</td>\n",
       "      <td>NaN</td>\n",
       "      <td>False</td>\n",
       "      <td>2019-07-13 07:10:53</td>\n",
       "    </tr>\n",
       "    <tr>\n",
       "      <th>4</th>\n",
       "      <td>선여정</td>\n",
       "      <td>seon_y_j</td>\n",
       "      <td>NaN</td>\n",
       "      <td>1103</td>\n",
       "      <td>382058</td>\n",
       "      <td>294</td>\n",
       "      <td>NaN</td>\n",
       "      <td>False</td>\n",
       "      <td>2019-07-13 07:10:55</td>\n",
       "    </tr>\n",
       "  </tbody>\n",
       "</table>\n",
       "</div>"
      ],
      "text/plain": [
       "            alias  username  \\\n",
       "0  조효진 & 갱상도 화장쟁이  hyojinc_   \n",
       "1              순이     h_ue_   \n",
       "2             김근명    guikkm   \n",
       "3        sky in☁️  haneulin   \n",
       "4             선여정  seon_y_j   \n",
       "\n",
       "                                                 bio  num_of_posts  followers  \\\n",
       "0  ❤️문의 : chohyojin94517@naver.com\\r\\r\\r\\nLet's b...          1684     252174   \n",
       "1                                                NaN           141     160047   \n",
       "2                                              #소근커플           534     203816   \n",
       "3                                                NaN           174        332   \n",
       "4                                                NaN          1103     382058   \n",
       "\n",
       "   following                                           bio_url  isprivate  \\\n",
       "0        616                                      m.hyolic.com      False   \n",
       "1        107  www.youtube.com/channel/UC24ZdEFJvYvQwqnWJodWzng      False   \n",
       "2        159                            youtube.com/c/SKCouple      False   \n",
       "3       1456                                               NaN      False   \n",
       "4        294                                               NaN      False   \n",
       "\n",
       "               scraped  \n",
       "0  2019-07-13 07:10:48  \n",
       "1  2019-07-13 07:10:49  \n",
       "2  2019-07-13 07:10:51  \n",
       "3  2019-07-13 07:10:53  \n",
       "4  2019-07-13 07:10:55  "
      ]
     },
     "execution_count": 21,
     "metadata": {},
     "output_type": "execute_result"
    }
   ],
   "source": [
    "pf_i.head()"
   ]
  },
  {
   "cell_type": "code",
   "execution_count": 34,
   "metadata": {},
   "outputs": [
    {
     "data": {
      "text/html": [
       "<div>\n",
       "<style scoped>\n",
       "    .dataframe tbody tr th:only-of-type {\n",
       "        vertical-align: middle;\n",
       "    }\n",
       "\n",
       "    .dataframe tbody tr th {\n",
       "        vertical-align: top;\n",
       "    }\n",
       "\n",
       "    .dataframe thead th {\n",
       "        text-align: right;\n",
       "    }\n",
       "</style>\n",
       "<table border=\"1\" class=\"dataframe\">\n",
       "  <thead>\n",
       "    <tr style=\"text-align: right;\">\n",
       "      <th></th>\n",
       "      <th>Unnamed: 0</th>\n",
       "      <th>alias</th>\n",
       "      <th>username</th>\n",
       "      <th>bio</th>\n",
       "      <th>num_of_posts</th>\n",
       "      <th>followers</th>\n",
       "      <th>following</th>\n",
       "      <th>bio_url</th>\n",
       "      <th>isprivate</th>\n",
       "      <th>scraped</th>\n",
       "    </tr>\n",
       "  </thead>\n",
       "  <tbody>\n",
       "    <tr>\n",
       "      <th>0</th>\n",
       "      <td>0</td>\n",
       "      <td>조효진 &amp; 갱상도 화장쟁이</td>\n",
       "      <td>hyojinc_</td>\n",
       "      <td>❤️문의 : chohyojin94517@naver.com\\r\\r\\r\\nLet's b...</td>\n",
       "      <td>1684</td>\n",
       "      <td>252174</td>\n",
       "      <td>616</td>\n",
       "      <td>m.hyolic.com</td>\n",
       "      <td>False</td>\n",
       "      <td>2019-07-13 07:10:48</td>\n",
       "    </tr>\n",
       "    <tr>\n",
       "      <th>1</th>\n",
       "      <td>1</td>\n",
       "      <td>순이</td>\n",
       "      <td>h_ue_</td>\n",
       "      <td>NaN</td>\n",
       "      <td>141</td>\n",
       "      <td>160047</td>\n",
       "      <td>107</td>\n",
       "      <td>www.youtube.com/channel/UC24ZdEFJvYvQwqnWJodWzng</td>\n",
       "      <td>False</td>\n",
       "      <td>2019-07-13 07:10:49</td>\n",
       "    </tr>\n",
       "    <tr>\n",
       "      <th>2</th>\n",
       "      <td>2</td>\n",
       "      <td>김근명</td>\n",
       "      <td>guikkm</td>\n",
       "      <td>#소근커플</td>\n",
       "      <td>534</td>\n",
       "      <td>203816</td>\n",
       "      <td>159</td>\n",
       "      <td>youtube.com/c/SKCouple</td>\n",
       "      <td>False</td>\n",
       "      <td>2019-07-13 07:10:51</td>\n",
       "    </tr>\n",
       "  </tbody>\n",
       "</table>\n",
       "</div>"
      ],
      "text/plain": [
       "   Unnamed: 0           alias  username  \\\n",
       "0           0  조효진 & 갱상도 화장쟁이  hyojinc_   \n",
       "1           1              순이     h_ue_   \n",
       "2           2             김근명    guikkm   \n",
       "\n",
       "                                                 bio  num_of_posts  followers  \\\n",
       "0  ❤️문의 : chohyojin94517@naver.com\\r\\r\\r\\nLet's b...          1684     252174   \n",
       "1                                                NaN           141     160047   \n",
       "2                                              #소근커플           534     203816   \n",
       "\n",
       "   following                                           bio_url  isprivate  \\\n",
       "0        616                                      m.hyolic.com      False   \n",
       "1        107  www.youtube.com/channel/UC24ZdEFJvYvQwqnWJodWzng      False   \n",
       "2        159                            youtube.com/c/SKCouple      False   \n",
       "\n",
       "               scraped  \n",
       "0  2019-07-13 07:10:48  \n",
       "1  2019-07-13 07:10:49  \n",
       "2  2019-07-13 07:10:51  "
      ]
     },
     "execution_count": 34,
     "metadata": {},
     "output_type": "execute_result"
    }
   ],
   "source": [
    "pf.head(3)"
   ]
  },
  {
   "cell_type": "code",
   "execution_count": 40,
   "metadata": {},
   "outputs": [
    {
     "data": {
      "text/plain": [
       "(0, 2500)"
      ]
     },
     "execution_count": 40,
     "metadata": {},
     "output_type": "execute_result"
    },
    {
     "data": {
      "image/png": "[encoded data removed]",
      "text/plain": [
       "<Figure size 864x432 with 1 Axes>"
      ]
     },
     "metadata": {
      "needs_background": "light"
     },
     "output_type": "display_data"
    }
   ],
   "source": [
    "plt.figure(figsize=(12,6))\n",
    "plt.scatter(pf['followers'], pf['following'], color='orange')\n",
    "plt.title(\"following/followers\")\n",
    "plt.xlim(0, 600000)\n",
    "plt.ylim(0, 2500)"
   ]
  },
  {
   "cell_type": "code",
   "execution_count": null,
   "metadata": {},
   "outputs": [],
   "source": []
  }
 ],
 "metadata": {
  "kernelspec": {
   "display_name": "Python 3",
   "language": "python",
   "name": "python3"
  },
  "language_info": {
   "codemirror_mode": {
    "name": "ipython",
    "version": 3
   },
   "file_extension": ".py",
   "mimetype": "text/x-python",
   "name": "python",
   "nbconvert_exporter": "python",
   "pygments_lexer": "ipython3",
   "version": "3.6.5"
  }
 },
 "nbformat": 4,
 "nbformat_minor": 2
}
