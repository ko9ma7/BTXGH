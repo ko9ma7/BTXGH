{
 "cells": [
  {
   "cell_type": "code",
   "execution_count": null,
   "metadata": {},
   "outputs": [],
   "source": [
    "import boto3\n",
    "import json\n",
    "import pandas as pd\n",
    "from io import StringIO\n",
    "import os.path\n",
    "\n",
    "#sys.path.append(\"../\")\n",
    "from feature import *"
   ]
  },
  {
   "cell_type": "code",
   "execution_count": 13,
   "metadata": {},
   "outputs": [],
   "source": [
    "### read instagram post\n",
    "bucketName = 'instagram-post'\n",
    "s3 = boto3.resource('s3')\n",
    "my_bucket = s3.Bucket(bucketName)\n",
    "post = {}\n",
    "\n",
    "match_csv = pd.read_csv('new_instagram.csv', header = None, names = ['ID', 'username'])\n",
    "\n",
    "for json_file in my_bucket.objects.all():\n",
    "    content_object = s3.Object(bucketName, json_file.key)\n",
    "    file_content = content_object.get()['Body'].read().decode('utf-8')\n",
    "    data = json.loads(file_content)\n",
    "\n",
    "    ID = json_file.key[:-5]\n",
    "    \n",
    "    if ID not in match_csv['ID']:\n",
    "        continue\n",
    "    \n",
    "    post[ID] = data"
   ]
  },
  {
   "cell_type": "code",
   "execution_count": 23,
   "metadata": {},
   "outputs": [
    {
     "name": "stdout",
     "output_type": "stream",
     "text": [
      "dict_keys(['key', 'datetime', 'img_urls', 'img_desc', 'likes', 'caption'])\n"
     ]
    }
   ],
   "source": [
    "for key, value in post.items():\n",
    "    print(value[0].keys())\n",
    "    break"
   ]
  },
  {
   "cell_type": "code",
   "execution_count": 30,
   "metadata": {},
   "outputs": [],
   "source": [
    "match_csv = pd.read_csv('new_instagram.csv', header = None, names = ['ID', 'username'])"
   ]
  },
  {
   "cell_type": "code",
   "execution_count": 50,
   "metadata": {},
   "outputs": [
    {
     "data": {
      "text/plain": [
       "192"
      ]
     },
     "execution_count": 50,
     "metadata": {},
     "output_type": "execute_result"
    }
   ],
   "source": [
    "len(match_csv)"
   ]
  },
  {
   "cell_type": "code",
   "execution_count": 46,
   "metadata": {},
   "outputs": [],
   "source": [
    "instagram_reply = {}\n",
    "for ID, model in post.items():\n",
    "    unpacked = [p['comments'] for p in model if 'comments' in p.keys()] # first packing\n",
    "    oneself = match_csv.loc[match_csv['ID']==ID]['username'].iloc[0] # get username to check if it's self reply\n",
    "    instagram_reply[ID] = [subitem['comment'] for item in unpacked for subitem in item if subitem['author'] != oneself] "
   ]
  },
  {
   "cell_type": "code",
   "execution_count": 53,
   "metadata": {},
   "outputs": [
    {
     "data": {
      "text/plain": [
       "71"
      ]
     },
     "execution_count": 53,
     "metadata": {},
     "output_type": "execute_result"
    }
   ],
   "source": [
    "len(instagram_reply['UC-Ju7Rpx4V9XsrLh2DXh9tw_3']) # average 7.7"
   ]
  },
  {
   "cell_type": "code",
   "execution_count": 51,
   "metadata": {
    "scrolled": true
   },
   "outputs": [
    {
     "data": {
      "text/plain": [
       "dict_keys(['UC-6FxcmnbyVeZaYc025I_xQ', 'UC-IBt8pM8hWx8wiwjcDLdIQ', 'UC-Ju7Rpx4V9XsrLh2DXh9tw_1', 'UC-Ju7Rpx4V9XsrLh2DXh9tw_2', 'UC-Ju7Rpx4V9XsrLh2DXh9tw_3', 'UC0BPsIEZ5cMuedvzQO3J1jw', 'UC0L2FaavWKVvAuXZi1oPFWQ', 'UC0ssa8zC_3oif4iZcUe5VUg', 'UC1r112Pr9Ngcg2NtcE946HQ', 'UC22gayxEPsQLhZXpHDjS8Qg', 'UC24BfKRQk_5uZomn0DxW2Ew', 'UC24ZdEFJvYvQwqnWJodWzng', 'UC2QeHNJFfuQWB4cy3M-745g', 'UC2dajIvSk458lj-0GNULGeA', 'UC3l1qgrRx8vPan82wDc3kNg', 'UC4ZOrJ0xNrUsVdX64M8atHQ', 'UC4u2X5QolYdz4faUfKRm3_w', 'UC4yq3FWEWqMvFNFBsV3gbKQ', 'UC5FOkD_OiUjgCOawXaK0wCg', 'UC5Krj_2tLJgAyT7SwTsAIzQ', 'UC5aNQ65ADb02zEJxzb_zmYQ', 'UC8cscgG12KkR7-cOitqYQcg', 'UC8valWz_8jFnX4tMGCeC62w', 'UC9JlObZnbOirT4_iyPGrdcw', 'UC9edwufjEirbl9-2vns43VQ', 'UC9gW47NqzI1x7e8qsflvUUw', 'UC9nFMAQcn0bqIrEV9vUdU1g', 'UC9rpMzC-SjMSrxhQElZDzTw', 'UCB9etEztDELjmiVu8kP5R-g', 'UCBlkpX--7ZD73URbSC1oWRw', 'UCCUfsf35PukA4gEsU2hTtQg', 'UCCcE8BpgFqKRP3au8tEUrAw', 'UCCjJV_nxuPQ_fWGkAkA46fA', 'UCDMLdKoalJdyqKto6KahNGg', 'UCDVQ0yDp7Bu-BxEfelTHL8g', 'UCDdvY2ntkRKaul_OQT89jAQ', 'UCDzpa0rTkUzxhE6h6fMKOQA', 'UCENNpEHHCiZGb2dk1MHml7Q_1', 'UCENNpEHHCiZGb2dk1MHml7Q_2', 'UCEwmUXNK69iAugMEahY7glA', 'UCFIeZnCOh_7JZAgJB3XaLXw', 'UCFUpTxU3nlGed-suY-FjjxA', 'UCFzE-bjCCY-F5wmiRS2NuRg', 'UCG0JecZ4QvGGfO-asHGhCIA', 'UCHej63OZm3dh16McbdieEFQ', 'UCHpIHu4LzmNuD8bsE6mZLSA', 'UCHqvLC2ilL2M4_SpoFiWtuQ', 'UCI5NWzolgDXp6-zeZ3wQ88A', 'UCIB_oNqi62rKnPFb3Toaozw', 'UCJCNS4-1Bff7H2fzuUCZzig', 'UCJCqV1PsakBbjD0DI6KJIgQ', 'UCJKZoVf3RIMfFffjdseqdEg', 'UCJQDi71H00IXCQbxAtFem3Q', 'UCLlfMCCErVE5VaEyHxB5AgA', 'UCLvaHVogti2o0AkXoNZzeKA', 'UCMA_DTVCzlALpD8hfGmYAlg', 'UCM_4wLKpZQN16qdjcSnoHkg', 'UCN8CPzwkYiDVLZlgD4JQgJQ', 'UCO61Rl-jslhyeenfjt-NO4w', 'UCOHDZh9KGoFxmqq6tg-Cykg', 'UCOHYlves6oxhyIQBRIIpPTQ', 'UCOMG2V-vUgYX0aHiBDbBTyg', 'UCP7p2SX81x6hEXnmVDCPR7g', 'UCPVjwwmDpE6f3n9Ck2oaNTw', 'UCPpYonu8HMQCvNVcG2xYgwA', 'UCQdekhc-rky81G-0Xfng4lg', 'UCQeXy0FwvVQD1o0axg6x42A', 'UCRhdSOsdo7upnTIP7tObYnw', 'UCS5qmPFj36fK7fML6gYcZSQ', 'UCSn90DAxCF3yRs6mFK0-8TA', 'UCSw7Ts6UNnjnuzpwvUC6QTw', 'UCT4rIm6Ibb-Jb8Vj23Ur3BA', 'UCTX6zjf3dY_UEg7QuXEFkWQ', 'UCTfcXAPxCIn8fyKrRDqQ6dA', 'UCUfqoN5sUGAVXcmEe3CHKEQ', 'UCUsfRCHj5U1wAJEJiQpPLPw', 'UCVE-zq_yK_InhsVaJPQEttw', 'UCVIZWeFmvOhCjJy4tZqertw', 'UCVK9-qNbd4gi_UTby532B7Q', 'UCW-rU_ZE4dAKDejWdTAKmoA', 'UCW61wo97HWu_TmmJEOiflrw', 'UCWJBrDmcddN9KCrXBHpWmCA', 'UCWuWpKhbGev8Za4J-jfdSXw', 'UCY1Q5h_nPk3onGmTcepLorg', 'UCY2wHBgv2W30w6lqoLxq99g', 'UCYAvG7-sBBztgDtwKil1RTQ', 'UCYJDUekoQz0-bo8al1diLWQ', 'UCYJlyU_Lf33eqp6KWYONTGg', 'UCYiKn75j-BTqfWUh1Swew0Q_1', 'UCYiKn75j-BTqfWUh1Swew0Q_2', 'UCZ9vdyLmGse1LRHEY1HNYig', 'UCZSCOFQpUAN9pCdSwzBRs7g', 'UCZTjbqrV3s1zIWfEqliBhYA', 'UCZUjLw9C0Tt3VECAhQO9buA', 'UCZe_uzZ6VLMXtwW2V9-VvpQ', 'UCZnrdNaOFqniv7qEEqQFvIg', 'UC_0oo0GPlDUU88ubLDnJkSQ', 'UC_AIPNN0uH7H7p9e8lnVMVQ', 'UC_FPZVB4NDds9JUEOjmI5cQ', 'UC_iY5S04dzWViz6cOgSUpjQ', 'UC_waGdcNiCWTv1GG9OvE23A', 'UCaPQb6zHlBXzdMW_QzKh1Kw', 'UCa_ZCXMQ57PDcpE_3tPOW1g', 'UCacrG7qkY0tNtR5s4Fe_FXg', 'UCbDeLCyqxaZnLZDYpd5rnrA_1', 'UCbDeLCyqxaZnLZDYpd5rnrA_2', 'UCbOwqHbQf0uspeRe7lY8e6Q', 'UCbfRcXCHe5I2RI6F8XIUQng', 'UCdpeN8LUQJlDDbRZQTWJBmA', 'UCdqBpUglsQXOL3aBJpxnIIw', 'UCdtRAcd3L_UpV4tMXCw63NQ', 'UCelPbnoAuzgRDFJAsJ4Du7A', 'UCexnMWt_GyyAIkLCn7x36nw', 'UCgDlijNPh7yHQNv0YdL11fQ', 'UCgES377cbdgiVbLUHjHo9aA', 'UCgcJ1AA_mprxc-m9iHYdrDQ', 'UChWJavW1PbvAkPTcB06EeIg', 'UCiiC3grOarOVIg5LZgXJnWw', 'UCip2Wb2oWTMVvCaVPherr3Q', 'UCjCDp8b2wtGIiaC3ZqKomSQ', 'UCk3bmbMO_M8qrpCFHTU__AA', 'UCkGLGs2ZCNRSlOs9s-8S_qA', 'UCkQCwnkQfgSuPTTnw_Y7v7w', 'UCkQWAIUktzea2l8xT1GyVSg', 'UCkmzHPB67JpEf2S5Ux9bfDg', 'UClSFlUAMQ-Yv002g8LlCqgQ', 'UClfR70cO8tFZHNCbBZsMw0Q', 'UCm-4I6ACQ9qFj-M_8xynf5g', 'UCmgRYMK5d65PbjN8qkjAUBA', 'UCnNfsLEukKS1ExbQ4HyGjBA_1', 'UCnaGfDaiM-pM1l-SXYpq37Q', 'UCo1FPeP7toPbyxMs18Di0VQ', 'UCoc7dhgfCpAMMB6UNEdTtJQ', 'UCp94pzrtA5wPyZazbDq0CXA', 'UCqeOY0kedIjM9cfuBes4BSQ', 'UCrBpV_pG2kyMMEHCMTNzjAQ', 'UCrEhjhZS6XUaZQ0_xgKPkRQ', 'UCsU2RlGgybcLzfmBqnTx-Rw', 'UCse0BZUEgpbPyyt-S9iqttw', 'UCtCnnCUn9IDDQRU9_04JD3g', 'UCtJpqaQ0XAmX5uYZ48crOdQ', 'UCtwxuughKbSAV0e4bnz4ORg', 'UCuLHDMXUqV5JR8Qv-FpwF8g', 'UCuSaFvVbK9QpZlbn8Vf34RA', 'UCvdvPu_7TTcrZz1nGh98Sqg', 'UCw_VHcLeiSSXA8SSk0dbwkA', 'UCwjC8HF8XvKao88oJdCmJ5Q', 'UCwvuDW6OjHyAcQUms9X31dg', 'UCxeWKVovE_mKNRCwAlpL87A', 'UCxgAdCqJvjvrF7LNqSAgzSg', 'UCxmBxNybpaLO7x61dm0oD8w', 'UCxp9XKFw-lMTlIa_2yrfdqQ', 'UCxx7UvIhPkEQxaplaWS2hLg', 'UCyTQoMLiPfsRLHBJBtMXKYg_1', 'UCyTQoMLiPfsRLHBJBtMXKYg_2', 'UCybPxZoFDPR1qbN04daAc2g', 'UCz1A9dqnK1fS0f92OG_voEw', 'UCzlZ-o36GFz_hTB2br_Noow', 'UCzuVLt12gtYVshSV7s-JfZQ', 'UCzxwychp2Jv_scCVwPj2Zaw'])"
      ]
     },
     "execution_count": 51,
     "metadata": {},
     "output_type": "execute_result"
    }
   ],
   "source": [
    "instagram_reply.keys()"
   ]
  },
  {
   "cell_type": "code",
   "execution_count": null,
   "metadata": {},
   "outputs": [],
   "source": []
  }
 ],
 "metadata": {
  "kernelspec": {
   "display_name": "Python 3",
   "language": "python",
   "name": "python3"
  },
  "language_info": {
   "codemirror_mode": {
    "name": "ipython",
    "version": 3
   },
   "file_extension": ".py",
   "mimetype": "text/x-python",
   "name": "python",
   "nbconvert_exporter": "python",
   "pygments_lexer": "ipython3",
   "version": "3.6.5"
  }
 },
 "nbformat": 4,
 "nbformat_minor": 2
}
