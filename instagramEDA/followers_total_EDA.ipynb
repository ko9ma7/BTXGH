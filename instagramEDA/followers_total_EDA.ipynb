{
 "cells": [
  {
   "cell_type": "code",
   "execution_count": 1,
   "metadata": {},
   "outputs": [],
   "source": [
    "import pandas as pd\n",
    "import numpy as np\n",
    "import matplotlib.pyplot as plt"
   ]
  },
  {
   "cell_type": "code",
   "execution_count": 2,
   "metadata": {},
   "outputs": [
    {
     "data": {
      "text/html": [
       "<div>\n",
       "<style scoped>\n",
       "    .dataframe tbody tr th:only-of-type {\n",
       "        vertical-align: middle;\n",
       "    }\n",
       "\n",
       "    .dataframe tbody tr th {\n",
       "        vertical-align: top;\n",
       "    }\n",
       "\n",
       "    .dataframe thead th {\n",
       "        text-align: right;\n",
       "    }\n",
       "</style>\n",
       "<table border=\"1\" class=\"dataframe\">\n",
       "  <thead>\n",
       "    <tr style=\"text-align: right;\">\n",
       "      <th></th>\n",
       "      <th>index</th>\n",
       "      <th>alias</th>\n",
       "      <th>bio</th>\n",
       "      <th>bio_url</th>\n",
       "      <th>followers</th>\n",
       "      <th>following</th>\n",
       "      <th>isprivate</th>\n",
       "      <th>num_of_posts</th>\n",
       "      <th>scraped</th>\n",
       "      <th>username</th>\n",
       "      <th>influencer</th>\n",
       "    </tr>\n",
       "  </thead>\n",
       "  <tbody>\n",
       "    <tr>\n",
       "      <th>0</th>\n",
       "      <td>0</td>\n",
       "      <td>NaN</td>\n",
       "      <td>NaN</td>\n",
       "      <td>NaN</td>\n",
       "      <td>NaN</td>\n",
       "      <td>NaN</td>\n",
       "      <td>NaN</td>\n",
       "      <td>NaN</td>\n",
       "      <td>NaN</td>\n",
       "      <td>NaN</td>\n",
       "      <td>./crawled/crawled_the__scoop_0.csv</td>\n",
       "    </tr>\n",
       "    <tr>\n",
       "      <th>1</th>\n",
       "      <td>0              1  ...                    ...</td>\n",
       "      <td>NaN</td>\n",
       "      <td>NaN</td>\n",
       "      <td>NaN</td>\n",
       "      <td>NaN</td>\n",
       "      <td>NaN</td>\n",
       "      <td>NaN</td>\n",
       "      <td>NaN</td>\n",
       "      <td>NaN</td>\n",
       "      <td>NaN</td>\n",
       "      <td>./crawled/crawled_the__scoop_0.csv</td>\n",
       "    </tr>\n",
       "    <tr>\n",
       "      <th>2</th>\n",
       "      <td>0             1  ...                    8...</td>\n",
       "      <td>NaN</td>\n",
       "      <td>NaN</td>\n",
       "      <td>NaN</td>\n",
       "      <td>NaN</td>\n",
       "      <td>NaN</td>\n",
       "      <td>NaN</td>\n",
       "      <td>NaN</td>\n",
       "      <td>NaN</td>\n",
       "      <td>NaN</td>\n",
       "      <td>./crawled/crawled_the__scoop_0.csv</td>\n",
       "    </tr>\n",
       "    <tr>\n",
       "      <th>3</th>\n",
       "      <td>0              1  ...                    ...</td>\n",
       "      <td>NaN</td>\n",
       "      <td>NaN</td>\n",
       "      <td>NaN</td>\n",
       "      <td>NaN</td>\n",
       "      <td>NaN</td>\n",
       "      <td>NaN</td>\n",
       "      <td>NaN</td>\n",
       "      <td>NaN</td>\n",
       "      <td>NaN</td>\n",
       "      <td>./crawled/crawled_the__scoop_0.csv</td>\n",
       "    </tr>\n",
       "    <tr>\n",
       "      <th>4</th>\n",
       "      <td>0      1  ...                    8       ...</td>\n",
       "      <td>NaN</td>\n",
       "      <td>NaN</td>\n",
       "      <td>NaN</td>\n",
       "      <td>NaN</td>\n",
       "      <td>NaN</td>\n",
       "      <td>NaN</td>\n",
       "      <td>NaN</td>\n",
       "      <td>NaN</td>\n",
       "      <td>NaN</td>\n",
       "      <td>./crawled/crawled_the__scoop_0.csv</td>\n",
       "    </tr>\n",
       "  </tbody>\n",
       "</table>\n",
       "</div>"
      ],
      "text/plain": [
       "                                               index alias  bio bio_url  \\\n",
       "0                                                  0   NaN  NaN     NaN   \n",
       "1       0              1  ...                    ...   NaN  NaN     NaN   \n",
       "2       0             1  ...                    8...   NaN  NaN     NaN   \n",
       "3       0              1  ...                    ...   NaN  NaN     NaN   \n",
       "4       0      1  ...                    8       ...   NaN  NaN     NaN   \n",
       "\n",
       "  followers following isprivate num_of_posts scraped username  \\\n",
       "0       NaN       NaN       NaN          NaN     NaN      NaN   \n",
       "1       NaN       NaN       NaN          NaN     NaN      NaN   \n",
       "2       NaN       NaN       NaN          NaN     NaN      NaN   \n",
       "3       NaN       NaN       NaN          NaN     NaN      NaN   \n",
       "4       NaN       NaN       NaN          NaN     NaN      NaN   \n",
       "\n",
       "                           influencer  \n",
       "0  ./crawled/crawled_the__scoop_0.csv  \n",
       "1  ./crawled/crawled_the__scoop_0.csv  \n",
       "2  ./crawled/crawled_the__scoop_0.csv  \n",
       "3  ./crawled/crawled_the__scoop_0.csv  \n",
       "4  ./crawled/crawled_the__scoop_0.csv  "
      ]
     },
     "execution_count": 2,
     "metadata": {},
     "output_type": "execute_result"
    }
   ],
   "source": [
    "df = pd.read_csv(\"followers_total.csv\", encoding='utf-8')\n",
    "df.head()"
   ]
  },
  {
   "cell_type": "code",
   "execution_count": 3,
   "metadata": {},
   "outputs": [
    {
     "data": {
      "text/html": [
       "<div>\n",
       "<style scoped>\n",
       "    .dataframe tbody tr th:only-of-type {\n",
       "        vertical-align: middle;\n",
       "    }\n",
       "\n",
       "    .dataframe tbody tr th {\n",
       "        vertical-align: top;\n",
       "    }\n",
       "\n",
       "    .dataframe thead th {\n",
       "        text-align: right;\n",
       "    }\n",
       "</style>\n",
       "<table border=\"1\" class=\"dataframe\">\n",
       "  <thead>\n",
       "    <tr style=\"text-align: right;\">\n",
       "      <th></th>\n",
       "      <th>alias</th>\n",
       "      <th>bio</th>\n",
       "      <th>bio_url</th>\n",
       "      <th>followers</th>\n",
       "      <th>following</th>\n",
       "      <th>isprivate</th>\n",
       "      <th>num_of_posts</th>\n",
       "      <th>scraped</th>\n",
       "      <th>username</th>\n",
       "      <th>influencer</th>\n",
       "    </tr>\n",
       "  </thead>\n",
       "  <tbody>\n",
       "    <tr>\n",
       "      <th>0</th>\n",
       "      <td>Suzini// GO ON_ceramic studio</td>\n",
       "      <td>Ceramic artist</td>\n",
       "      <td>www.instagram.com/go_on_studio</td>\n",
       "      <td>107</td>\n",
       "      <td>215</td>\n",
       "      <td>False</td>\n",
       "      <td>35</td>\n",
       "      <td>2019-07-23 00:18:25</td>\n",
       "      <td>suzini89</td>\n",
       "      <td>crawled/crawled_gabiekook_0.csv</td>\n",
       "    </tr>\n",
       "    <tr>\n",
       "      <th>1</th>\n",
       "      <td>깡혜온✌</td>\n",
       "      <td>1993\\r\\nKorean\\r\\nPhotographer\\r\\nFoodie\\r\\nTr...</td>\n",
       "      <td>youtu.be/nw6vp54ghzQ</td>\n",
       "      <td>190</td>\n",
       "      <td>458</td>\n",
       "      <td>True</td>\n",
       "      <td>214</td>\n",
       "      <td>2019-07-23 00:18:32</td>\n",
       "      <td>hye_____won</td>\n",
       "      <td>crawled/crawled_gabiekook_0.csv</td>\n",
       "    </tr>\n",
       "    <tr>\n",
       "      <th>2</th>\n",
       "      <td>small fan</td>\n",
       "      <td>KING BOB 👑\\r\\nSPAMSPAMSPAM</td>\n",
       "      <td>buddymeter.com/quiz.html?q=xYqfkox</td>\n",
       "      <td>50</td>\n",
       "      <td>153</td>\n",
       "      <td>True</td>\n",
       "      <td>546</td>\n",
       "      <td>2019-07-23 00:18:33</td>\n",
       "      <td>xiao.hoeeee</td>\n",
       "      <td>crawled/crawled_gabiekook_0.csv</td>\n",
       "    </tr>\n",
       "    <tr>\n",
       "      <th>3</th>\n",
       "      <td>프리지아💚</td>\n",
       "      <td>#일상소통 공간 #데일리 감성 #먹방 #블링블링 뷰티\\r\\nღ 사대보험 요즘이거모르...</td>\n",
       "      <td>bit.ly/2FjNo1g</td>\n",
       "      <td>4597</td>\n",
       "      <td>7285</td>\n",
       "      <td>False</td>\n",
       "      <td>216</td>\n",
       "      <td>2019-07-23 00:18:41</td>\n",
       "      <td>hello_luv1004</td>\n",
       "      <td>crawled/crawled_gabiekook_0.csv</td>\n",
       "    </tr>\n",
       "    <tr>\n",
       "      <th>4</th>\n",
       "      <td>Tallita Nadine</td>\n",
       "      <td>Tallita Nadine Lasko\\r\\n01.11 ~ 96\\r\\nPharmacy...</td>\n",
       "      <td>www.facebook.com/tatanadine</td>\n",
       "      <td>2422</td>\n",
       "      <td>2944</td>\n",
       "      <td>False</td>\n",
       "      <td>936</td>\n",
       "      <td>2019-07-23 00:19:02</td>\n",
       "      <td>nana1196_</td>\n",
       "      <td>crawled/crawled_gabiekook_0.csv</td>\n",
       "    </tr>\n",
       "  </tbody>\n",
       "</table>\n",
       "</div>"
      ],
      "text/plain": [
       "                           alias  \\\n",
       "0  Suzini// GO ON_ceramic studio   \n",
       "1                           깡혜온✌   \n",
       "2                      small fan   \n",
       "3                          프리지아💚   \n",
       "4                 Tallita Nadine   \n",
       "\n",
       "                                                 bio  \\\n",
       "0                                     Ceramic artist   \n",
       "1  1993\\r\\nKorean\\r\\nPhotographer\\r\\nFoodie\\r\\nTr...   \n",
       "2                         KING BOB 👑\\r\\nSPAMSPAMSPAM   \n",
       "3  #일상소통 공간 #데일리 감성 #먹방 #블링블링 뷰티\\r\\nღ 사대보험 요즘이거모르...   \n",
       "4  Tallita Nadine Lasko\\r\\n01.11 ~ 96\\r\\nPharmacy...   \n",
       "\n",
       "                              bio_url followers following isprivate  \\\n",
       "0      www.instagram.com/go_on_studio       107       215     False   \n",
       "1                youtu.be/nw6vp54ghzQ       190       458      True   \n",
       "2  buddymeter.com/quiz.html?q=xYqfkox        50       153      True   \n",
       "3                      bit.ly/2FjNo1g      4597      7285     False   \n",
       "4         www.facebook.com/tatanadine      2422      2944     False   \n",
       "\n",
       "  num_of_posts              scraped       username  \\\n",
       "0           35  2019-07-23 00:18:25       suzini89   \n",
       "1          214  2019-07-23 00:18:32    hye_____won   \n",
       "2          546  2019-07-23 00:18:33    xiao.hoeeee   \n",
       "3          216  2019-07-23 00:18:41  hello_luv1004   \n",
       "4          936  2019-07-23 00:19:02      nana1196_   \n",
       "\n",
       "                        influencer  \n",
       "0  crawled/crawled_gabiekook_0.csv  \n",
       "1  crawled/crawled_gabiekook_0.csv  \n",
       "2  crawled/crawled_gabiekook_0.csv  \n",
       "3  crawled/crawled_gabiekook_0.csv  \n",
       "4  crawled/crawled_gabiekook_0.csv  "
      ]
     },
     "execution_count": 3,
     "metadata": {},
     "output_type": "execute_result"
    }
   ],
   "source": [
    "gato = df.dropna(how='any').reset_index(drop=True).drop(columns=['index'])\n",
    "gato.head()"
   ]
  },
  {
   "cell_type": "code",
   "execution_count": 4,
   "metadata": {},
   "outputs": [
    {
     "data": {
      "text/plain": [
       "Text(0.5, 1.0, 'following/followers')"
      ]
     },
     "execution_count": 4,
     "metadata": {},
     "output_type": "execute_result"
    },
    {
     "data": {
      "image/png": "[encoded data removed]",
      "text/plain": [
       "<Figure size 864x576 with 1 Axes>"
      ]
     },
     "metadata": {
      "needs_background": "light"
     },
     "output_type": "display_data"
    }
   ],
   "source": [
    "plt.figure(figsize=(12,8))\n",
    "plt.scatter(gato['followers'], gato['following'], color='violet')\n",
    "plt.title(\"following/followers\")"
   ]
  },
  {
   "cell_type": "code",
   "execution_count": 5,
   "metadata": {},
   "outputs": [],
   "source": [
    "def to_int(array):\n",
    "    return float(array)"
   ]
  },
  {
   "cell_type": "code",
   "execution_count": 6,
   "metadata": {},
   "outputs": [
    {
     "data": {
      "text/html": [
       "<div>\n",
       "<style scoped>\n",
       "    .dataframe tbody tr th:only-of-type {\n",
       "        vertical-align: middle;\n",
       "    }\n",
       "\n",
       "    .dataframe tbody tr th {\n",
       "        vertical-align: top;\n",
       "    }\n",
       "\n",
       "    .dataframe thead th {\n",
       "        text-align: right;\n",
       "    }\n",
       "</style>\n",
       "<table border=\"1\" class=\"dataframe\">\n",
       "  <thead>\n",
       "    <tr style=\"text-align: right;\">\n",
       "      <th></th>\n",
       "      <th>alias</th>\n",
       "      <th>bio</th>\n",
       "      <th>bio_url</th>\n",
       "      <th>followers</th>\n",
       "      <th>following</th>\n",
       "      <th>isprivate</th>\n",
       "      <th>num_of_posts</th>\n",
       "      <th>scraped</th>\n",
       "      <th>username</th>\n",
       "      <th>influencer</th>\n",
       "      <th>followers_i</th>\n",
       "      <th>following_i</th>\n",
       "    </tr>\n",
       "  </thead>\n",
       "  <tbody>\n",
       "    <tr>\n",
       "      <th>0</th>\n",
       "      <td>Suzini// GO ON_ceramic studio</td>\n",
       "      <td>Ceramic artist</td>\n",
       "      <td>www.instagram.com/go_on_studio</td>\n",
       "      <td>107</td>\n",
       "      <td>215</td>\n",
       "      <td>False</td>\n",
       "      <td>35</td>\n",
       "      <td>2019-07-23 00:18:25</td>\n",
       "      <td>suzini89</td>\n",
       "      <td>crawled/crawled_gabiekook_0.csv</td>\n",
       "      <td>107.0</td>\n",
       "      <td>215.0</td>\n",
       "    </tr>\n",
       "    <tr>\n",
       "      <th>1</th>\n",
       "      <td>깡혜온✌</td>\n",
       "      <td>1993\\r\\nKorean\\r\\nPhotographer\\r\\nFoodie\\r\\nTr...</td>\n",
       "      <td>youtu.be/nw6vp54ghzQ</td>\n",
       "      <td>190</td>\n",
       "      <td>458</td>\n",
       "      <td>True</td>\n",
       "      <td>214</td>\n",
       "      <td>2019-07-23 00:18:32</td>\n",
       "      <td>hye_____won</td>\n",
       "      <td>crawled/crawled_gabiekook_0.csv</td>\n",
       "      <td>190.0</td>\n",
       "      <td>458.0</td>\n",
       "    </tr>\n",
       "    <tr>\n",
       "      <th>2</th>\n",
       "      <td>small fan</td>\n",
       "      <td>KING BOB 👑\\r\\nSPAMSPAMSPAM</td>\n",
       "      <td>buddymeter.com/quiz.html?q=xYqfkox</td>\n",
       "      <td>50</td>\n",
       "      <td>153</td>\n",
       "      <td>True</td>\n",
       "      <td>546</td>\n",
       "      <td>2019-07-23 00:18:33</td>\n",
       "      <td>xiao.hoeeee</td>\n",
       "      <td>crawled/crawled_gabiekook_0.csv</td>\n",
       "      <td>50.0</td>\n",
       "      <td>153.0</td>\n",
       "    </tr>\n",
       "    <tr>\n",
       "      <th>3</th>\n",
       "      <td>프리지아💚</td>\n",
       "      <td>#일상소통 공간 #데일리 감성 #먹방 #블링블링 뷰티\\r\\nღ 사대보험 요즘이거모르...</td>\n",
       "      <td>bit.ly/2FjNo1g</td>\n",
       "      <td>4597</td>\n",
       "      <td>7285</td>\n",
       "      <td>False</td>\n",
       "      <td>216</td>\n",
       "      <td>2019-07-23 00:18:41</td>\n",
       "      <td>hello_luv1004</td>\n",
       "      <td>crawled/crawled_gabiekook_0.csv</td>\n",
       "      <td>4597.0</td>\n",
       "      <td>7285.0</td>\n",
       "    </tr>\n",
       "    <tr>\n",
       "      <th>4</th>\n",
       "      <td>Tallita Nadine</td>\n",
       "      <td>Tallita Nadine Lasko\\r\\n01.11 ~ 96\\r\\nPharmacy...</td>\n",
       "      <td>www.facebook.com/tatanadine</td>\n",
       "      <td>2422</td>\n",
       "      <td>2944</td>\n",
       "      <td>False</td>\n",
       "      <td>936</td>\n",
       "      <td>2019-07-23 00:19:02</td>\n",
       "      <td>nana1196_</td>\n",
       "      <td>crawled/crawled_gabiekook_0.csv</td>\n",
       "      <td>2422.0</td>\n",
       "      <td>2944.0</td>\n",
       "    </tr>\n",
       "  </tbody>\n",
       "</table>\n",
       "</div>"
      ],
      "text/plain": [
       "                           alias  \\\n",
       "0  Suzini// GO ON_ceramic studio   \n",
       "1                           깡혜온✌   \n",
       "2                      small fan   \n",
       "3                          프리지아💚   \n",
       "4                 Tallita Nadine   \n",
       "\n",
       "                                                 bio  \\\n",
       "0                                     Ceramic artist   \n",
       "1  1993\\r\\nKorean\\r\\nPhotographer\\r\\nFoodie\\r\\nTr...   \n",
       "2                         KING BOB 👑\\r\\nSPAMSPAMSPAM   \n",
       "3  #일상소통 공간 #데일리 감성 #먹방 #블링블링 뷰티\\r\\nღ 사대보험 요즘이거모르...   \n",
       "4  Tallita Nadine Lasko\\r\\n01.11 ~ 96\\r\\nPharmacy...   \n",
       "\n",
       "                              bio_url followers following isprivate  \\\n",
       "0      www.instagram.com/go_on_studio       107       215     False   \n",
       "1                youtu.be/nw6vp54ghzQ       190       458      True   \n",
       "2  buddymeter.com/quiz.html?q=xYqfkox        50       153      True   \n",
       "3                      bit.ly/2FjNo1g      4597      7285     False   \n",
       "4         www.facebook.com/tatanadine      2422      2944     False   \n",
       "\n",
       "  num_of_posts              scraped       username  \\\n",
       "0           35  2019-07-23 00:18:25       suzini89   \n",
       "1          214  2019-07-23 00:18:32    hye_____won   \n",
       "2          546  2019-07-23 00:18:33    xiao.hoeeee   \n",
       "3          216  2019-07-23 00:18:41  hello_luv1004   \n",
       "4          936  2019-07-23 00:19:02      nana1196_   \n",
       "\n",
       "                        influencer  followers_i  following_i  \n",
       "0  crawled/crawled_gabiekook_0.csv        107.0        215.0  \n",
       "1  crawled/crawled_gabiekook_0.csv        190.0        458.0  \n",
       "2  crawled/crawled_gabiekook_0.csv         50.0        153.0  \n",
       "3  crawled/crawled_gabiekook_0.csv       4597.0       7285.0  \n",
       "4  crawled/crawled_gabiekook_0.csv       2422.0       2944.0  "
      ]
     },
     "execution_count": 6,
     "metadata": {},
     "output_type": "execute_result"
    }
   ],
   "source": [
    "gato['followers_i'] = pd.to_numeric(gato['followers'], errors='coerce')\n",
    "gato['following_i'] = pd.to_numeric(gato['following'], errors='coerce')\n",
    "gato.head()"
   ]
  },
  {
   "cell_type": "code",
   "execution_count": 7,
   "metadata": {},
   "outputs": [
    {
     "data": {
      "text/html": [
       "<div>\n",
       "<style scoped>\n",
       "    .dataframe tbody tr th:only-of-type {\n",
       "        vertical-align: middle;\n",
       "    }\n",
       "\n",
       "    .dataframe tbody tr th {\n",
       "        vertical-align: top;\n",
       "    }\n",
       "\n",
       "    .dataframe thead th {\n",
       "        text-align: right;\n",
       "    }\n",
       "</style>\n",
       "<table border=\"1\" class=\"dataframe\">\n",
       "  <thead>\n",
       "    <tr style=\"text-align: right;\">\n",
       "      <th></th>\n",
       "      <th>alias</th>\n",
       "      <th>bio</th>\n",
       "      <th>bio_url</th>\n",
       "      <th>isprivate</th>\n",
       "      <th>num_of_posts</th>\n",
       "      <th>scraped</th>\n",
       "      <th>username</th>\n",
       "      <th>influencer</th>\n",
       "      <th>followers</th>\n",
       "      <th>following</th>\n",
       "    </tr>\n",
       "  </thead>\n",
       "  <tbody>\n",
       "    <tr>\n",
       "      <th>0</th>\n",
       "      <td>Suzini// GO ON_ceramic studio</td>\n",
       "      <td>Ceramic artist</td>\n",
       "      <td>www.instagram.com/go_on_studio</td>\n",
       "      <td>False</td>\n",
       "      <td>35</td>\n",
       "      <td>2019-07-23 00:18:25</td>\n",
       "      <td>suzini89</td>\n",
       "      <td>crawled/crawled_gabiekook_0.csv</td>\n",
       "      <td>107.0</td>\n",
       "      <td>215.0</td>\n",
       "    </tr>\n",
       "    <tr>\n",
       "      <th>1</th>\n",
       "      <td>깡혜온✌</td>\n",
       "      <td>1993\\r\\nKorean\\r\\nPhotographer\\r\\nFoodie\\r\\nTr...</td>\n",
       "      <td>youtu.be/nw6vp54ghzQ</td>\n",
       "      <td>True</td>\n",
       "      <td>214</td>\n",
       "      <td>2019-07-23 00:18:32</td>\n",
       "      <td>hye_____won</td>\n",
       "      <td>crawled/crawled_gabiekook_0.csv</td>\n",
       "      <td>190.0</td>\n",
       "      <td>458.0</td>\n",
       "    </tr>\n",
       "    <tr>\n",
       "      <th>2</th>\n",
       "      <td>small fan</td>\n",
       "      <td>KING BOB 👑\\r\\nSPAMSPAMSPAM</td>\n",
       "      <td>buddymeter.com/quiz.html?q=xYqfkox</td>\n",
       "      <td>True</td>\n",
       "      <td>546</td>\n",
       "      <td>2019-07-23 00:18:33</td>\n",
       "      <td>xiao.hoeeee</td>\n",
       "      <td>crawled/crawled_gabiekook_0.csv</td>\n",
       "      <td>50.0</td>\n",
       "      <td>153.0</td>\n",
       "    </tr>\n",
       "    <tr>\n",
       "      <th>3</th>\n",
       "      <td>프리지아💚</td>\n",
       "      <td>#일상소통 공간 #데일리 감성 #먹방 #블링블링 뷰티\\r\\nღ 사대보험 요즘이거모르...</td>\n",
       "      <td>bit.ly/2FjNo1g</td>\n",
       "      <td>False</td>\n",
       "      <td>216</td>\n",
       "      <td>2019-07-23 00:18:41</td>\n",
       "      <td>hello_luv1004</td>\n",
       "      <td>crawled/crawled_gabiekook_0.csv</td>\n",
       "      <td>4597.0</td>\n",
       "      <td>7285.0</td>\n",
       "    </tr>\n",
       "    <tr>\n",
       "      <th>4</th>\n",
       "      <td>Tallita Nadine</td>\n",
       "      <td>Tallita Nadine Lasko\\r\\n01.11 ~ 96\\r\\nPharmacy...</td>\n",
       "      <td>www.facebook.com/tatanadine</td>\n",
       "      <td>False</td>\n",
       "      <td>936</td>\n",
       "      <td>2019-07-23 00:19:02</td>\n",
       "      <td>nana1196_</td>\n",
       "      <td>crawled/crawled_gabiekook_0.csv</td>\n",
       "      <td>2422.0</td>\n",
       "      <td>2944.0</td>\n",
       "    </tr>\n",
       "  </tbody>\n",
       "</table>\n",
       "</div>"
      ],
      "text/plain": [
       "                           alias  \\\n",
       "0  Suzini// GO ON_ceramic studio   \n",
       "1                           깡혜온✌   \n",
       "2                      small fan   \n",
       "3                          프리지아💚   \n",
       "4                 Tallita Nadine   \n",
       "\n",
       "                                                 bio  \\\n",
       "0                                     Ceramic artist   \n",
       "1  1993\\r\\nKorean\\r\\nPhotographer\\r\\nFoodie\\r\\nTr...   \n",
       "2                         KING BOB 👑\\r\\nSPAMSPAMSPAM   \n",
       "3  #일상소통 공간 #데일리 감성 #먹방 #블링블링 뷰티\\r\\nღ 사대보험 요즘이거모르...   \n",
       "4  Tallita Nadine Lasko\\r\\n01.11 ~ 96\\r\\nPharmacy...   \n",
       "\n",
       "                              bio_url isprivate num_of_posts  \\\n",
       "0      www.instagram.com/go_on_studio     False           35   \n",
       "1                youtu.be/nw6vp54ghzQ      True          214   \n",
       "2  buddymeter.com/quiz.html?q=xYqfkox      True          546   \n",
       "3                      bit.ly/2FjNo1g     False          216   \n",
       "4         www.facebook.com/tatanadine     False          936   \n",
       "\n",
       "               scraped       username                       influencer  \\\n",
       "0  2019-07-23 00:18:25       suzini89  crawled/crawled_gabiekook_0.csv   \n",
       "1  2019-07-23 00:18:32    hye_____won  crawled/crawled_gabiekook_0.csv   \n",
       "2  2019-07-23 00:18:33    xiao.hoeeee  crawled/crawled_gabiekook_0.csv   \n",
       "3  2019-07-23 00:18:41  hello_luv1004  crawled/crawled_gabiekook_0.csv   \n",
       "4  2019-07-23 00:19:02      nana1196_  crawled/crawled_gabiekook_0.csv   \n",
       "\n",
       "   followers  following  \n",
       "0      107.0      215.0  \n",
       "1      190.0      458.0  \n",
       "2       50.0      153.0  \n",
       "3     4597.0     7285.0  \n",
       "4     2422.0     2944.0  "
      ]
     },
     "execution_count": 7,
     "metadata": {},
     "output_type": "execute_result"
    }
   ],
   "source": [
    "pero = gato.drop(columns=['followers', 'following']).rename(columns={\"followers_i\": \"followers\", \"following_i\": \"following\"})\n",
    "pero.head()"
   ]
  },
  {
   "cell_type": "code",
   "execution_count": 8,
   "metadata": {},
   "outputs": [
    {
     "data": {
      "text/plain": [
       "(0, 1000)"
      ]
     },
     "execution_count": 8,
     "metadata": {},
     "output_type": "execute_result"
    },
    {
     "data": {
      "image/png": "[encoded data removed]",
      "text/plain": [
       "<Figure size 864x576 with 1 Axes>"
      ]
     },
     "metadata": {
      "needs_background": "light"
     },
     "output_type": "display_data"
    }
   ],
   "source": [
    "plt.figure(figsize=(12,8))\n",
    "plt.scatter(pero['followers'], pero['following'], color='violet')\n",
    "plt.title('following/followers')\n",
    "plt.xlim(0, 1000)\n",
    "plt.ylim(0, 1000)"
   ]
  },
  {
   "cell_type": "code",
   "execution_count": 9,
   "metadata": {},
   "outputs": [],
   "source": [
    "def private_dum(array):\n",
    "    if array==\"False\":\n",
    "        return 0\n",
    "    elif array==\"True\":\n",
    "        return 1"
   ]
  },
  {
   "cell_type": "code",
   "execution_count": 10,
   "metadata": {},
   "outputs": [
    {
     "data": {
      "text/html": [
       "<div>\n",
       "<style scoped>\n",
       "    .dataframe tbody tr th:only-of-type {\n",
       "        vertical-align: middle;\n",
       "    }\n",
       "\n",
       "    .dataframe tbody tr th {\n",
       "        vertical-align: top;\n",
       "    }\n",
       "\n",
       "    .dataframe thead th {\n",
       "        text-align: right;\n",
       "    }\n",
       "</style>\n",
       "<table border=\"1\" class=\"dataframe\">\n",
       "  <thead>\n",
       "    <tr style=\"text-align: right;\">\n",
       "      <th></th>\n",
       "      <th>alias</th>\n",
       "      <th>bio</th>\n",
       "      <th>bio_url</th>\n",
       "      <th>isprivate</th>\n",
       "      <th>num_of_posts</th>\n",
       "      <th>scraped</th>\n",
       "      <th>username</th>\n",
       "      <th>influencer</th>\n",
       "      <th>followers</th>\n",
       "      <th>following</th>\n",
       "      <th>private_dum</th>\n",
       "    </tr>\n",
       "  </thead>\n",
       "  <tbody>\n",
       "    <tr>\n",
       "      <th>0</th>\n",
       "      <td>Suzini// GO ON_ceramic studio</td>\n",
       "      <td>Ceramic artist</td>\n",
       "      <td>www.instagram.com/go_on_studio</td>\n",
       "      <td>False</td>\n",
       "      <td>35</td>\n",
       "      <td>2019-07-23 00:18:25</td>\n",
       "      <td>suzini89</td>\n",
       "      <td>crawled/crawled_gabiekook_0.csv</td>\n",
       "      <td>107.0</td>\n",
       "      <td>215.0</td>\n",
       "      <td>0.0</td>\n",
       "    </tr>\n",
       "    <tr>\n",
       "      <th>1</th>\n",
       "      <td>깡혜온✌</td>\n",
       "      <td>1993\\r\\nKorean\\r\\nPhotographer\\r\\nFoodie\\r\\nTr...</td>\n",
       "      <td>youtu.be/nw6vp54ghzQ</td>\n",
       "      <td>True</td>\n",
       "      <td>214</td>\n",
       "      <td>2019-07-23 00:18:32</td>\n",
       "      <td>hye_____won</td>\n",
       "      <td>crawled/crawled_gabiekook_0.csv</td>\n",
       "      <td>190.0</td>\n",
       "      <td>458.0</td>\n",
       "      <td>1.0</td>\n",
       "    </tr>\n",
       "    <tr>\n",
       "      <th>2</th>\n",
       "      <td>small fan</td>\n",
       "      <td>KING BOB 👑\\r\\nSPAMSPAMSPAM</td>\n",
       "      <td>buddymeter.com/quiz.html?q=xYqfkox</td>\n",
       "      <td>True</td>\n",
       "      <td>546</td>\n",
       "      <td>2019-07-23 00:18:33</td>\n",
       "      <td>xiao.hoeeee</td>\n",
       "      <td>crawled/crawled_gabiekook_0.csv</td>\n",
       "      <td>50.0</td>\n",
       "      <td>153.0</td>\n",
       "      <td>1.0</td>\n",
       "    </tr>\n",
       "  </tbody>\n",
       "</table>\n",
       "</div>"
      ],
      "text/plain": [
       "                           alias  \\\n",
       "0  Suzini// GO ON_ceramic studio   \n",
       "1                           깡혜온✌   \n",
       "2                      small fan   \n",
       "\n",
       "                                                 bio  \\\n",
       "0                                     Ceramic artist   \n",
       "1  1993\\r\\nKorean\\r\\nPhotographer\\r\\nFoodie\\r\\nTr...   \n",
       "2                         KING BOB 👑\\r\\nSPAMSPAMSPAM   \n",
       "\n",
       "                              bio_url isprivate num_of_posts  \\\n",
       "0      www.instagram.com/go_on_studio     False           35   \n",
       "1                youtu.be/nw6vp54ghzQ      True          214   \n",
       "2  buddymeter.com/quiz.html?q=xYqfkox      True          546   \n",
       "\n",
       "               scraped     username                       influencer  \\\n",
       "0  2019-07-23 00:18:25     suzini89  crawled/crawled_gabiekook_0.csv   \n",
       "1  2019-07-23 00:18:32  hye_____won  crawled/crawled_gabiekook_0.csv   \n",
       "2  2019-07-23 00:18:33  xiao.hoeeee  crawled/crawled_gabiekook_0.csv   \n",
       "\n",
       "   followers  following  private_dum  \n",
       "0      107.0      215.0          0.0  \n",
       "1      190.0      458.0          1.0  \n",
       "2       50.0      153.0          1.0  "
      ]
     },
     "execution_count": 10,
     "metadata": {},
     "output_type": "execute_result"
    }
   ],
   "source": [
    "pero['private_dum'] = pero['isprivate'].apply(private_dum)\n",
    "pero.head(3)"
   ]
  },
  {
   "cell_type": "code",
   "execution_count": 11,
   "metadata": {},
   "outputs": [
    {
     "data": {
      "text/plain": [
       "Text(0.5, 1.0, 'private-ratio')"
      ]
     },
     "execution_count": 11,
     "metadata": {},
     "output_type": "execute_result"
    },
    {
     "data": {
      "image/png": "[encoded data removed]",
      "text/plain": [
       "<Figure size 432x432 with 1 Axes>"
      ]
     },
     "metadata": {
      "needs_background": "light"
     },
     "output_type": "display_data"
    }
   ],
   "source": [
    "val = pero.groupby('private_dum')['alias'].count()\n",
    "\n",
    "plt.figure(figsize=(6,6))\n",
    "plt.bar(['Public', 'Private'], val, color='pink', edgecolor='k')\n",
    "plt.xlabel(\"Public-Private\")\n",
    "plt.title(\"private-ratio\")"
   ]
  },
  {
   "cell_type": "code",
   "execution_count": 12,
   "metadata": {},
   "outputs": [
    {
     "data": {
      "text/plain": [
       "0                          www.instagram.com/go_on_studio\n",
       "1                                    youtu.be/nw6vp54ghzQ\n",
       "2                      buddymeter.com/quiz.html?q=xYqfkox\n",
       "3                                          bit.ly/2FjNo1g\n",
       "4                             www.facebook.com/tatanadine\n",
       "5                                 marsyasin.wordpress.com\n",
       "6                                         too.many.2d.men\n",
       "7                                     asked.kr/only061328\n",
       "8                    cargocollective.com/moranyelieosorio\n",
       "9                                    VitalBeauty.Etsy.com\n",
       "10                                     twitter.com/_kxjal\n",
       "11                                   youtu.be/0FB2EoKTK_Q\n",
       "12                              blog.naver.com/uninail601\n",
       "13       www.youtube.com/channel/UCoKDi-1KsdYjw6lap4ctXRA\n",
       "14                                    baemin.me/B191X5gV4\n",
       "15                                   youtu.be/S-2MR-_cvBQ\n",
       "16                                    www.blakstone.co.kr\n",
       "17                        www.instagram.com/karennnn___04\n",
       "18      www.youtube.com/user/rhakqjffp/videos?shelf_id...\n",
       "19                              kr00607044.mynuskin.co.kr\n",
       "20                                          www.pirnar.kr\n",
       "21                                              theint.kr\n",
       "22                                   youtu.be/RtU_mdL2vBM\n",
       "23                                   youtu.be/tCbID37PuCY\n",
       "24                   smartstore.naver.com/uzzuguri-nonsan\n",
       "25                              open.kakao.com/o/sFbWCZsb\n",
       "26                                   youtu.be/bN9FIKaRHO4\n",
       "27                                blog.naver.com/haha9326\n",
       "28                                m.blog.naver.com/aidy33\n",
       "29                   ufossalbbang.modoo.at/?link=9haqgcyk\n",
       "                              ...                        \n",
       "1153    📝네추럴인증서보유\\r\\r\\r\\r\\n🏆2019 미스터울산 피지크🥇\\r\\r\\r\\r\\n🏆...\n",
       "1154    유튜브 👉 키다리형 검색\\r\\r\\r\\r\\n마이프로틴 최종결제란에 할인코드\\r\\r\\r...\n",
       "1155    🇰🇷 수술대에서 아시아챔피언이 되기까지..\\r\\r\\r\\r\\n🏆 세계 기네스 보유자\\...\n",
       "1156    아프리카tv BJ거제폭격기 (스포츠)\\r\\r\\r\\r\\n유튜브 거제폭격기 광고문의 카...\n",
       "1157    골프를 더욱 더 즐겁게! 심짱입니다\\r\\r\\r\\r\\n길가다 보면 사진 같이 찍어요^...\n",
       "1158    👑Salon De Fit 대표\\r\\r\\r\\r\\n👑(주)SDF CEO\\r\\r\\r\\r\\...\n",
       "1159    Pilates Instructor / Youtube creator\\r\\r\\r\\r\\n...\n",
       "1160    고효주 高孝周 | @hyojooslife | Longboard | Rollerska...\n",
       "1161    - 🇰🇷Youtube creator 👋🏻\\r\\r\\r\\r\\n- @TeamLUS Coa...\n",
       "1162    아들둘키우며 막내딸 가슴에품고 운동하는 엄마💕스미\\r\\r\\r\\r\\n🍴스미식단👉🏼@s...\n",
       "1163                                             문의는 DM❗️\n",
       "1164    #네이버뷰스타\\r\\r\\r\\r\\n#필라테스\\r\\r\\r\\r\\n#무나홈트\\r\\r\\r\\r\\...\n",
       "1165    김뽀마미 악마의전신운동 저자\\r\\r\\r\\r\\n🔶홈트레이닝강사🔶️\\r\\r\\r\\r\\n필...\n",
       "1166    🇰🇷.Fine Art.20\\r\\r\\r\\r\\n협찬/촬영문의 DM\\r\\r\\r\\r\\nar...\n",
       "1167                                                문의 DM\n",
       "1168    #무진메이드 #makeup\\r\\r\\r\\r\\nYoutube🎦 ‘무진메이드’\\r\\r\\r...\n",
       "1169                                         라이프스타일 패션블로그\n",
       "1170                               모든 문의 DM 주세요 (੭>▿<)੭⁾⁾\n",
       "1171                      Black sorbet ice cream review 🖤\n",
       "1172       Only Insta and Facebook 모든 문의 DM📩\\r\\r\\r\\r\\n유튜버\n",
       "1173                 Fashion Model, Blogger\\r\\r\\r\\r\\nDM 📩\n",
       "1174                                            광고문의는 DM📩\n",
       "1175                                                    🥶\n",
       "1176                                            모든 문의는 DM\n",
       "1177    🌺@4321kg ⠀ ⠀ ⠀ ⠀ ⠀ ⠀ ⠀ ⠀ ⠀ ⠀ ⠀ ⠀ ⠀ ⠀ ⠀ ⠀ ⠀ ⠀ ⠀...\n",
       "1178           문의=DM\\r\\r\\r\\r\\n\"갱덕gangduk\" youtube channel\n",
       "1179    대니TV DANITV Youtube\\r\\r\\r\\r\\nTheGroove Company...\n",
       "1180    태도가 전부이고 습관이 곧 삶이다.\\r\\r\\r\\r\\nMY YOUTUBE CHANNE...\n",
       "1181    🎼ᴅᴀɴᴄᴇʀ ᴏғ ᴏᴠᴇʀғᴀᴛᴇ\\r\\r\\r\\r\\n🎼ᴅᴀɴᴄᴇʀ ᴏғ ᴀʙ ᴘʀᴏ...\n",
       "1182                                          @hoon.jx 🇰🇷\n",
       "Name: bio_url, Length: 1183, dtype: object"
      ]
     },
     "execution_count": 12,
     "metadata": {},
     "output_type": "execute_result"
    }
   ],
   "source": [
    "pero['bio_url']"
   ]
  },
  {
   "cell_type": "code",
   "execution_count": 13,
   "metadata": {},
   "outputs": [
    {
     "data": {
      "text/plain": [
       "'C:\\\\Users\\\\rin46\\\\Desktop\\\\btxgh\\\\instagramEDA'"
      ]
     },
     "execution_count": 13,
     "metadata": {},
     "output_type": "execute_result"
    }
   ],
   "source": [
    "import os\n",
    "os.getcwd()"
   ]
  },
  {
   "cell_type": "code",
   "execution_count": 14,
   "metadata": {},
   "outputs": [
    {
     "data": {
      "text/html": [
       "<div>\n",
       "<style scoped>\n",
       "    .dataframe tbody tr th:only-of-type {\n",
       "        vertical-align: middle;\n",
       "    }\n",
       "\n",
       "    .dataframe tbody tr th {\n",
       "        vertical-align: top;\n",
       "    }\n",
       "\n",
       "    .dataframe thead th {\n",
       "        text-align: right;\n",
       "    }\n",
       "</style>\n",
       "<table border=\"1\" class=\"dataframe\">\n",
       "  <thead>\n",
       "    <tr style=\"text-align: right;\">\n",
       "      <th></th>\n",
       "      <th>name</th>\n",
       "      <th>youtube</th>\n",
       "      <th>commenters</th>\n",
       "    </tr>\n",
       "  </thead>\n",
       "  <tbody>\n",
       "    <tr>\n",
       "      <th>0</th>\n",
       "      <td>hun1188</td>\n",
       "      <td>UC-6FxcmnbyVeZaYc025I_xQ</td>\n",
       "      <td>['presenterbruce', 'kook0526', 'carollism', 'd...</td>\n",
       "    </tr>\n",
       "    <tr>\n",
       "      <th>1</th>\n",
       "      <td>hansangki0755</td>\n",
       "      <td>UC-IBt8pM8hWx8wiwjcDLdIQ</td>\n",
       "      <td>['johnderland', 'hansangki0755', 'ham.654', 'a...</td>\n",
       "    </tr>\n",
       "    <tr>\n",
       "      <th>2</th>\n",
       "      <td>bellawithlucas</td>\n",
       "      <td>UC-Ju7Rpx4V9XsrLh2DXh9tw_1</td>\n",
       "      <td>['monicanastasia16', 'sacessahci', 'norakarona...</td>\n",
       "    </tr>\n",
       "    <tr>\n",
       "      <th>3</th>\n",
       "      <td>lucas_d.h</td>\n",
       "      <td>UC-Ju7Rpx4V9XsrLh2DXh9tw_2</td>\n",
       "      <td>['hbdwin0201', 'dw.cho', 'norakarona_', 'ssong...</td>\n",
       "    </tr>\n",
       "    <tr>\n",
       "      <th>4</th>\n",
       "      <td>bellaluv90</td>\n",
       "      <td>UC-Ju7Rpx4V9XsrLh2DXh9tw_3</td>\n",
       "      <td>['hbdwin0201', 'frhyasminn', 'soniahendrawan',...</td>\n",
       "    </tr>\n",
       "  </tbody>\n",
       "</table>\n",
       "</div>"
      ],
      "text/plain": [
       "             name                     youtube  \\\n",
       "0         hun1188    UC-6FxcmnbyVeZaYc025I_xQ   \n",
       "1   hansangki0755    UC-IBt8pM8hWx8wiwjcDLdIQ   \n",
       "2  bellawithlucas  UC-Ju7Rpx4V9XsrLh2DXh9tw_1   \n",
       "3       lucas_d.h  UC-Ju7Rpx4V9XsrLh2DXh9tw_2   \n",
       "4      bellaluv90  UC-Ju7Rpx4V9XsrLh2DXh9tw_3   \n",
       "\n",
       "                                          commenters  \n",
       "0  ['presenterbruce', 'kook0526', 'carollism', 'd...  \n",
       "1  ['johnderland', 'hansangki0755', 'ham.654', 'a...  \n",
       "2  ['monicanastasia16', 'sacessahci', 'norakarona...  \n",
       "3  ['hbdwin0201', 'dw.cho', 'norakarona_', 'ssong...  \n",
       "4  ['hbdwin0201', 'frhyasminn', 'soniahendrawan',...  "
      ]
     },
     "execution_count": 14,
     "metadata": {},
     "output_type": "execute_result"
    }
   ],
   "source": [
    "fol = pd.read_csv(\"../../influencer_commenters.csv\")\n",
    "fol.head()"
   ]
  },
  {
   "cell_type": "code",
   "execution_count": 15,
   "metadata": {},
   "outputs": [],
   "source": [
    "def list_format(phrase):\n",
    "    return phrase[1:-1].replace(\"'\", \"\").replace(\" \", \"\").split(',')"
   ]
  },
  {
   "cell_type": "code",
   "execution_count": 16,
   "metadata": {},
   "outputs": [],
   "source": [
    "fol['commenters'] = fol['commenters'].apply(list_format)"
   ]
  },
  {
   "cell_type": "code",
   "execution_count": 17,
   "metadata": {},
   "outputs": [
    {
     "data": {
      "text/html": [
       "<div>\n",
       "<style scoped>\n",
       "    .dataframe tbody tr th:only-of-type {\n",
       "        vertical-align: middle;\n",
       "    }\n",
       "\n",
       "    .dataframe tbody tr th {\n",
       "        vertical-align: top;\n",
       "    }\n",
       "\n",
       "    .dataframe thead th {\n",
       "        text-align: right;\n",
       "    }\n",
       "</style>\n",
       "<table border=\"1\" class=\"dataframe\">\n",
       "  <thead>\n",
       "    <tr style=\"text-align: right;\">\n",
       "      <th></th>\n",
       "      <th>name</th>\n",
       "      <th>youtube</th>\n",
       "      <th>commenters</th>\n",
       "    </tr>\n",
       "  </thead>\n",
       "  <tbody>\n",
       "    <tr>\n",
       "      <th>0</th>\n",
       "      <td>hun1188</td>\n",
       "      <td>UC-6FxcmnbyVeZaYc025I_xQ</td>\n",
       "      <td>[presenterbruce, kook0526, carollism, deok_yu,...</td>\n",
       "    </tr>\n",
       "    <tr>\n",
       "      <th>1</th>\n",
       "      <td>hansangki0755</td>\n",
       "      <td>UC-IBt8pM8hWx8wiwjcDLdIQ</td>\n",
       "      <td>[johnderland, hansangki0755, ham.654, awesomeb...</td>\n",
       "    </tr>\n",
       "    <tr>\n",
       "      <th>2</th>\n",
       "      <td>bellawithlucas</td>\n",
       "      <td>UC-Ju7Rpx4V9XsrLh2DXh9tw_1</td>\n",
       "      <td>[monicanastasia16, sacessahci, norakarona_, sy...</td>\n",
       "    </tr>\n",
       "    <tr>\n",
       "      <th>3</th>\n",
       "      <td>lucas_d.h</td>\n",
       "      <td>UC-Ju7Rpx4V9XsrLh2DXh9tw_2</td>\n",
       "      <td>[hbdwin0201, dw.cho, norakarona_, ssong_9o, mi...</td>\n",
       "    </tr>\n",
       "    <tr>\n",
       "      <th>4</th>\n",
       "      <td>bellaluv90</td>\n",
       "      <td>UC-Ju7Rpx4V9XsrLh2DXh9tw_3</td>\n",
       "      <td>[hbdwin0201, frhyasminn, soniahendrawan, njfor...</td>\n",
       "    </tr>\n",
       "  </tbody>\n",
       "</table>\n",
       "</div>"
      ],
      "text/plain": [
       "             name                     youtube  \\\n",
       "0         hun1188    UC-6FxcmnbyVeZaYc025I_xQ   \n",
       "1   hansangki0755    UC-IBt8pM8hWx8wiwjcDLdIQ   \n",
       "2  bellawithlucas  UC-Ju7Rpx4V9XsrLh2DXh9tw_1   \n",
       "3       lucas_d.h  UC-Ju7Rpx4V9XsrLh2DXh9tw_2   \n",
       "4      bellaluv90  UC-Ju7Rpx4V9XsrLh2DXh9tw_3   \n",
       "\n",
       "                                          commenters  \n",
       "0  [presenterbruce, kook0526, carollism, deok_yu,...  \n",
       "1  [johnderland, hansangki0755, ham.654, awesomeb...  \n",
       "2  [monicanastasia16, sacessahci, norakarona_, sy...  \n",
       "3  [hbdwin0201, dw.cho, norakarona_, ssong_9o, mi...  \n",
       "4  [hbdwin0201, frhyasminn, soniahendrawan, njfor...  "
      ]
     },
     "execution_count": 17,
     "metadata": {},
     "output_type": "execute_result"
    }
   ],
   "source": [
    "fol.head()"
   ]
  },
  {
   "cell_type": "code",
   "execution_count": 18,
   "metadata": {},
   "outputs": [],
   "source": [
    "import time"
   ]
  },
  {
   "cell_type": "code",
   "execution_count": 19,
   "metadata": {},
   "outputs": [
    {
     "name": "stdout",
     "output_type": "stream",
     "text": [
      "0.000995635986328125\n"
     ]
    }
   ],
   "source": [
    "t0 = time.time()\n",
    "les = fol['commenters'].apply(len)\n",
    "print(time.time()-t0)"
   ]
  },
  {
   "cell_type": "code",
   "execution_count": 20,
   "metadata": {},
   "outputs": [
    {
     "name": "stdout",
     "output_type": "stream",
     "text": [
      "0.04989886283874512\n"
     ]
    }
   ],
   "source": [
    "t0 = time.time()\n",
    "les = [len(fol.iloc[i]['commenters']) for i in range(len(fol))]\n",
    "print(time.time()-t0)"
   ]
  },
  {
   "cell_type": "code",
   "execution_count": 21,
   "metadata": {},
   "outputs": [
    {
     "data": {
      "text/plain": [
       "62"
      ]
     },
     "execution_count": 21,
     "metadata": {},
     "output_type": "execute_result"
    }
   ],
   "source": [
    "list(les).index(1879)"
   ]
  },
  {
   "cell_type": "code",
   "execution_count": 22,
   "metadata": {},
   "outputs": [
    {
     "data": {
      "text/plain": [
       "44.47983971950914"
      ]
     },
     "execution_count": 22,
     "metadata": {},
     "output_type": "execute_result"
    }
   ],
   "source": [
    "0.044402 / 0.00099825"
   ]
  },
  {
   "cell_type": "code",
   "execution_count": null,
   "metadata": {},
   "outputs": [],
   "source": []
  }
 ],
 "metadata": {
  "kernelspec": {
   "display_name": "Python 3",
   "language": "python",
   "name": "python3"
  },
  "language_info": {
   "codemirror_mode": {
    "name": "ipython",
    "version": 3
   },
   "file_extension": ".py",
   "mimetype": "text/x-python",
   "name": "python",
   "nbconvert_exporter": "python",
   "pygments_lexer": "ipython3",
   "version": "3.6.5"
  }
 },
 "nbformat": 4,
 "nbformat_minor": 2
}
