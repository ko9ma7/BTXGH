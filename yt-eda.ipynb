{
 "cells": [
  {
   "cell_type": "code",
   "execution_count": 1,
   "metadata": {},
   "outputs": [],
   "source": [
    "import pandas as pd\n",
    "import numpy as np\n",
    "import matplotlib.pyplot as plt\n",
    "import os\n",
    "import sys"
   ]
  },
  {
   "cell_type": "code",
   "execution_count": 2,
   "metadata": {},
   "outputs": [
    {
     "data": {
      "text/html": [
       "<div>\n",
       "<style scoped>\n",
       "    .dataframe tbody tr th:only-of-type {\n",
       "        vertical-align: middle;\n",
       "    }\n",
       "\n",
       "    .dataframe tbody tr th {\n",
       "        vertical-align: top;\n",
       "    }\n",
       "\n",
       "    .dataframe thead th {\n",
       "        text-align: right;\n",
       "    }\n",
       "</style>\n",
       "<table border=\"1\" class=\"dataframe\">\n",
       "  <thead>\n",
       "    <tr style=\"text-align: right;\">\n",
       "      <th></th>\n",
       "      <th>인덱스</th>\n",
       "      <th>장르</th>\n",
       "      <th>유튜버아이디</th>\n",
       "      <th>구독자 수</th>\n",
       "      <th>유튜브링크</th>\n",
       "      <th>인스타 링크</th>\n",
       "      <th>인스타 링크 2</th>\n",
       "      <th>인스타 링크3</th>\n",
       "    </tr>\n",
       "  </thead>\n",
       "  <tbody>\n",
       "    <tr>\n",
       "      <th>164</th>\n",
       "      <td>165</td>\n",
       "      <td>패션</td>\n",
       "      <td>Susan 조수잔</td>\n",
       "      <td>18만</td>\n",
       "      <td>UC9edwufjEirbl9-2vns43VQ</td>\n",
       "      <td>https://www.instagram.com/susansan0414/</td>\n",
       "      <td>NaN</td>\n",
       "      <td>NaN</td>\n",
       "    </tr>\n",
       "    <tr>\n",
       "      <th>21</th>\n",
       "      <td>22</td>\n",
       "      <td>코믹</td>\n",
       "      <td>quaddurup</td>\n",
       "      <td>67만</td>\n",
       "      <td>UCkQCwnkQfgSuPTTnw_Y7v7w</td>\n",
       "      <td>https://www.instagram.com/real_quaddurup/</td>\n",
       "      <td>NaN</td>\n",
       "      <td>NaN</td>\n",
       "    </tr>\n",
       "    <tr>\n",
       "      <th>200</th>\n",
       "      <td>201</td>\n",
       "      <td>스포츠</td>\n",
       "      <td>Moona workout for health</td>\n",
       "      <td>11만</td>\n",
       "      <td>UCMA_DTVCzlALpD8hfGmYAlg</td>\n",
       "      <td>https://www.instagram.com/xxdmsdudxx/</td>\n",
       "      <td>NaN</td>\n",
       "      <td>NaN</td>\n",
       "    </tr>\n",
       "    <tr>\n",
       "      <th>159</th>\n",
       "      <td>160</td>\n",
       "      <td>패션</td>\n",
       "      <td>itsjinakim</td>\n",
       "      <td>26만</td>\n",
       "      <td>UCDMLdKoalJdyqKto6KahNGg</td>\n",
       "      <td>https://www.instagram.com/itsjinakim/</td>\n",
       "      <td>NaN</td>\n",
       "      <td>NaN</td>\n",
       "    </tr>\n",
       "    <tr>\n",
       "      <th>77</th>\n",
       "      <td>78</td>\n",
       "      <td>푸드</td>\n",
       "      <td>민경장군</td>\n",
       "      <td>10만</td>\n",
       "      <td>UCuLHDMXUqV5JR8Qv-FpwF8g</td>\n",
       "      <td>https://www.instagram.com/gagkimminkyoung/</td>\n",
       "      <td>NaN</td>\n",
       "      <td>NaN</td>\n",
       "    </tr>\n",
       "    <tr>\n",
       "      <th>144</th>\n",
       "      <td>145</td>\n",
       "      <td>크리에이티브</td>\n",
       "      <td>다다리빙 DADA Living</td>\n",
       "      <td>21만</td>\n",
       "      <td>UC4ZOrJ0xNrUsVdX64M8atHQ</td>\n",
       "      <td>https://www.instagram.com/dada_living/</td>\n",
       "      <td>NaN</td>\n",
       "      <td>NaN</td>\n",
       "    </tr>\n",
       "    <tr>\n",
       "      <th>194</th>\n",
       "      <td>195</td>\n",
       "      <td>스포츠</td>\n",
       "      <td>제이제이살롱드핏</td>\n",
       "      <td>50만</td>\n",
       "      <td>UCUsfRCHj5U1wAJEJiQpPLPw</td>\n",
       "      <td>https://www.instagram.com/jjeuneu/</td>\n",
       "      <td>NaN</td>\n",
       "      <td>NaN</td>\n",
       "    </tr>\n",
       "    <tr>\n",
       "      <th>188</th>\n",
       "      <td>189</td>\n",
       "      <td>스포츠</td>\n",
       "      <td>조제알통</td>\n",
       "      <td>18만</td>\n",
       "      <td>UCUfqoN5sUGAVXcmEe3CHKEQ</td>\n",
       "      <td>https://www.instagram.com/jojae____altong/</td>\n",
       "      <td>NaN</td>\n",
       "      <td>NaN</td>\n",
       "    </tr>\n",
       "    <tr>\n",
       "      <th>14</th>\n",
       "      <td>15</td>\n",
       "      <td>브이로그</td>\n",
       "      <td>창이의일상</td>\n",
       "      <td>33만</td>\n",
       "      <td>UCZ9vdyLmGse1LRHEY1HNYig</td>\n",
       "      <td>https://www.instagram.com/bbc0526/</td>\n",
       "      <td>NaN</td>\n",
       "      <td>NaN</td>\n",
       "    </tr>\n",
       "    <tr>\n",
       "      <th>35</th>\n",
       "      <td>36</td>\n",
       "      <td>토크</td>\n",
       "      <td>거의 한국인 / Almost Koreans</td>\n",
       "      <td>12만</td>\n",
       "      <td>UCm-4I6ACQ9qFj-M_8xynf5g</td>\n",
       "      <td>https://www.instagram.com/mjangarax/</td>\n",
       "      <td>NaN</td>\n",
       "      <td>NaN</td>\n",
       "    </tr>\n",
       "  </tbody>\n",
       "</table>\n",
       "</div>"
      ],
      "text/plain": [
       "     인덱스      장르                    유튜버아이디 구독자 수                     유튜브링크  \\\n",
       "164  165      패션                 Susan 조수잔   18만  UC9edwufjEirbl9-2vns43VQ   \n",
       "21    22      코믹                 quaddurup   67만  UCkQCwnkQfgSuPTTnw_Y7v7w   \n",
       "200  201     스포츠  Moona workout for health   11만  UCMA_DTVCzlALpD8hfGmYAlg   \n",
       "159  160      패션                itsjinakim   26만  UCDMLdKoalJdyqKto6KahNGg   \n",
       "77    78      푸드                      민경장군   10만  UCuLHDMXUqV5JR8Qv-FpwF8g   \n",
       "144  145  크리에이티브          다다리빙 DADA Living   21만  UC4ZOrJ0xNrUsVdX64M8atHQ   \n",
       "194  195     스포츠                  제이제이살롱드핏   50만  UCUsfRCHj5U1wAJEJiQpPLPw   \n",
       "188  189     스포츠                      조제알통   18만  UCUfqoN5sUGAVXcmEe3CHKEQ   \n",
       "14    15    브이로그                     창이의일상   33만  UCZ9vdyLmGse1LRHEY1HNYig   \n",
       "35    36      토크   거의 한국인 / Almost Koreans   12만  UCm-4I6ACQ9qFj-M_8xynf5g   \n",
       "\n",
       "                                         인스타 링크 인스타 링크 2 인스타 링크3  \n",
       "164     https://www.instagram.com/susansan0414/      NaN     NaN  \n",
       "21    https://www.instagram.com/real_quaddurup/      NaN     NaN  \n",
       "200       https://www.instagram.com/xxdmsdudxx/      NaN     NaN  \n",
       "159       https://www.instagram.com/itsjinakim/      NaN     NaN  \n",
       "77   https://www.instagram.com/gagkimminkyoung/      NaN     NaN  \n",
       "144      https://www.instagram.com/dada_living/      NaN     NaN  \n",
       "194          https://www.instagram.com/jjeuneu/      NaN     NaN  \n",
       "188  https://www.instagram.com/jojae____altong/      NaN     NaN  \n",
       "14           https://www.instagram.com/bbc0526/      NaN     NaN  \n",
       "35         https://www.instagram.com/mjangarax/      NaN     NaN  "
      ]
     },
     "execution_count": 2,
     "metadata": {},
     "output_type": "execute_result"
    }
   ],
   "source": [
    "df = pd.read_csv('youtuber.csv', encoding='utf-8')\n",
    "df.sample(10)"
   ]
  },
  {
   "cell_type": "code",
   "execution_count": 3,
   "metadata": {},
   "outputs": [
    {
     "data": {
      "text/html": [
       "<div>\n",
       "<style scoped>\n",
       "    .dataframe tbody tr th:only-of-type {\n",
       "        vertical-align: middle;\n",
       "    }\n",
       "\n",
       "    .dataframe tbody tr th {\n",
       "        vertical-align: top;\n",
       "    }\n",
       "\n",
       "    .dataframe thead th {\n",
       "        text-align: right;\n",
       "    }\n",
       "</style>\n",
       "<table border=\"1\" class=\"dataframe\">\n",
       "  <thead>\n",
       "    <tr style=\"text-align: right;\">\n",
       "      <th></th>\n",
       "      <th>Unnamed: 0</th>\n",
       "      <th>youtuber</th>\n",
       "      <th>subscriberCount</th>\n",
       "      <th>videoCount</th>\n",
       "      <th>likeCount</th>\n",
       "      <th>dislikeCount</th>\n",
       "      <th>viewCount</th>\n",
       "      <th>commentCount</th>\n",
       "      <th>recentFrequency</th>\n",
       "      <th>idcount</th>\n",
       "      <th>cmt_with_lim</th>\n",
       "      <th>cluster</th>\n",
       "    </tr>\n",
       "  </thead>\n",
       "  <tbody>\n",
       "    <tr>\n",
       "      <th>164</th>\n",
       "      <td>164</td>\n",
       "      <td>이지쌤</td>\n",
       "      <td>70029</td>\n",
       "      <td>30</td>\n",
       "      <td>5530</td>\n",
       "      <td>38</td>\n",
       "      <td>200804</td>\n",
       "      <td>671</td>\n",
       "      <td>1.00</td>\n",
       "      <td>385</td>\n",
       "      <td>643</td>\n",
       "      <td>1</td>\n",
       "    </tr>\n",
       "    <tr>\n",
       "      <th>5</th>\n",
       "      <td>5</td>\n",
       "      <td>BellaLucas벨라앤루카스</td>\n",
       "      <td>338333</td>\n",
       "      <td>35</td>\n",
       "      <td>272446</td>\n",
       "      <td>1371</td>\n",
       "      <td>5757914</td>\n",
       "      <td>11750</td>\n",
       "      <td>1.50</td>\n",
       "      <td>2715</td>\n",
       "      <td>3365</td>\n",
       "      <td>1</td>\n",
       "    </tr>\n",
       "    <tr>\n",
       "      <th>65</th>\n",
       "      <td>65</td>\n",
       "      <td>asmr_soupe</td>\n",
       "      <td>385859</td>\n",
       "      <td>22</td>\n",
       "      <td>61869</td>\n",
       "      <td>445</td>\n",
       "      <td>2376767</td>\n",
       "      <td>8580</td>\n",
       "      <td>0.83</td>\n",
       "      <td>1545</td>\n",
       "      <td>1848</td>\n",
       "      <td>1</td>\n",
       "    </tr>\n",
       "    <tr>\n",
       "      <th>175</th>\n",
       "      <td>175</td>\n",
       "      <td>조제알통</td>\n",
       "      <td>190813</td>\n",
       "      <td>134</td>\n",
       "      <td>121864</td>\n",
       "      <td>4382</td>\n",
       "      <td>10867445</td>\n",
       "      <td>48406</td>\n",
       "      <td>5.00</td>\n",
       "      <td>7440</td>\n",
       "      <td>13031</td>\n",
       "      <td>0</td>\n",
       "    </tr>\n",
       "    <tr>\n",
       "      <th>108</th>\n",
       "      <td>108</td>\n",
       "      <td>리뷰엉이_Owls_Review</td>\n",
       "      <td>460786</td>\n",
       "      <td>46</td>\n",
       "      <td>144697</td>\n",
       "      <td>10512</td>\n",
       "      <td>15474483</td>\n",
       "      <td>76282</td>\n",
       "      <td>1.83</td>\n",
       "      <td>3869</td>\n",
       "      <td>4517</td>\n",
       "      <td>3</td>\n",
       "    </tr>\n",
       "    <tr>\n",
       "      <th>125</th>\n",
       "      <td>125</td>\n",
       "      <td>사나이김기훈</td>\n",
       "      <td>841365</td>\n",
       "      <td>151</td>\n",
       "      <td>938309</td>\n",
       "      <td>33205</td>\n",
       "      <td>96413680</td>\n",
       "      <td>106191</td>\n",
       "      <td>5.83</td>\n",
       "      <td>10360</td>\n",
       "      <td>14485</td>\n",
       "      <td>2</td>\n",
       "    </tr>\n",
       "    <tr>\n",
       "      <th>49</th>\n",
       "      <td>49</td>\n",
       "      <td>SOPHIE_BAN</td>\n",
       "      <td>184355</td>\n",
       "      <td>93</td>\n",
       "      <td>49468</td>\n",
       "      <td>900</td>\n",
       "      <td>1594941</td>\n",
       "      <td>7030</td>\n",
       "      <td>6.50</td>\n",
       "      <td>1804</td>\n",
       "      <td>6378</td>\n",
       "      <td>0</td>\n",
       "    </tr>\n",
       "    <tr>\n",
       "      <th>141</th>\n",
       "      <td>141</td>\n",
       "      <td>악어의사생활</td>\n",
       "      <td>333901</td>\n",
       "      <td>1</td>\n",
       "      <td>4090</td>\n",
       "      <td>66</td>\n",
       "      <td>198327</td>\n",
       "      <td>1181</td>\n",
       "      <td>0.00</td>\n",
       "      <td>89</td>\n",
       "      <td>99</td>\n",
       "      <td>1</td>\n",
       "    </tr>\n",
       "    <tr>\n",
       "      <th>37</th>\n",
       "      <td>37</td>\n",
       "      <td>Minjeong_Park</td>\n",
       "      <td>251631</td>\n",
       "      <td>29</td>\n",
       "      <td>44913</td>\n",
       "      <td>903</td>\n",
       "      <td>2236258</td>\n",
       "      <td>4694</td>\n",
       "      <td>1.17</td>\n",
       "      <td>1729</td>\n",
       "      <td>2653</td>\n",
       "      <td>1</td>\n",
       "    </tr>\n",
       "    <tr>\n",
       "      <th>56</th>\n",
       "      <td>56</td>\n",
       "      <td>Summer_Park</td>\n",
       "      <td>156625</td>\n",
       "      <td>22</td>\n",
       "      <td>8616</td>\n",
       "      <td>192</td>\n",
       "      <td>402517</td>\n",
       "      <td>1233</td>\n",
       "      <td>0.67</td>\n",
       "      <td>531</td>\n",
       "      <td>971</td>\n",
       "      <td>1</td>\n",
       "    </tr>\n",
       "  </tbody>\n",
       "</table>\n",
       "</div>"
      ],
      "text/plain": [
       "     Unnamed: 0          youtuber  subscriberCount  videoCount  likeCount  \\\n",
       "164         164               이지쌤            70029          30       5530   \n",
       "5             5  BellaLucas벨라앤루카스           338333          35     272446   \n",
       "65           65        asmr_soupe           385859          22      61869   \n",
       "175         175              조제알통           190813         134     121864   \n",
       "108         108  리뷰엉이_Owls_Review           460786          46     144697   \n",
       "125         125            사나이김기훈           841365         151     938309   \n",
       "49           49        SOPHIE_BAN           184355          93      49468   \n",
       "141         141            악어의사생활           333901           1       4090   \n",
       "37           37     Minjeong_Park           251631          29      44913   \n",
       "56           56       Summer_Park           156625          22       8616   \n",
       "\n",
       "     dislikeCount  viewCount  commentCount  recentFrequency  idcount  \\\n",
       "164            38     200804           671             1.00      385   \n",
       "5            1371    5757914         11750             1.50     2715   \n",
       "65            445    2376767          8580             0.83     1545   \n",
       "175          4382   10867445         48406             5.00     7440   \n",
       "108         10512   15474483         76282             1.83     3869   \n",
       "125         33205   96413680        106191             5.83    10360   \n",
       "49            900    1594941          7030             6.50     1804   \n",
       "141            66     198327          1181             0.00       89   \n",
       "37            903    2236258          4694             1.17     1729   \n",
       "56            192     402517          1233             0.67      531   \n",
       "\n",
       "     cmt_with_lim  cluster  \n",
       "164           643        1  \n",
       "5            3365        1  \n",
       "65           1848        1  \n",
       "175         13031        0  \n",
       "108          4517        3  \n",
       "125         14485        2  \n",
       "49           6378        0  \n",
       "141            99        1  \n",
       "37           2653        1  \n",
       "56            971        1  "
      ]
     },
     "execution_count": 3,
     "metadata": {},
     "output_type": "execute_result"
    }
   ],
   "source": [
    "df = pd.read_csv('youtuber_final.csv', encoding='utf-8')\n",
    "df.sample(10)"
   ]
  },
  {
   "cell_type": "code",
   "execution_count": 4,
   "metadata": {},
   "outputs": [
    {
     "data": {
      "text/html": [
       "<div>\n",
       "<style scoped>\n",
       "    .dataframe tbody tr th:only-of-type {\n",
       "        vertical-align: middle;\n",
       "    }\n",
       "\n",
       "    .dataframe tbody tr th {\n",
       "        vertical-align: top;\n",
       "    }\n",
       "\n",
       "    .dataframe thead th {\n",
       "        text-align: right;\n",
       "    }\n",
       "</style>\n",
       "<table border=\"1\" class=\"dataframe\">\n",
       "  <thead>\n",
       "    <tr style=\"text-align: right;\">\n",
       "      <th></th>\n",
       "      <th>youtuber</th>\n",
       "      <th>subscriberCount</th>\n",
       "      <th>videoCount</th>\n",
       "      <th>likeCount</th>\n",
       "      <th>dislikeCount</th>\n",
       "      <th>viewCount</th>\n",
       "      <th>commentCount</th>\n",
       "      <th>recentFrequency</th>\n",
       "      <th>idcount</th>\n",
       "      <th>cmt_with_lim</th>\n",
       "      <th>cluster</th>\n",
       "    </tr>\n",
       "  </thead>\n",
       "  <tbody>\n",
       "    <tr>\n",
       "      <th>0</th>\n",
       "      <td>72초TV</td>\n",
       "      <td>202135</td>\n",
       "      <td>38</td>\n",
       "      <td>54539</td>\n",
       "      <td>223</td>\n",
       "      <td>1305421</td>\n",
       "      <td>4733</td>\n",
       "      <td>1.0</td>\n",
       "      <td>1469</td>\n",
       "      <td>2360</td>\n",
       "      <td>1</td>\n",
       "    </tr>\n",
       "    <tr>\n",
       "      <th>1</th>\n",
       "      <td>9bul</td>\n",
       "      <td>396293</td>\n",
       "      <td>35</td>\n",
       "      <td>198301</td>\n",
       "      <td>5998</td>\n",
       "      <td>16070953</td>\n",
       "      <td>48705</td>\n",
       "      <td>1.5</td>\n",
       "      <td>2615</td>\n",
       "      <td>3465</td>\n",
       "      <td>3</td>\n",
       "    </tr>\n",
       "    <tr>\n",
       "      <th>2</th>\n",
       "      <td>AUTOSONICS오토소닉스</td>\n",
       "      <td>72889</td>\n",
       "      <td>83</td>\n",
       "      <td>63700</td>\n",
       "      <td>3145</td>\n",
       "      <td>5211301</td>\n",
       "      <td>18325</td>\n",
       "      <td>4.0</td>\n",
       "      <td>2658</td>\n",
       "      <td>7882</td>\n",
       "      <td>0</td>\n",
       "    </tr>\n",
       "    <tr>\n",
       "      <th>3</th>\n",
       "      <td>April_ASMR</td>\n",
       "      <td>433502</td>\n",
       "      <td>7</td>\n",
       "      <td>12245</td>\n",
       "      <td>600</td>\n",
       "      <td>406851</td>\n",
       "      <td>2160</td>\n",
       "      <td>0.0</td>\n",
       "      <td>554</td>\n",
       "      <td>693</td>\n",
       "      <td>1</td>\n",
       "    </tr>\n",
       "  </tbody>\n",
       "</table>\n",
       "</div>"
      ],
      "text/plain": [
       "          youtuber  subscriberCount  videoCount  likeCount  dislikeCount  \\\n",
       "0            72초TV           202135          38      54539           223   \n",
       "1             9bul           396293          35     198301          5998   \n",
       "2  AUTOSONICS오토소닉스            72889          83      63700          3145   \n",
       "3       April_ASMR           433502           7      12245           600   \n",
       "\n",
       "   viewCount  commentCount  recentFrequency  idcount  cmt_with_lim  cluster  \n",
       "0    1305421          4733              1.0     1469          2360        1  \n",
       "1   16070953         48705              1.5     2615          3465        3  \n",
       "2    5211301         18325              4.0     2658          7882        0  \n",
       "3     406851          2160              0.0      554           693        1  "
      ]
     },
     "execution_count": 4,
     "metadata": {},
     "output_type": "execute_result"
    }
   ],
   "source": [
    "df.drop(columns=['Unnamed: 0'], inplace=True)\n",
    "df.head(4)"
   ]
  },
  {
   "cell_type": "code",
   "execution_count": 31,
   "metadata": {},
   "outputs": [
    {
     "name": "stdout",
     "output_type": "stream",
     "text": [
      "Slope: 31.255\n",
      "Intercept: 12272.814\n"
     ]
    },
    {
     "data": {
      "image/png": "[encoded data removed]",
      "text/plain": [
       "<Figure size 864x432 with 1 Axes>"
      ]
     },
     "metadata": {
      "needs_background": "light"
     },
     "output_type": "display_data"
    }
   ],
   "source": [
    "ax = df['subscriberCount']\n",
    "ay = df['viewCount']\n",
    "\n",
    "plt.figure(figsize=(12,6))\n",
    "plt.scatter(ax, ay, color='orange')\n",
    "\n",
    "z = np.polyfit(ax, ay, 1)\n",
    "p = np.poly1d(z)\n",
    "plt.plot(ax,p(ax),\"r--\")\n",
    "\n",
    "plt.title('subs-view: y={0:.3f}x + {1:.3f}'.format(z[0], z[1]))\n",
    "print('Slope: {0:.3f}'.format(z[0]))\n",
    "print('Intercept: {0:.3f}'.format(z[1]))"
   ]
  },
  {
   "cell_type": "code",
   "execution_count": 6,
   "metadata": {},
   "outputs": [
    {
     "data": {
      "text/html": [
       "<div>\n",
       "<style scoped>\n",
       "    .dataframe tbody tr th:only-of-type {\n",
       "        vertical-align: middle;\n",
       "    }\n",
       "\n",
       "    .dataframe tbody tr th {\n",
       "        vertical-align: top;\n",
       "    }\n",
       "\n",
       "    .dataframe thead th {\n",
       "        text-align: right;\n",
       "    }\n",
       "</style>\n",
       "<table border=\"1\" class=\"dataframe\">\n",
       "  <thead>\n",
       "    <tr style=\"text-align: right;\">\n",
       "      <th></th>\n",
       "      <th>youtuber</th>\n",
       "      <th>subscriberCount</th>\n",
       "      <th>videoCount</th>\n",
       "      <th>likeCount</th>\n",
       "      <th>dislikeCount</th>\n",
       "      <th>viewCount</th>\n",
       "      <th>commentCount</th>\n",
       "      <th>recentFrequency</th>\n",
       "      <th>idcount</th>\n",
       "      <th>cmt_with_lim</th>\n",
       "      <th>cluster</th>\n",
       "      <th>id_con</th>\n",
       "    </tr>\n",
       "  </thead>\n",
       "  <tbody>\n",
       "    <tr>\n",
       "      <th>0</th>\n",
       "      <td>72초TV</td>\n",
       "      <td>202135</td>\n",
       "      <td>38</td>\n",
       "      <td>54539</td>\n",
       "      <td>223</td>\n",
       "      <td>1305421</td>\n",
       "      <td>4733</td>\n",
       "      <td>1.0</td>\n",
       "      <td>1469</td>\n",
       "      <td>2360</td>\n",
       "      <td>1</td>\n",
       "      <td>0.622458</td>\n",
       "    </tr>\n",
       "    <tr>\n",
       "      <th>1</th>\n",
       "      <td>9bul</td>\n",
       "      <td>396293</td>\n",
       "      <td>35</td>\n",
       "      <td>198301</td>\n",
       "      <td>5998</td>\n",
       "      <td>16070953</td>\n",
       "      <td>48705</td>\n",
       "      <td>1.5</td>\n",
       "      <td>2615</td>\n",
       "      <td>3465</td>\n",
       "      <td>3</td>\n",
       "      <td>0.754690</td>\n",
       "    </tr>\n",
       "    <tr>\n",
       "      <th>2</th>\n",
       "      <td>AUTOSONICS오토소닉스</td>\n",
       "      <td>72889</td>\n",
       "      <td>83</td>\n",
       "      <td>63700</td>\n",
       "      <td>3145</td>\n",
       "      <td>5211301</td>\n",
       "      <td>18325</td>\n",
       "      <td>4.0</td>\n",
       "      <td>2658</td>\n",
       "      <td>7882</td>\n",
       "      <td>0</td>\n",
       "      <td>0.337224</td>\n",
       "    </tr>\n",
       "  </tbody>\n",
       "</table>\n",
       "</div>"
      ],
      "text/plain": [
       "          youtuber  subscriberCount  videoCount  likeCount  dislikeCount  \\\n",
       "0            72초TV           202135          38      54539           223   \n",
       "1             9bul           396293          35     198301          5998   \n",
       "2  AUTOSONICS오토소닉스            72889          83      63700          3145   \n",
       "\n",
       "   viewCount  commentCount  recentFrequency  idcount  cmt_with_lim  cluster  \\\n",
       "0    1305421          4733              1.0     1469          2360        1   \n",
       "1   16070953         48705              1.5     2615          3465        3   \n",
       "2    5211301         18325              4.0     2658          7882        0   \n",
       "\n",
       "     id_con  \n",
       "0  0.622458  \n",
       "1  0.754690  \n",
       "2  0.337224  "
      ]
     },
     "execution_count": 6,
     "metadata": {},
     "output_type": "execute_result"
    }
   ],
   "source": [
    "df['id_con'] = df['idcount'] / df['cmt_with_lim']\n",
    "df.head(3)"
   ]
  },
  {
   "cell_type": "code",
   "execution_count": 14,
   "metadata": {},
   "outputs": [
    {
     "data": {
      "text/plain": [
       "Text(0.5, 1.0, 'subs-idcon')"
      ]
     },
     "execution_count": 14,
     "metadata": {},
     "output_type": "execute_result"
    },
    {
     "data": {
      "image/png": "[encoded data removed]",
      "text/plain": [
       "<Figure size 864x432 with 1 Axes>"
      ]
     },
     "metadata": {
      "needs_background": "light"
     },
     "output_type": "display_data"
    }
   ],
   "source": [
    "ax = df['subscriberCount']\n",
    "ay = df['id_con']\n",
    "\n",
    "plt.figure(figsize=(12,6))\n",
    "plt.scatter(ax, ay, color='skyblue')\n",
    "plt.title('subs-idcon')"
   ]
  },
  {
   "cell_type": "code",
   "execution_count": 23,
   "metadata": {},
   "outputs": [
    {
     "data": {
      "text/plain": [
       "Text(0.5, 1.0, 'Recent-View')"
      ]
     },
     "execution_count": 23,
     "metadata": {},
     "output_type": "execute_result"
    },
    {
     "data": {
      "image/png": "[encoded data removed]",
      "text/plain": [
       "<Figure size 864x432 with 1 Axes>"
      ]
     },
     "metadata": {
      "needs_background": "light"
     },
     "output_type": "display_data"
    }
   ],
   "source": [
    "ax = df['recentFrequency']\n",
    "ay = df['viewCount']\n",
    "\n",
    "plt.figure(figsize=(12,6))\n",
    "plt.scatter(ax, ay, color='pink')\n",
    "plt.xlim(0, 10)\n",
    "plt.title('Recent-View')"
   ]
  },
  {
   "cell_type": "code",
   "execution_count": 29,
   "metadata": {},
   "outputs": [
    {
     "data": {
      "text/plain": [
       "[<matplotlib.lines.Line2D at 0x2d33eff6198>]"
      ]
     },
     "execution_count": 29,
     "metadata": {},
     "output_type": "execute_result"
    },
    {
     "data": {
      "image/png": "[encoded data removed]",
      "text/plain": [
       "<Figure size 864x432 with 1 Axes>"
      ]
     },
     "metadata": {
      "needs_background": "light"
     },
     "output_type": "display_data"
    }
   ],
   "source": [
    "ax = df['recentFrequency']\n",
    "ay = df['viewCount']\n",
    "\n",
    "plt.figure(figsize=(12,6))\n",
    "plt.scatter(ax, ay, color='pink')\n",
    "plt.xlim(0, 10)\n",
    "plt.title('Recent-View: y={0:.2f}x+{1:.2f}'.format(z[0], z[1]))\n",
    "\n",
    "z = np.polyfit(ax, ay, 1)\n",
    "p = np.poly1d(z)\n",
    "plt.plot(ax, p(ax), 'r--')"
   ]
  },
  {
   "cell_type": "code",
   "execution_count": 49,
   "metadata": {},
   "outputs": [
    {
     "data": {
      "text/plain": [
       "Text(0.5, 1.0, 'id_con - viewcount')"
      ]
     },
     "execution_count": 49,
     "metadata": {},
     "output_type": "execute_result"
    },
    {
     "data": {
      "image/png": "[encoded data removed]",
      "text/plain": [
       "<Figure size 864x432 with 1 Axes>"
      ]
     },
     "metadata": {
      "needs_background": "light"
     },
     "output_type": "display_data"
    }
   ],
   "source": [
    "ax = df['id_con']\n",
    "ay = df['viewCount']\n",
    "\n",
    "plt.figure(figsize=(12,6))\n",
    "plt.scatter(ax, ay, color='violet')\n",
    "\n",
    "# Remove Outliers\n",
    "plt.ylim(0, 60000000)\n",
    "\n",
    "\n",
    "#Polyfit not working\n",
    "# z = np.polyfit(ax, ay, 1)\n",
    "# p = np.poly1d(z)\n",
    "# plt.plot(ax, p(ax), 'r--')\n",
    "# plt.title('idcon-View: y={0:.2f}x+{1:.2f}'.format(z[0], z[1]))\n",
    "\n",
    "plt.title(\"id_con - viewcount\")"
   ]
  },
  {
   "cell_type": "code",
   "execution_count": 48,
   "metadata": {},
   "outputs": [
    {
     "data": {
      "image/png": "[encoded data removed]",
      "text/plain": [
       "<Figure size 576x432 with 1 Axes>"
      ]
     },
     "metadata": {
      "needs_background": "light"
     },
     "output_type": "display_data"
    }
   ],
   "source": [
    "d1 = df[df['id_con']<=0.5]\n",
    "d2 = df[(df['id_con']>0.5) & (df['id_con']<=0.75)]\n",
    "d3 = df[df['id_con']>0.75]\n",
    "\n",
    "l = [d1, d2, d3]\n",
    "ind = [\"low(0.5)\", \"mid(0.75)\", \"high(1)\"]\n",
    "val = [x['viewCount'].mean() for x in l]\n",
    "\n",
    "plt.figure(figsize=(8,6))\n",
    "plt.bar(ind, val, color='navy')\n",
    "plt.title(\"id-concentration and viewcount\")\n",
    "plt.xlabel(\"Groups\")\n",
    "plt.ylabel(\"Viewcount\")\n",
    "plt.grid()"
   ]
  },
  {
   "cell_type": "code",
   "execution_count": 50,
   "metadata": {},
   "outputs": [
    {
     "data": {
      "text/plain": [
       "Text(0.5, 1.0, 'viewcount - id_con')"
      ]
     },
     "execution_count": 50,
     "metadata": {},
     "output_type": "execute_result"
    },
    {
     "data": {
      "image/png": "[encoded data removed]",
      "text/plain": [
       "<Figure size 864x432 with 1 Axes>"
      ]
     },
     "metadata": {
      "needs_background": "light"
     },
     "output_type": "display_data"
    }
   ],
   "source": [
    "ax = df['viewCount']\n",
    "ay = df['id_con']\n",
    "\n",
    "plt.figure(figsize=(12,6))\n",
    "plt.scatter(ax, ay, color='violet')\n",
    "\n",
    "# Remove Outliers\n",
    "plt.xlim(0, 60000000)\n",
    "\n",
    "\n",
    "#Polyfit not working\n",
    "# z = np.polyfit(ax, ay, 1)\n",
    "# p = np.poly1d(z)\n",
    "# plt.plot(ax, p(ax), 'r--')\n",
    "# plt.title('idcon-View: y={0:.2f}x+{1:.2f}'.format(z[0], z[1]))\n",
    "\n",
    "plt.title(\"viewcount - id_con\")"
   ]
  },
  {
   "cell_type": "code",
   "execution_count": null,
   "metadata": {},
   "outputs": [],
   "source": []
  }
 ],
 "metadata": {
  "kernelspec": {
   "display_name": "Python 3",
   "language": "python",
   "name": "python3"
  },
  "language_info": {
   "codemirror_mode": {
    "name": "ipython",
    "version": 3
   },
   "file_extension": ".py",
   "mimetype": "text/x-python",
   "name": "python",
   "nbconvert_exporter": "python",
   "pygments_lexer": "ipython3",
   "version": "3.7.2"
  }
 },
 "nbformat": 4,
 "nbformat_minor": 2
}
