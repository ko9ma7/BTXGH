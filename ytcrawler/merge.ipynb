{
 "cells": [
  {
   "cell_type": "code",
   "execution_count": 8,
   "metadata": {},
   "outputs": [],
   "source": [
    "import boto3\n",
    "import io\n",
    "import json\n",
    "from urllib.parse import urlparse, urlencode, parse_qs\n",
    "from urllib.request import urlopen\n",
    "from pandas import DataFrame\n",
    "import pandas as pd\n",
    "import requests\n",
    "from bs4 import BeautifulSoup as bs\n",
    "import collections\n",
    "import os\n",
    "import downloader\n",
    "import glob"
   ]
  },
  {
   "cell_type": "code",
   "execution_count": 40,
   "metadata": {},
   "outputs": [
    {
     "name": "stdout",
     "output_type": "stream",
     "text": [
      "Ha_Neul오늘의_하늘.csv\n",
      "성수커플_-_S.S_Couple.csv\n",
      "소근커플_S.K.Couple.csv\n",
      "안구정화TV,_Your_Korean_Friend.csv\n",
      "여정을떠난여정.csv\n",
      "조효진_Hyoji.csv\n"
     ]
    }
   ],
   "source": [
    "dfList=[]\n",
    "colnames = ['artist', 'vidid', 'author', 'text', 'time']\n",
    "for files in glob.glob('*.csv'):\n",
    "    if files == \"youtuber.csv\":\n",
    "        continue\n",
    "    print(files)\n",
    "    df = pd.read_csv(files, header=None)\n",
    "    dfList.append(df)\n"
   ]
  },
  {
   "cell_type": "code",
   "execution_count": 41,
   "metadata": {},
   "outputs": [
    {
     "name": "stderr",
     "output_type": "stream",
     "text": [
      "C:\\Users\\gnkwo\\Anaconda332bit\\lib\\site-packages\\ipykernel_launcher.py:2: UserWarning: Pandas doesn't allow columns to be created via a new attribute name - see https://pandas.pydata.org/pandas-docs/stable/indexing.html#attribute-access\n",
      "  \n"
     ]
    }
   ],
   "source": [
    "concatDf = pd.concat(dfList, axis=0)\n",
    "concatDf.colums = colnames"
   ]
  },
  {
   "cell_type": "code",
   "execution_count": 42,
   "metadata": {},
   "outputs": [],
   "source": [
    "concatDf.to_csv(\"youtube_comments.csv\", encoding = 'utf-8-sig')"
   ]
  },
  {
   "cell_type": "code",
   "execution_count": null,
   "metadata": {},
   "outputs": [],
   "source": []
  }
 ],
 "metadata": {
  "kernelspec": {
   "display_name": "Python 3",
   "language": "python",
   "name": "python3"
  },
  "language_info": {
   "codemirror_mode": {
    "name": "ipython",
    "version": 3
   },
   "file_extension": ".py",
   "mimetype": "text/x-python",
   "name": "python",
   "nbconvert_exporter": "python",
   "pygments_lexer": "ipython3",
   "version": "3.6.8"
  }
 },
 "nbformat": 4,
 "nbformat_minor": 2
}
